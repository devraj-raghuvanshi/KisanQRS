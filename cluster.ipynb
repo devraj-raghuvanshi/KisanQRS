{
  "cells": [
    {
      "cell_type": "code",
      "execution_count": 1,
      "metadata": {
        "id": "ab32cac7"
      },
      "outputs": [],
      "source": [
        "import numpy as np\n",
        "import pandas as pd\n",
        "import matplotlib.pyplot as plt"
      ]
    },
    {
      "cell_type": "code",
      "execution_count": 2,
      "metadata": {
        "id": "5MvXgSXMSxre",
        "colab": {
          "base_uri": "https://localhost:8080/"
        },
        "outputId": "9c921bea-cc76-4ba1-c2b9-3bd21d8a402e"
      },
      "outputs": [
        {
          "output_type": "stream",
          "name": "stdout",
          "text": [
            "Drive already mounted at /content/drive; to attempt to forcibly remount, call drive.mount(\"/content/drive\", force_remount=True).\n"
          ]
        }
      ],
      "source": [
        "from google.colab import drive\n",
        "drive.mount('/content/drive')\n",
        "mh_df_jayad = pd.read_csv('/content/drive/MyDrive/Research Project IIT-I/mh_df_60000.csv', nrows=12000)"
      ]
    },
    {
      "cell_type": "code",
      "execution_count": 3,
      "metadata": {
        "colab": {
          "base_uri": "https://localhost:8080/",
          "height": 902
        },
        "id": "tQbkbRIvW5Hb",
        "outputId": "6390d91b-ead0-4e64-8b99-622400cba25c"
      },
      "outputs": [
        {
          "output_type": "execute_result",
          "data": {
            "text/plain": [
              "       Unnamed: 0     BlockName               Category  Year  Month  Day  \\\n",
              "0        17230690      IGATPURI  Condiments and Spices  2018      3    7   \n",
              "1        17350531        BARSHI             Vegetables  2018     12    6   \n",
              "2        17477041  HIMAYATNAGAR               Oilseeds  2018      8   31   \n",
              "3        17416524        JINTUR                 Pulses  2018      7   14   \n",
              "4        17228456      NANDGAON             Vegetables  2018      2    2   \n",
              "...           ...           ...                    ...   ...    ...  ...   \n",
              "11995    17307502        SHIRUR             Vegetables  2018      8    3   \n",
              "11996    17564170      AMRAVATI               Oilseeds  2018     10   20   \n",
              "11997    17493726       NILANGA               Oilseeds  2018      7   19   \n",
              "11998    17358466      VAIJAPUR             Vegetables  2018      1   31   \n",
              "11999    21013684        NEVASA                 Fruits  2019      1   31   \n",
              "\n",
              "                              Crop DistrictName  \\\n",
              "0                        Coriander        NASIK   \n",
              "1                     Bitter Gourd      SOLAPUR   \n",
              "2                     Soybean bhat       NANDED   \n",
              "3      Green Gram Moong Bean Moong     PARBHANI   \n",
              "4                      Ridge Gourd        NASIK   \n",
              "...                            ...          ...   \n",
              "11995                      Brinjal         PUNE   \n",
              "11996                 Soybean bhat     AMRAVATI   \n",
              "11997                 Soybean bhat        LATUR   \n",
              "11998                        Onion   AURANGABAD   \n",
              "11999                        Mango   AHMADNAGAR   \n",
              "\n",
              "                                       QueryType        Sector    StateName  \\\n",
              "0      Vegetative Propagation and Tissue Culture  HORTICULTURE  MAHARASHTRA   \n",
              "1      Vegetative Propagation and Tissue Culture  HORTICULTURE  MAHARASHTRA   \n",
              "2                               Plant Protection   AGRICULTURE  MAHARASHTRA   \n",
              "3                                Weed Management   AGRICULTURE  MAHARASHTRA   \n",
              "4                                        Weather  HORTICULTURE  MAHARASHTRA   \n",
              "...                                          ...           ...          ...   \n",
              "11995                           Plant Protection  HORTICULTURE  MAHARASHTRA   \n",
              "11996                         Market Information   AGRICULTURE  MAHARASHTRA   \n",
              "11997                            Weed Management   AGRICULTURE  MAHARASHTRA   \n",
              "11998            Fertilizer Use and Availability  HORTICULTURE  MAHARASHTRA   \n",
              "11999                        Nutrient Management  HORTICULTURE  MAHARASHTRA   \n",
              "\n",
              "                                       QueryText  \\\n",
              "0                        varieties of coriander    \n",
              "1         aksed about varieties of bitter gourd    \n",
              "2         powdery or downy or blight on soybean    \n",
              "3       post emergence herbicide for green gram    \n",
              "4                      varieties of ridge gourd    \n",
              "...                                          ...   \n",
              "11995                         attack  stem borer   \n",
              "11996                     market rate of soybean   \n",
              "11997               weed management in soyabean    \n",
              "11998                  weed management in onion    \n",
              "11999                      flower drop in mango    \n",
              "\n",
              "                                                  KccAns  \n",
              "0      varieties of coriander -sugandha sudha no-65 v...  \n",
              "1      varieties of bitter gourd : - phule green gold...  \n",
              "2      spray cabriotop 45 gm15 liter of water-metiram...  \n",
              "3      post emergence herbicide for green gram - spra...  \n",
              "4      varieties of ridge gourd -jk malvika rama dhan...  \n",
              "...                                                  ...  \n",
              "11995  spray nuvan 15 ml 15lit of waterdiclorvos 76ch...  \n",
              "11996       market rate of soybean - 2725-3050 rupeesqtl  \n",
              "11997   spray pursuit imazethapyr 20 ml10 liter of water  \n",
              "11998  spray goal 20 ml 15 liters of water 21 days af...  \n",
              "11999  flower drop in mango-spray plano fix 3 ml15 li...  \n",
              "\n",
              "[12000 rows x 13 columns]"
            ],
            "text/html": [
              "\n",
              "  <div id=\"df-afabd7de-8e13-49bd-98eb-2efcabbd165b\">\n",
              "    <div class=\"colab-df-container\">\n",
              "      <div>\n",
              "<style scoped>\n",
              "    .dataframe tbody tr th:only-of-type {\n",
              "        vertical-align: middle;\n",
              "    }\n",
              "\n",
              "    .dataframe tbody tr th {\n",
              "        vertical-align: top;\n",
              "    }\n",
              "\n",
              "    .dataframe thead th {\n",
              "        text-align: right;\n",
              "    }\n",
              "</style>\n",
              "<table border=\"1\" class=\"dataframe\">\n",
              "  <thead>\n",
              "    <tr style=\"text-align: right;\">\n",
              "      <th></th>\n",
              "      <th>Unnamed: 0</th>\n",
              "      <th>BlockName</th>\n",
              "      <th>Category</th>\n",
              "      <th>Year</th>\n",
              "      <th>Month</th>\n",
              "      <th>Day</th>\n",
              "      <th>Crop</th>\n",
              "      <th>DistrictName</th>\n",
              "      <th>QueryType</th>\n",
              "      <th>Sector</th>\n",
              "      <th>StateName</th>\n",
              "      <th>QueryText</th>\n",
              "      <th>KccAns</th>\n",
              "    </tr>\n",
              "  </thead>\n",
              "  <tbody>\n",
              "    <tr>\n",
              "      <th>0</th>\n",
              "      <td>17230690</td>\n",
              "      <td>IGATPURI</td>\n",
              "      <td>Condiments and Spices</td>\n",
              "      <td>2018</td>\n",
              "      <td>3</td>\n",
              "      <td>7</td>\n",
              "      <td>Coriander</td>\n",
              "      <td>NASIK</td>\n",
              "      <td>Vegetative Propagation and Tissue Culture</td>\n",
              "      <td>HORTICULTURE</td>\n",
              "      <td>MAHARASHTRA</td>\n",
              "      <td>varieties of coriander</td>\n",
              "      <td>varieties of coriander -sugandha sudha no-65 v...</td>\n",
              "    </tr>\n",
              "    <tr>\n",
              "      <th>1</th>\n",
              "      <td>17350531</td>\n",
              "      <td>BARSHI</td>\n",
              "      <td>Vegetables</td>\n",
              "      <td>2018</td>\n",
              "      <td>12</td>\n",
              "      <td>6</td>\n",
              "      <td>Bitter Gourd</td>\n",
              "      <td>SOLAPUR</td>\n",
              "      <td>Vegetative Propagation and Tissue Culture</td>\n",
              "      <td>HORTICULTURE</td>\n",
              "      <td>MAHARASHTRA</td>\n",
              "      <td>aksed about varieties of bitter gourd</td>\n",
              "      <td>varieties of bitter gourd : - phule green gold...</td>\n",
              "    </tr>\n",
              "    <tr>\n",
              "      <th>2</th>\n",
              "      <td>17477041</td>\n",
              "      <td>HIMAYATNAGAR</td>\n",
              "      <td>Oilseeds</td>\n",
              "      <td>2018</td>\n",
              "      <td>8</td>\n",
              "      <td>31</td>\n",
              "      <td>Soybean bhat</td>\n",
              "      <td>NANDED</td>\n",
              "      <td>Plant Protection</td>\n",
              "      <td>AGRICULTURE</td>\n",
              "      <td>MAHARASHTRA</td>\n",
              "      <td>powdery or downy or blight on soybean</td>\n",
              "      <td>spray cabriotop 45 gm15 liter of water-metiram...</td>\n",
              "    </tr>\n",
              "    <tr>\n",
              "      <th>3</th>\n",
              "      <td>17416524</td>\n",
              "      <td>JINTUR</td>\n",
              "      <td>Pulses</td>\n",
              "      <td>2018</td>\n",
              "      <td>7</td>\n",
              "      <td>14</td>\n",
              "      <td>Green Gram Moong Bean Moong</td>\n",
              "      <td>PARBHANI</td>\n",
              "      <td>Weed Management</td>\n",
              "      <td>AGRICULTURE</td>\n",
              "      <td>MAHARASHTRA</td>\n",
              "      <td>post emergence herbicide for green gram</td>\n",
              "      <td>post emergence herbicide for green gram - spra...</td>\n",
              "    </tr>\n",
              "    <tr>\n",
              "      <th>4</th>\n",
              "      <td>17228456</td>\n",
              "      <td>NANDGAON</td>\n",
              "      <td>Vegetables</td>\n",
              "      <td>2018</td>\n",
              "      <td>2</td>\n",
              "      <td>2</td>\n",
              "      <td>Ridge Gourd</td>\n",
              "      <td>NASIK</td>\n",
              "      <td>Weather</td>\n",
              "      <td>HORTICULTURE</td>\n",
              "      <td>MAHARASHTRA</td>\n",
              "      <td>varieties of ridge gourd</td>\n",
              "      <td>varieties of ridge gourd -jk malvika rama dhan...</td>\n",
              "    </tr>\n",
              "    <tr>\n",
              "      <th>...</th>\n",
              "      <td>...</td>\n",
              "      <td>...</td>\n",
              "      <td>...</td>\n",
              "      <td>...</td>\n",
              "      <td>...</td>\n",
              "      <td>...</td>\n",
              "      <td>...</td>\n",
              "      <td>...</td>\n",
              "      <td>...</td>\n",
              "      <td>...</td>\n",
              "      <td>...</td>\n",
              "      <td>...</td>\n",
              "      <td>...</td>\n",
              "    </tr>\n",
              "    <tr>\n",
              "      <th>11995</th>\n",
              "      <td>17307502</td>\n",
              "      <td>SHIRUR</td>\n",
              "      <td>Vegetables</td>\n",
              "      <td>2018</td>\n",
              "      <td>8</td>\n",
              "      <td>3</td>\n",
              "      <td>Brinjal</td>\n",
              "      <td>PUNE</td>\n",
              "      <td>Plant Protection</td>\n",
              "      <td>HORTICULTURE</td>\n",
              "      <td>MAHARASHTRA</td>\n",
              "      <td>attack  stem borer</td>\n",
              "      <td>spray nuvan 15 ml 15lit of waterdiclorvos 76ch...</td>\n",
              "    </tr>\n",
              "    <tr>\n",
              "      <th>11996</th>\n",
              "      <td>17564170</td>\n",
              "      <td>AMRAVATI</td>\n",
              "      <td>Oilseeds</td>\n",
              "      <td>2018</td>\n",
              "      <td>10</td>\n",
              "      <td>20</td>\n",
              "      <td>Soybean bhat</td>\n",
              "      <td>AMRAVATI</td>\n",
              "      <td>Market Information</td>\n",
              "      <td>AGRICULTURE</td>\n",
              "      <td>MAHARASHTRA</td>\n",
              "      <td>market rate of soybean</td>\n",
              "      <td>market rate of soybean - 2725-3050 rupeesqtl</td>\n",
              "    </tr>\n",
              "    <tr>\n",
              "      <th>11997</th>\n",
              "      <td>17493726</td>\n",
              "      <td>NILANGA</td>\n",
              "      <td>Oilseeds</td>\n",
              "      <td>2018</td>\n",
              "      <td>7</td>\n",
              "      <td>19</td>\n",
              "      <td>Soybean bhat</td>\n",
              "      <td>LATUR</td>\n",
              "      <td>Weed Management</td>\n",
              "      <td>AGRICULTURE</td>\n",
              "      <td>MAHARASHTRA</td>\n",
              "      <td>weed management in soyabean</td>\n",
              "      <td>spray pursuit imazethapyr 20 ml10 liter of water</td>\n",
              "    </tr>\n",
              "    <tr>\n",
              "      <th>11998</th>\n",
              "      <td>17358466</td>\n",
              "      <td>VAIJAPUR</td>\n",
              "      <td>Vegetables</td>\n",
              "      <td>2018</td>\n",
              "      <td>1</td>\n",
              "      <td>31</td>\n",
              "      <td>Onion</td>\n",
              "      <td>AURANGABAD</td>\n",
              "      <td>Fertilizer Use and Availability</td>\n",
              "      <td>HORTICULTURE</td>\n",
              "      <td>MAHARASHTRA</td>\n",
              "      <td>weed management in onion</td>\n",
              "      <td>spray goal 20 ml 15 liters of water 21 days af...</td>\n",
              "    </tr>\n",
              "    <tr>\n",
              "      <th>11999</th>\n",
              "      <td>21013684</td>\n",
              "      <td>NEVASA</td>\n",
              "      <td>Fruits</td>\n",
              "      <td>2019</td>\n",
              "      <td>1</td>\n",
              "      <td>31</td>\n",
              "      <td>Mango</td>\n",
              "      <td>AHMADNAGAR</td>\n",
              "      <td>Nutrient Management</td>\n",
              "      <td>HORTICULTURE</td>\n",
              "      <td>MAHARASHTRA</td>\n",
              "      <td>flower drop in mango</td>\n",
              "      <td>flower drop in mango-spray plano fix 3 ml15 li...</td>\n",
              "    </tr>\n",
              "  </tbody>\n",
              "</table>\n",
              "<p>12000 rows × 13 columns</p>\n",
              "</div>\n",
              "      <button class=\"colab-df-convert\" onclick=\"convertToInteractive('df-afabd7de-8e13-49bd-98eb-2efcabbd165b')\"\n",
              "              title=\"Convert this dataframe to an interactive table.\"\n",
              "              style=\"display:none;\">\n",
              "        \n",
              "  <svg xmlns=\"http://www.w3.org/2000/svg\" height=\"24px\"viewBox=\"0 0 24 24\"\n",
              "       width=\"24px\">\n",
              "    <path d=\"M0 0h24v24H0V0z\" fill=\"none\"/>\n",
              "    <path d=\"M18.56 5.44l.94 2.06.94-2.06 2.06-.94-2.06-.94-.94-2.06-.94 2.06-2.06.94zm-11 1L8.5 8.5l.94-2.06 2.06-.94-2.06-.94L8.5 2.5l-.94 2.06-2.06.94zm10 10l.94 2.06.94-2.06 2.06-.94-2.06-.94-.94-2.06-.94 2.06-2.06.94z\"/><path d=\"M17.41 7.96l-1.37-1.37c-.4-.4-.92-.59-1.43-.59-.52 0-1.04.2-1.43.59L10.3 9.45l-7.72 7.72c-.78.78-.78 2.05 0 2.83L4 21.41c.39.39.9.59 1.41.59.51 0 1.02-.2 1.41-.59l7.78-7.78 2.81-2.81c.8-.78.8-2.07 0-2.86zM5.41 20L4 18.59l7.72-7.72 1.47 1.35L5.41 20z\"/>\n",
              "  </svg>\n",
              "      </button>\n",
              "      \n",
              "  <style>\n",
              "    .colab-df-container {\n",
              "      display:flex;\n",
              "      flex-wrap:wrap;\n",
              "      gap: 12px;\n",
              "    }\n",
              "\n",
              "    .colab-df-convert {\n",
              "      background-color: #E8F0FE;\n",
              "      border: none;\n",
              "      border-radius: 50%;\n",
              "      cursor: pointer;\n",
              "      display: none;\n",
              "      fill: #1967D2;\n",
              "      height: 32px;\n",
              "      padding: 0 0 0 0;\n",
              "      width: 32px;\n",
              "    }\n",
              "\n",
              "    .colab-df-convert:hover {\n",
              "      background-color: #E2EBFA;\n",
              "      box-shadow: 0px 1px 2px rgba(60, 64, 67, 0.3), 0px 1px 3px 1px rgba(60, 64, 67, 0.15);\n",
              "      fill: #174EA6;\n",
              "    }\n",
              "\n",
              "    [theme=dark] .colab-df-convert {\n",
              "      background-color: #3B4455;\n",
              "      fill: #D2E3FC;\n",
              "    }\n",
              "\n",
              "    [theme=dark] .colab-df-convert:hover {\n",
              "      background-color: #434B5C;\n",
              "      box-shadow: 0px 1px 3px 1px rgba(0, 0, 0, 0.15);\n",
              "      filter: drop-shadow(0px 1px 2px rgba(0, 0, 0, 0.3));\n",
              "      fill: #FFFFFF;\n",
              "    }\n",
              "  </style>\n",
              "\n",
              "      <script>\n",
              "        const buttonEl =\n",
              "          document.querySelector('#df-afabd7de-8e13-49bd-98eb-2efcabbd165b button.colab-df-convert');\n",
              "        buttonEl.style.display =\n",
              "          google.colab.kernel.accessAllowed ? 'block' : 'none';\n",
              "\n",
              "        async function convertToInteractive(key) {\n",
              "          const element = document.querySelector('#df-afabd7de-8e13-49bd-98eb-2efcabbd165b');\n",
              "          const dataTable =\n",
              "            await google.colab.kernel.invokeFunction('convertToInteractive',\n",
              "                                                     [key], {});\n",
              "          if (!dataTable) return;\n",
              "\n",
              "          const docLinkHtml = 'Like what you see? Visit the ' +\n",
              "            '<a target=\"_blank\" href=https://colab.research.google.com/notebooks/data_table.ipynb>data table notebook</a>'\n",
              "            + ' to learn more about interactive tables.';\n",
              "          element.innerHTML = '';\n",
              "          dataTable['output_type'] = 'display_data';\n",
              "          await google.colab.output.renderOutput(dataTable, element);\n",
              "          const docLink = document.createElement('div');\n",
              "          docLink.innerHTML = docLinkHtml;\n",
              "          element.appendChild(docLink);\n",
              "        }\n",
              "      </script>\n",
              "    </div>\n",
              "  </div>\n",
              "  "
            ]
          },
          "metadata": {},
          "execution_count": 3
        }
      ],
      "source": [
        "mh_df_jayad"
      ]
    },
    {
      "cell_type": "code",
      "execution_count": 4,
      "metadata": {
        "id": "xX_ztNKDw65Q"
      },
      "outputs": [],
      "source": [
        "mh_df_jayad.rename(columns = {'Unnamed: 0':'index'}, inplace = True)"
      ]
    },
    {
      "cell_type": "code",
      "execution_count": 5,
      "metadata": {
        "id": "dJAiHfLKbdRA"
      },
      "outputs": [],
      "source": [
        "#change the number of rows\n",
        "\n",
        "mh_df_jayad_10000 = mh_df_jayad"
      ]
    },
    {
      "cell_type": "code",
      "execution_count": 6,
      "metadata": {
        "colab": {
          "base_uri": "https://localhost:8080/",
          "height": 867
        },
        "id": "usvVOhNIjdum",
        "outputId": "ba60d5ad-6185-48d5-e476-b33544c29cc8"
      },
      "outputs": [
        {
          "output_type": "execute_result",
          "data": {
            "text/plain": [
              "          index     BlockName               Category  Year  Month  Day  \\\n",
              "0      17230690      IGATPURI  Condiments and Spices  2018      3    7   \n",
              "1      17350531        BARSHI             Vegetables  2018     12    6   \n",
              "2      17477041  HIMAYATNAGAR               Oilseeds  2018      8   31   \n",
              "3      17416524        JINTUR                 Pulses  2018      7   14   \n",
              "4      17228456      NANDGAON             Vegetables  2018      2    2   \n",
              "...         ...           ...                    ...   ...    ...  ...   \n",
              "11995  17307502        SHIRUR             Vegetables  2018      8    3   \n",
              "11996  17564170      AMRAVATI               Oilseeds  2018     10   20   \n",
              "11997  17493726       NILANGA               Oilseeds  2018      7   19   \n",
              "11998  17358466      VAIJAPUR             Vegetables  2018      1   31   \n",
              "11999  21013684        NEVASA                 Fruits  2019      1   31   \n",
              "\n",
              "                              Crop DistrictName  \\\n",
              "0                        Coriander        NASIK   \n",
              "1                     Bitter Gourd      SOLAPUR   \n",
              "2                     Soybean bhat       NANDED   \n",
              "3      Green Gram Moong Bean Moong     PARBHANI   \n",
              "4                      Ridge Gourd        NASIK   \n",
              "...                            ...          ...   \n",
              "11995                      Brinjal         PUNE   \n",
              "11996                 Soybean bhat     AMRAVATI   \n",
              "11997                 Soybean bhat        LATUR   \n",
              "11998                        Onion   AURANGABAD   \n",
              "11999                        Mango   AHMADNAGAR   \n",
              "\n",
              "                                       QueryType        Sector    StateName  \\\n",
              "0      Vegetative Propagation and Tissue Culture  HORTICULTURE  MAHARASHTRA   \n",
              "1      Vegetative Propagation and Tissue Culture  HORTICULTURE  MAHARASHTRA   \n",
              "2                               Plant Protection   AGRICULTURE  MAHARASHTRA   \n",
              "3                                Weed Management   AGRICULTURE  MAHARASHTRA   \n",
              "4                                        Weather  HORTICULTURE  MAHARASHTRA   \n",
              "...                                          ...           ...          ...   \n",
              "11995                           Plant Protection  HORTICULTURE  MAHARASHTRA   \n",
              "11996                         Market Information   AGRICULTURE  MAHARASHTRA   \n",
              "11997                            Weed Management   AGRICULTURE  MAHARASHTRA   \n",
              "11998            Fertilizer Use and Availability  HORTICULTURE  MAHARASHTRA   \n",
              "11999                        Nutrient Management  HORTICULTURE  MAHARASHTRA   \n",
              "\n",
              "                                       QueryText  \\\n",
              "0                        varieties of coriander    \n",
              "1         aksed about varieties of bitter gourd    \n",
              "2         powdery or downy or blight on soybean    \n",
              "3       post emergence herbicide for green gram    \n",
              "4                      varieties of ridge gourd    \n",
              "...                                          ...   \n",
              "11995                         attack  stem borer   \n",
              "11996                     market rate of soybean   \n",
              "11997               weed management in soyabean    \n",
              "11998                  weed management in onion    \n",
              "11999                      flower drop in mango    \n",
              "\n",
              "                                                  KccAns  \n",
              "0      varieties of coriander -sugandha sudha no-65 v...  \n",
              "1      varieties of bitter gourd : - phule green gold...  \n",
              "2      spray cabriotop 45 gm15 liter of water-metiram...  \n",
              "3      post emergence herbicide for green gram - spra...  \n",
              "4      varieties of ridge gourd -jk malvika rama dhan...  \n",
              "...                                                  ...  \n",
              "11995  spray nuvan 15 ml 15lit of waterdiclorvos 76ch...  \n",
              "11996       market rate of soybean - 2725-3050 rupeesqtl  \n",
              "11997   spray pursuit imazethapyr 20 ml10 liter of water  \n",
              "11998  spray goal 20 ml 15 liters of water 21 days af...  \n",
              "11999  flower drop in mango-spray plano fix 3 ml15 li...  \n",
              "\n",
              "[12000 rows x 13 columns]"
            ],
            "text/html": [
              "\n",
              "  <div id=\"df-c3a02ef0-17f3-4c18-8545-8b5c9a367a76\">\n",
              "    <div class=\"colab-df-container\">\n",
              "      <div>\n",
              "<style scoped>\n",
              "    .dataframe tbody tr th:only-of-type {\n",
              "        vertical-align: middle;\n",
              "    }\n",
              "\n",
              "    .dataframe tbody tr th {\n",
              "        vertical-align: top;\n",
              "    }\n",
              "\n",
              "    .dataframe thead th {\n",
              "        text-align: right;\n",
              "    }\n",
              "</style>\n",
              "<table border=\"1\" class=\"dataframe\">\n",
              "  <thead>\n",
              "    <tr style=\"text-align: right;\">\n",
              "      <th></th>\n",
              "      <th>index</th>\n",
              "      <th>BlockName</th>\n",
              "      <th>Category</th>\n",
              "      <th>Year</th>\n",
              "      <th>Month</th>\n",
              "      <th>Day</th>\n",
              "      <th>Crop</th>\n",
              "      <th>DistrictName</th>\n",
              "      <th>QueryType</th>\n",
              "      <th>Sector</th>\n",
              "      <th>StateName</th>\n",
              "      <th>QueryText</th>\n",
              "      <th>KccAns</th>\n",
              "    </tr>\n",
              "  </thead>\n",
              "  <tbody>\n",
              "    <tr>\n",
              "      <th>0</th>\n",
              "      <td>17230690</td>\n",
              "      <td>IGATPURI</td>\n",
              "      <td>Condiments and Spices</td>\n",
              "      <td>2018</td>\n",
              "      <td>3</td>\n",
              "      <td>7</td>\n",
              "      <td>Coriander</td>\n",
              "      <td>NASIK</td>\n",
              "      <td>Vegetative Propagation and Tissue Culture</td>\n",
              "      <td>HORTICULTURE</td>\n",
              "      <td>MAHARASHTRA</td>\n",
              "      <td>varieties of coriander</td>\n",
              "      <td>varieties of coriander -sugandha sudha no-65 v...</td>\n",
              "    </tr>\n",
              "    <tr>\n",
              "      <th>1</th>\n",
              "      <td>17350531</td>\n",
              "      <td>BARSHI</td>\n",
              "      <td>Vegetables</td>\n",
              "      <td>2018</td>\n",
              "      <td>12</td>\n",
              "      <td>6</td>\n",
              "      <td>Bitter Gourd</td>\n",
              "      <td>SOLAPUR</td>\n",
              "      <td>Vegetative Propagation and Tissue Culture</td>\n",
              "      <td>HORTICULTURE</td>\n",
              "      <td>MAHARASHTRA</td>\n",
              "      <td>aksed about varieties of bitter gourd</td>\n",
              "      <td>varieties of bitter gourd : - phule green gold...</td>\n",
              "    </tr>\n",
              "    <tr>\n",
              "      <th>2</th>\n",
              "      <td>17477041</td>\n",
              "      <td>HIMAYATNAGAR</td>\n",
              "      <td>Oilseeds</td>\n",
              "      <td>2018</td>\n",
              "      <td>8</td>\n",
              "      <td>31</td>\n",
              "      <td>Soybean bhat</td>\n",
              "      <td>NANDED</td>\n",
              "      <td>Plant Protection</td>\n",
              "      <td>AGRICULTURE</td>\n",
              "      <td>MAHARASHTRA</td>\n",
              "      <td>powdery or downy or blight on soybean</td>\n",
              "      <td>spray cabriotop 45 gm15 liter of water-metiram...</td>\n",
              "    </tr>\n",
              "    <tr>\n",
              "      <th>3</th>\n",
              "      <td>17416524</td>\n",
              "      <td>JINTUR</td>\n",
              "      <td>Pulses</td>\n",
              "      <td>2018</td>\n",
              "      <td>7</td>\n",
              "      <td>14</td>\n",
              "      <td>Green Gram Moong Bean Moong</td>\n",
              "      <td>PARBHANI</td>\n",
              "      <td>Weed Management</td>\n",
              "      <td>AGRICULTURE</td>\n",
              "      <td>MAHARASHTRA</td>\n",
              "      <td>post emergence herbicide for green gram</td>\n",
              "      <td>post emergence herbicide for green gram - spra...</td>\n",
              "    </tr>\n",
              "    <tr>\n",
              "      <th>4</th>\n",
              "      <td>17228456</td>\n",
              "      <td>NANDGAON</td>\n",
              "      <td>Vegetables</td>\n",
              "      <td>2018</td>\n",
              "      <td>2</td>\n",
              "      <td>2</td>\n",
              "      <td>Ridge Gourd</td>\n",
              "      <td>NASIK</td>\n",
              "      <td>Weather</td>\n",
              "      <td>HORTICULTURE</td>\n",
              "      <td>MAHARASHTRA</td>\n",
              "      <td>varieties of ridge gourd</td>\n",
              "      <td>varieties of ridge gourd -jk malvika rama dhan...</td>\n",
              "    </tr>\n",
              "    <tr>\n",
              "      <th>...</th>\n",
              "      <td>...</td>\n",
              "      <td>...</td>\n",
              "      <td>...</td>\n",
              "      <td>...</td>\n",
              "      <td>...</td>\n",
              "      <td>...</td>\n",
              "      <td>...</td>\n",
              "      <td>...</td>\n",
              "      <td>...</td>\n",
              "      <td>...</td>\n",
              "      <td>...</td>\n",
              "      <td>...</td>\n",
              "      <td>...</td>\n",
              "    </tr>\n",
              "    <tr>\n",
              "      <th>11995</th>\n",
              "      <td>17307502</td>\n",
              "      <td>SHIRUR</td>\n",
              "      <td>Vegetables</td>\n",
              "      <td>2018</td>\n",
              "      <td>8</td>\n",
              "      <td>3</td>\n",
              "      <td>Brinjal</td>\n",
              "      <td>PUNE</td>\n",
              "      <td>Plant Protection</td>\n",
              "      <td>HORTICULTURE</td>\n",
              "      <td>MAHARASHTRA</td>\n",
              "      <td>attack  stem borer</td>\n",
              "      <td>spray nuvan 15 ml 15lit of waterdiclorvos 76ch...</td>\n",
              "    </tr>\n",
              "    <tr>\n",
              "      <th>11996</th>\n",
              "      <td>17564170</td>\n",
              "      <td>AMRAVATI</td>\n",
              "      <td>Oilseeds</td>\n",
              "      <td>2018</td>\n",
              "      <td>10</td>\n",
              "      <td>20</td>\n",
              "      <td>Soybean bhat</td>\n",
              "      <td>AMRAVATI</td>\n",
              "      <td>Market Information</td>\n",
              "      <td>AGRICULTURE</td>\n",
              "      <td>MAHARASHTRA</td>\n",
              "      <td>market rate of soybean</td>\n",
              "      <td>market rate of soybean - 2725-3050 rupeesqtl</td>\n",
              "    </tr>\n",
              "    <tr>\n",
              "      <th>11997</th>\n",
              "      <td>17493726</td>\n",
              "      <td>NILANGA</td>\n",
              "      <td>Oilseeds</td>\n",
              "      <td>2018</td>\n",
              "      <td>7</td>\n",
              "      <td>19</td>\n",
              "      <td>Soybean bhat</td>\n",
              "      <td>LATUR</td>\n",
              "      <td>Weed Management</td>\n",
              "      <td>AGRICULTURE</td>\n",
              "      <td>MAHARASHTRA</td>\n",
              "      <td>weed management in soyabean</td>\n",
              "      <td>spray pursuit imazethapyr 20 ml10 liter of water</td>\n",
              "    </tr>\n",
              "    <tr>\n",
              "      <th>11998</th>\n",
              "      <td>17358466</td>\n",
              "      <td>VAIJAPUR</td>\n",
              "      <td>Vegetables</td>\n",
              "      <td>2018</td>\n",
              "      <td>1</td>\n",
              "      <td>31</td>\n",
              "      <td>Onion</td>\n",
              "      <td>AURANGABAD</td>\n",
              "      <td>Fertilizer Use and Availability</td>\n",
              "      <td>HORTICULTURE</td>\n",
              "      <td>MAHARASHTRA</td>\n",
              "      <td>weed management in onion</td>\n",
              "      <td>spray goal 20 ml 15 liters of water 21 days af...</td>\n",
              "    </tr>\n",
              "    <tr>\n",
              "      <th>11999</th>\n",
              "      <td>21013684</td>\n",
              "      <td>NEVASA</td>\n",
              "      <td>Fruits</td>\n",
              "      <td>2019</td>\n",
              "      <td>1</td>\n",
              "      <td>31</td>\n",
              "      <td>Mango</td>\n",
              "      <td>AHMADNAGAR</td>\n",
              "      <td>Nutrient Management</td>\n",
              "      <td>HORTICULTURE</td>\n",
              "      <td>MAHARASHTRA</td>\n",
              "      <td>flower drop in mango</td>\n",
              "      <td>flower drop in mango-spray plano fix 3 ml15 li...</td>\n",
              "    </tr>\n",
              "  </tbody>\n",
              "</table>\n",
              "<p>12000 rows × 13 columns</p>\n",
              "</div>\n",
              "      <button class=\"colab-df-convert\" onclick=\"convertToInteractive('df-c3a02ef0-17f3-4c18-8545-8b5c9a367a76')\"\n",
              "              title=\"Convert this dataframe to an interactive table.\"\n",
              "              style=\"display:none;\">\n",
              "        \n",
              "  <svg xmlns=\"http://www.w3.org/2000/svg\" height=\"24px\"viewBox=\"0 0 24 24\"\n",
              "       width=\"24px\">\n",
              "    <path d=\"M0 0h24v24H0V0z\" fill=\"none\"/>\n",
              "    <path d=\"M18.56 5.44l.94 2.06.94-2.06 2.06-.94-2.06-.94-.94-2.06-.94 2.06-2.06.94zm-11 1L8.5 8.5l.94-2.06 2.06-.94-2.06-.94L8.5 2.5l-.94 2.06-2.06.94zm10 10l.94 2.06.94-2.06 2.06-.94-2.06-.94-.94-2.06-.94 2.06-2.06.94z\"/><path d=\"M17.41 7.96l-1.37-1.37c-.4-.4-.92-.59-1.43-.59-.52 0-1.04.2-1.43.59L10.3 9.45l-7.72 7.72c-.78.78-.78 2.05 0 2.83L4 21.41c.39.39.9.59 1.41.59.51 0 1.02-.2 1.41-.59l7.78-7.78 2.81-2.81c.8-.78.8-2.07 0-2.86zM5.41 20L4 18.59l7.72-7.72 1.47 1.35L5.41 20z\"/>\n",
              "  </svg>\n",
              "      </button>\n",
              "      \n",
              "  <style>\n",
              "    .colab-df-container {\n",
              "      display:flex;\n",
              "      flex-wrap:wrap;\n",
              "      gap: 12px;\n",
              "    }\n",
              "\n",
              "    .colab-df-convert {\n",
              "      background-color: #E8F0FE;\n",
              "      border: none;\n",
              "      border-radius: 50%;\n",
              "      cursor: pointer;\n",
              "      display: none;\n",
              "      fill: #1967D2;\n",
              "      height: 32px;\n",
              "      padding: 0 0 0 0;\n",
              "      width: 32px;\n",
              "    }\n",
              "\n",
              "    .colab-df-convert:hover {\n",
              "      background-color: #E2EBFA;\n",
              "      box-shadow: 0px 1px 2px rgba(60, 64, 67, 0.3), 0px 1px 3px 1px rgba(60, 64, 67, 0.15);\n",
              "      fill: #174EA6;\n",
              "    }\n",
              "\n",
              "    [theme=dark] .colab-df-convert {\n",
              "      background-color: #3B4455;\n",
              "      fill: #D2E3FC;\n",
              "    }\n",
              "\n",
              "    [theme=dark] .colab-df-convert:hover {\n",
              "      background-color: #434B5C;\n",
              "      box-shadow: 0px 1px 3px 1px rgba(0, 0, 0, 0.15);\n",
              "      filter: drop-shadow(0px 1px 2px rgba(0, 0, 0, 0.3));\n",
              "      fill: #FFFFFF;\n",
              "    }\n",
              "  </style>\n",
              "\n",
              "      <script>\n",
              "        const buttonEl =\n",
              "          document.querySelector('#df-c3a02ef0-17f3-4c18-8545-8b5c9a367a76 button.colab-df-convert');\n",
              "        buttonEl.style.display =\n",
              "          google.colab.kernel.accessAllowed ? 'block' : 'none';\n",
              "\n",
              "        async function convertToInteractive(key) {\n",
              "          const element = document.querySelector('#df-c3a02ef0-17f3-4c18-8545-8b5c9a367a76');\n",
              "          const dataTable =\n",
              "            await google.colab.kernel.invokeFunction('convertToInteractive',\n",
              "                                                     [key], {});\n",
              "          if (!dataTable) return;\n",
              "\n",
              "          const docLinkHtml = 'Like what you see? Visit the ' +\n",
              "            '<a target=\"_blank\" href=https://colab.research.google.com/notebooks/data_table.ipynb>data table notebook</a>'\n",
              "            + ' to learn more about interactive tables.';\n",
              "          element.innerHTML = '';\n",
              "          dataTable['output_type'] = 'display_data';\n",
              "          await google.colab.output.renderOutput(dataTable, element);\n",
              "          const docLink = document.createElement('div');\n",
              "          docLink.innerHTML = docLinkHtml;\n",
              "          element.appendChild(docLink);\n",
              "        }\n",
              "      </script>\n",
              "    </div>\n",
              "  </div>\n",
              "  "
            ]
          },
          "metadata": {},
          "execution_count": 6
        }
      ],
      "source": [
        "mh_df_jayad_10000"
      ]
    },
    {
      "cell_type": "code",
      "execution_count": 7,
      "metadata": {
        "id": "sJ-MJp-z8pIq"
      },
      "outputs": [],
      "source": [
        "crops = np.array(mh_df_jayad.Crop.value_counts().index)"
      ]
    },
    {
      "cell_type": "code",
      "execution_count": 8,
      "metadata": {
        "colab": {
          "base_uri": "https://localhost:8080/"
        },
        "id": "5lHCTMUvV_LU",
        "outputId": "6ff507da-95aa-4ef6-befb-7598a11ccd2f"
      },
      "outputs": [
        {
          "output_type": "execute_result",
          "data": {
            "text/plain": [
              "array(['Others', 'Cotton Kapas', 'Onion', 'Soybean bhat',\n",
              "       'Sugarcane Noble Cane', 'Bengal Gram GramChick PeaKabuliChana',\n",
              "       'Chillies', 'Pigeon pea red gramarhartur', 'Brinjal', 'Turmeric',\n",
              "       'Pomegranate', 'Tomato', 'BhindiOkraLadysfinger', 'Wheat',\n",
              "       'Maize Makka', 'Groundnut pea nutmung phalli', 'Mango',\n",
              "       'Watermelon', 'Sorghum JowarGreat Millet', 'Banana', 'Cucumber',\n",
              "       'Bitter Gourd', 'Paddy Dhan', 'Papaya', 'Orange', 'Drum Stick',\n",
              "       'Green Gram Moong Bean Moong', 'Mosambi', 'Cabbage', 'Ginger',\n",
              "       'Lemon', 'Black Gram urd bean', 'Coriander', 'Ridge Gourd',\n",
              "       'Cluster Bean', 'BovineCowBuffalo', 'Guava', 'Marigold',\n",
              "       'Bottle Gourd ', 'Pearl Millet BajraBulrush MilletSpiked Millet',\n",
              "       'Melon', 'Grape', 'Potato', 'Cauliflower', 'Custard Apple',\n",
              "       'Citrus', 'Musk Melon', 'Coconut', 'Pumpkin',\n",
              "       'Sesame GingellyTilSesamum', 'Beans ', 'Cowpea Vegetable',\n",
              "       'Capsicum', 'French Bean', 'POULTRY  FARM ', 'Fenugreek',\n",
              "       'Leafy Vegetable', 'Rose', 'Acid Lime', 'Goat', '0',\n",
              "       'Beet Root Garden BeetStock Beet', 'Pea Vegetable',\n",
              "       'fodder maize ', 'Castor Rehri Rendi Arandi ', 'Sugar Beet',\n",
              "       'Lucerne Alfalfa', 'Napier Grass', 'Ber',\n",
              "       'Moth Bean kidney bean deww gram', 'Garlic', 'Carrot',\n",
              "       'Buck Wheat Kaspat', 'Sunflower suryamukhi', 'Chrysanthemum',\n",
              "       'Aonla', 'FingerMillet  RagiMandika', 'Mushroom', 'Sapota',\n",
              "       'fodder sorghum', 'Safflower kusumkardi', 'Other', 'Lentil Masur',\n",
              "       'Fresh Water', 'Barley Jau', 'Jack Fruit', 'Beekeeping', 'Jojoba',\n",
              "       'China Astor', 'Karan Rai',\n",
              "       'Common Millet PanivaraguChenaProso MilletHogm', 'Jamun',\n",
              "       'Aloe Vera', 'Broad Bean', 'Jasmine', 'Rajma french bean',\n",
              "       'Gerbera', 'Anjan Grass', 'Mulberry', 'Mustard', 'Curry Leaf',\n",
              "       'Radish', 'Barseem', 'Spinach Palak', 'Horse Gram kulthikultha',\n",
              "       'Bell Pepper', 'Satawar', 'Fig', 'Linseed alsi', 'DatePalm',\n",
              "       'Peas field peas garden peasmatar', 'Niger Ramtil', 'Baby Corn',\n",
              "       'Tapioca Cassava', 'Barnyard Millet KundiraivlliSawan',\n",
              "       'Italian Millet ThenaiNavaneFoxtail MilletKang', 'Dinanath Grass',\n",
              "       'Gladiolus', 'Indian Squash TindaRound Melon', 'Almond',\n",
              "       'Triticale', 'Indian rapeseed and mustard yellow sarson', 'Marine',\n",
              "       'Garden Pea', 'Faba Bean Horse Beanwindsor Bean', 'Crossandra',\n",
              "       'Pig', 'Sponge Gourd', 'Ash Gourd Petha', 'Sandal Wood',\n",
              "       'Long Melon', 'Cold Water', 'Sagoan', 'ARUM ', 'Oats ', 'Guar',\n",
              "       'Winged Bean', 'Plum', 'Khesari chickling vetch grass pea',\n",
              "       'Pineapple', 'AmaranthusGrain Amaranthus', 'Teak', 'Cinnamon',\n",
              "       'Strawberry', 'Neem', 'Jute', 'Methi Fenugreek', 'Carnation',\n",
              "       'Caleus', 'Cymbidium', 'Dolichos Bean', 'Buffel Grass Anjan Grass',\n",
              "       'Lethyrus', 'Amarphophallus SurankandElephant Foot Yam',\n",
              "       'Turnip Saljam', 'Chinar Tree', 'Peach', 'Ivy Gourd',\n",
              "       'Sunnhemp Patua', 'Rajmash Bean', 'Smooth Guard',\n",
              "       'Ribbed Gourd Kali Tori', 'Cumin', 'Duck', 'Anthurium',\n",
              "       'Indian Bean Vegetable', 'Olive', 'Chapan Kaddu', 'Tumba',\n",
              "       'Mentha', 'Safed Musli', 'Tulsi', 'Kokum', 'Tuberose', 'Bail',\n",
              "       'Pepper'], dtype=object)"
            ]
          },
          "metadata": {},
          "execution_count": 8
        }
      ],
      "source": [
        "crops"
      ]
    },
    {
      "cell_type": "code",
      "execution_count": 9,
      "metadata": {
        "id": "fVmD-AOCvH2m"
      },
      "outputs": [],
      "source": [
        "import nltk"
      ]
    },
    {
      "cell_type": "code",
      "execution_count": 10,
      "metadata": {
        "colab": {
          "base_uri": "https://localhost:8080/"
        },
        "id": "yaXH0I6ul4XO",
        "outputId": "111d0b1b-d577-4bcd-d96e-031a56728a62"
      },
      "outputs": [
        {
          "output_type": "stream",
          "name": "stderr",
          "text": [
            "[nltk_data] Downloading package wordnet to /root/nltk_data...\n",
            "[nltk_data]   Package wordnet is already up-to-date!\n"
          ]
        },
        {
          "output_type": "execute_result",
          "data": {
            "text/plain": [
              "True"
            ]
          },
          "metadata": {},
          "execution_count": 10
        }
      ],
      "source": [
        "nltk.download('wordnet')"
      ]
    },
    {
      "cell_type": "code",
      "execution_count": 11,
      "metadata": {
        "colab": {
          "base_uri": "https://localhost:8080/"
        },
        "id": "4MVMoNqnl-H0",
        "outputId": "ed5f19de-df7c-42e4-ce39-f64a8fce0f6f"
      },
      "outputs": [
        {
          "output_type": "stream",
          "name": "stderr",
          "text": [
            "[nltk_data] Downloading package omw-1.4 to /root/nltk_data...\n",
            "[nltk_data]   Package omw-1.4 is already up-to-date!\n"
          ]
        },
        {
          "output_type": "execute_result",
          "data": {
            "text/plain": [
              "True"
            ]
          },
          "metadata": {},
          "execution_count": 11
        }
      ],
      "source": [
        "nltk.download('omw-1.4')"
      ]
    },
    {
      "cell_type": "code",
      "execution_count": 12,
      "metadata": {
        "id": "GzO35KkX2vs4"
      },
      "outputs": [],
      "source": [
        "import nltk\n",
        "from nltk.stem import PorterStemmer\n",
        "from nltk.stem import WordNetLemmatizer\n",
        "from nltk.tokenize import word_tokenize"
      ]
    },
    {
      "cell_type": "code",
      "execution_count": 13,
      "metadata": {
        "id": "h2ga4tJ37i7c"
      },
      "outputs": [],
      "source": [
        "ps = PorterStemmer()"
      ]
    },
    {
      "cell_type": "code",
      "execution_count": 14,
      "metadata": {
        "colab": {
          "base_uri": "https://localhost:8080/"
        },
        "id": "V4GzmzrT-SDY",
        "outputId": "838f86e5-82d7-4f12-e400-4b6c40b8780a"
      },
      "outputs": [
        {
          "output_type": "stream",
          "name": "stderr",
          "text": [
            "[nltk_data] Downloading package punkt to /root/nltk_data...\n",
            "[nltk_data]   Package punkt is already up-to-date!\n"
          ]
        },
        {
          "output_type": "execute_result",
          "data": {
            "text/plain": [
              "True"
            ]
          },
          "metadata": {},
          "execution_count": 14
        }
      ],
      "source": [
        "nltk.download('punkt')"
      ]
    },
    {
      "cell_type": "code",
      "execution_count": 15,
      "metadata": {
        "id": "wr9dl51A7vBm"
      },
      "outputs": [],
      "source": [
        "for i in range(len(crops)):\n",
        "  crops[i]=ps.stem(crops[i])"
      ]
    },
    {
      "cell_type": "code",
      "execution_count": 16,
      "metadata": {
        "colab": {
          "base_uri": "https://localhost:8080/"
        },
        "id": "99GJJu4GpVPj",
        "outputId": "077a40eb-3bdb-42a9-fce5-51679e2379d5"
      },
      "outputs": [
        {
          "output_type": "execute_result",
          "data": {
            "text/plain": [
              "array(['other', 'cotton kapa', 'onion', 'soybean bhat',\n",
              "       'sugarcane noble can', 'bengal gram gramchick peakabulichana',\n",
              "       'chilli', 'pigeon pea red gramarhartur', 'brinjal', 'turmer',\n",
              "       'pomegran', 'tomato', 'bhindiokraladysfing', 'wheat',\n",
              "       'maize makka', 'groundnut pea nutmung ph', 'mango', 'watermelon',\n",
              "       'sorghum jowargreat millet', 'banana', 'cucumb', 'bitter gourd',\n",
              "       'paddy dhan', 'papaya', 'orang', 'drum stick',\n",
              "       'green gram moong bean moong', 'mosambi', 'cabbag', 'ginger',\n",
              "       'lemon', 'black gram urd bean', 'coriand', 'ridge gourd',\n",
              "       'cluster bean', 'bovinecowbuffalo', 'guava', 'marigold',\n",
              "       'bottle gourd ', 'pearl millet bajrabulrush milletspiked millet',\n",
              "       'melon', 'grape', 'potato', 'cauliflow', 'custard appl', 'citru',\n",
              "       'musk melon', 'coconut', 'pumpkin', 'sesame gingellytilsesamum',\n",
              "       'beans ', 'cowpea veget', 'capsicum', 'french bean',\n",
              "       'poultry  farm ', 'fenugreek', 'leafy veget', 'rose', 'acid lim',\n",
              "       'goat', '0', 'beet root garden beetstock beet', 'pea veget',\n",
              "       'fodder maize ', 'castor rehri rendi arandi ', 'sugar beet',\n",
              "       'lucerne alfalfa', 'napier grass', 'ber',\n",
              "       'moth bean kidney bean deww gram', 'garlic', 'carrot',\n",
              "       'buck wheat kaspat', 'sunflower suryamukhi', 'chrysanthemum',\n",
              "       'aonla', 'fingermillet  ragimandika', 'mushroom', 'sapota',\n",
              "       'fodder sorghum', 'safflower kusumkardi', 'other', 'lentil masur',\n",
              "       'fresh wat', 'barley jau', 'jack fruit', 'beekeep', 'jojoba',\n",
              "       'china astor', 'karan rai',\n",
              "       'common millet panivaraguchenaproso millethogm', 'jamun',\n",
              "       'aloe vera', 'broad bean', 'jasmin', 'rajma french bean',\n",
              "       'gerbera', 'anjan grass', 'mulberri', 'mustard', 'curry leaf',\n",
              "       'radish', 'barseem', 'spinach palak', 'horse gram kulthikultha',\n",
              "       'bell pepp', 'satawar', 'fig', 'linseed alsi', 'datepalm',\n",
              "       'peas field peas garden peasmatar', 'niger ramtil', 'baby corn',\n",
              "       'tapioca cassava', 'barnyard millet kundiraivllisawan',\n",
              "       'italian millet thenainavanefoxtail milletkang', 'dinanath grass',\n",
              "       'gladiolu', 'indian squash tindaround melon', 'almond', 'tritical',\n",
              "       'indian rapeseed and mustard yellow sarson', 'marin', 'garden pea',\n",
              "       'faba bean horse beanwindsor bean', 'crossandra', 'pig',\n",
              "       'sponge gourd', 'ash gourd petha', 'sandal wood', 'long melon',\n",
              "       'cold wat', 'sagoan', 'arum ', 'oats ', 'guar', 'winged bean',\n",
              "       'plum', 'khesari chickling vetch grass pea', 'pineappl',\n",
              "       'amaranthusgrain amaranthu', 'teak', 'cinnamon', 'strawberri',\n",
              "       'neem', 'jute', 'methi fenugreek', 'carnat', 'caleu', 'cymbidium',\n",
              "       'dolichos bean', 'buffel grass anjan grass', 'lethyru',\n",
              "       'amarphophallus surankandelephant foot yam', 'turnip saljam',\n",
              "       'chinar tre', 'peach', 'ivy gourd', 'sunnhemp patua',\n",
              "       'rajmash bean', 'smooth guard', 'ribbed gourd kali tori', 'cumin',\n",
              "       'duck', 'anthurium', 'indian bean veget', 'oliv', 'chapan kaddu',\n",
              "       'tumba', 'mentha', 'safed musli', 'tulsi', 'kokum', 'tuberos',\n",
              "       'bail', 'pepper'], dtype=object)"
            ]
          },
          "metadata": {},
          "execution_count": 16
        }
      ],
      "source": [
        "crops"
      ]
    },
    {
      "cell_type": "code",
      "execution_count": 17,
      "metadata": {
        "id": "fcoMn-B1uSm8"
      },
      "outputs": [],
      "source": [
        "from nltk import ngrams\n",
        "from gensim.parsing.preprocessing import remove_stopwords"
      ]
    },
    {
      "cell_type": "code",
      "execution_count": 18,
      "metadata": {
        "colab": {
          "base_uri": "https://localhost:8080/"
        },
        "id": "LTgKaP3uAkFI",
        "outputId": "ded6df26-2316-4df7-8d0b-f3da7714ece0"
      },
      "outputs": [
        {
          "output_type": "execute_result",
          "data": {
            "text/plain": [
              "['cotton',\n",
              " 'kapa',\n",
              " 'onion',\n",
              " 'soybean',\n",
              " 'bhat',\n",
              " 'sugarcan',\n",
              " 'nobl',\n",
              " 'bengal',\n",
              " 'gram',\n",
              " 'gramchick',\n",
              " 'peakabulichana',\n",
              " 'chilli',\n",
              " 'pigeon',\n",
              " 'pea',\n",
              " 'red',\n",
              " 'gramarhartur',\n",
              " 'brinjal',\n",
              " 'turmer',\n",
              " 'pomegran',\n",
              " 'tomato',\n",
              " 'bhindiokraladysf',\n",
              " 'wheat',\n",
              " 'maiz',\n",
              " 'makka',\n",
              " 'groundnut',\n",
              " 'pea',\n",
              " 'nutmung',\n",
              " 'ph',\n",
              " 'mango',\n",
              " 'watermelon',\n",
              " 'sorghum',\n",
              " 'jowargreat',\n",
              " 'millet',\n",
              " 'banana',\n",
              " 'cucumb',\n",
              " 'bitter',\n",
              " 'gourd',\n",
              " 'paddi',\n",
              " 'dhan',\n",
              " 'papaya',\n",
              " 'orang',\n",
              " 'drum',\n",
              " 'stick',\n",
              " 'green',\n",
              " 'gram',\n",
              " 'moong',\n",
              " 'bean',\n",
              " 'moong',\n",
              " 'mosambi',\n",
              " 'cabbag',\n",
              " 'ginger',\n",
              " 'lemon',\n",
              " 'black',\n",
              " 'gram',\n",
              " 'urd',\n",
              " 'bean',\n",
              " 'coriand',\n",
              " 'ridg',\n",
              " 'gourd',\n",
              " 'cluster',\n",
              " 'bean',\n",
              " 'bovinecowbuffalo',\n",
              " 'guava',\n",
              " 'marigold',\n",
              " 'bottl',\n",
              " 'gourd',\n",
              " 'pearl',\n",
              " 'millet',\n",
              " 'bajrabulrush',\n",
              " 'milletspik',\n",
              " 'millet',\n",
              " 'melon',\n",
              " 'grape',\n",
              " 'potato',\n",
              " 'cauliflow',\n",
              " 'custard',\n",
              " 'appl',\n",
              " 'citru',\n",
              " 'musk',\n",
              " 'melon',\n",
              " 'coconut',\n",
              " 'pumpkin',\n",
              " 'sesam',\n",
              " 'gingellytilsesamum',\n",
              " 'bean',\n",
              " 'cowpea',\n",
              " 'veget',\n",
              " 'capsicum',\n",
              " 'french',\n",
              " 'bean',\n",
              " 'poultri',\n",
              " 'farm',\n",
              " 'fenugreek',\n",
              " 'leafi',\n",
              " 'veget',\n",
              " 'rose',\n",
              " 'acid',\n",
              " 'lim',\n",
              " 'goat',\n",
              " '0',\n",
              " 'beet',\n",
              " 'root',\n",
              " 'garden',\n",
              " 'beetstock',\n",
              " 'beet',\n",
              " 'pea',\n",
              " 'veget',\n",
              " 'fodder',\n",
              " 'maiz',\n",
              " 'castor',\n",
              " 'rehri',\n",
              " 'rendi',\n",
              " 'arandi',\n",
              " 'sugar',\n",
              " 'beet',\n",
              " 'lucern',\n",
              " 'alfalfa',\n",
              " 'napier',\n",
              " 'grass',\n",
              " 'ber',\n",
              " 'moth',\n",
              " 'bean',\n",
              " 'kidney',\n",
              " 'bean',\n",
              " 'deww',\n",
              " 'gram',\n",
              " 'garlic',\n",
              " 'carrot',\n",
              " 'buck',\n",
              " 'wheat',\n",
              " 'kaspat',\n",
              " 'sunflow',\n",
              " 'suryamukhi',\n",
              " 'chrysanthemum',\n",
              " 'aonla',\n",
              " 'fingermillet',\n",
              " 'ragimandika',\n",
              " 'mushroom',\n",
              " 'sapota',\n",
              " 'fodder',\n",
              " 'sorghum',\n",
              " 'safflow',\n",
              " 'kusumkardi',\n",
              " 'lentil',\n",
              " 'masur',\n",
              " 'fresh',\n",
              " 'wat',\n",
              " 'barley',\n",
              " 'jau',\n",
              " 'jack',\n",
              " 'fruit',\n",
              " 'beekeep',\n",
              " 'jojoba',\n",
              " 'china',\n",
              " 'astor',\n",
              " 'karan',\n",
              " 'rai',\n",
              " 'common',\n",
              " 'millet',\n",
              " 'panivaraguchenaproso',\n",
              " 'millethogm',\n",
              " 'jamun',\n",
              " 'alo',\n",
              " 'vera',\n",
              " 'broad',\n",
              " 'bean',\n",
              " 'jasmin',\n",
              " 'rajma',\n",
              " 'french',\n",
              " 'bean',\n",
              " 'gerbera',\n",
              " 'anjan',\n",
              " 'grass',\n",
              " 'mulberri',\n",
              " 'mustard',\n",
              " 'curri',\n",
              " 'leaf',\n",
              " 'radish',\n",
              " 'barseem',\n",
              " 'spinach',\n",
              " 'palak',\n",
              " 'hors',\n",
              " 'gram',\n",
              " 'kulthikultha',\n",
              " 'bell',\n",
              " 'pepp',\n",
              " 'satawar',\n",
              " 'fig',\n",
              " 'linse',\n",
              " 'alsi',\n",
              " 'datepalm',\n",
              " 'pea',\n",
              " 'field',\n",
              " 'pea',\n",
              " 'garden',\n",
              " 'peasmatar',\n",
              " 'niger',\n",
              " 'ramtil',\n",
              " 'babi',\n",
              " 'corn',\n",
              " 'tapioca',\n",
              " 'cassava',\n",
              " 'barnyard',\n",
              " 'millet',\n",
              " 'kundiraivllisawan',\n",
              " 'italian',\n",
              " 'millet',\n",
              " 'thenainavanefoxtail',\n",
              " 'milletkang',\n",
              " 'dinanath',\n",
              " 'grass',\n",
              " 'gladiolu',\n",
              " 'indian',\n",
              " 'squash',\n",
              " 'tindaround',\n",
              " 'melon',\n",
              " 'almond',\n",
              " 'tritic',\n",
              " 'indian',\n",
              " 'rapese',\n",
              " 'mustard',\n",
              " 'yellow',\n",
              " 'sarson',\n",
              " 'marin',\n",
              " 'garden',\n",
              " 'pea',\n",
              " 'faba',\n",
              " 'bean',\n",
              " 'hors',\n",
              " 'beanwindsor',\n",
              " 'bean',\n",
              " 'crossandra',\n",
              " 'pig',\n",
              " 'spong',\n",
              " 'gourd',\n",
              " 'ash',\n",
              " 'gourd',\n",
              " 'petha',\n",
              " 'sandal',\n",
              " 'wood',\n",
              " 'long',\n",
              " 'melon',\n",
              " 'cold',\n",
              " 'wat',\n",
              " 'sagoan',\n",
              " 'arum',\n",
              " 'oat',\n",
              " 'guar',\n",
              " 'wing',\n",
              " 'bean',\n",
              " 'plum',\n",
              " 'khesari',\n",
              " 'chickl',\n",
              " 'vetch',\n",
              " 'grass',\n",
              " 'pea',\n",
              " 'pineappl',\n",
              " 'amaranthusgrain',\n",
              " 'amaranthu',\n",
              " 'teak',\n",
              " 'cinnamon',\n",
              " 'strawberri',\n",
              " 'neem',\n",
              " 'jute',\n",
              " 'methi',\n",
              " 'fenugreek',\n",
              " 'carnat',\n",
              " 'caleu',\n",
              " 'cymbidium',\n",
              " 'dolicho',\n",
              " 'bean',\n",
              " 'buffel',\n",
              " 'grass',\n",
              " 'anjan',\n",
              " 'grass',\n",
              " 'lethyru',\n",
              " 'amarphophallu',\n",
              " 'surankandeleph',\n",
              " 'foot',\n",
              " 'yam',\n",
              " 'turnip',\n",
              " 'saljam',\n",
              " 'chinar',\n",
              " 'tre',\n",
              " 'peach',\n",
              " 'ivi',\n",
              " 'gourd',\n",
              " 'sunnhemp',\n",
              " 'patua',\n",
              " 'rajmash',\n",
              " 'bean',\n",
              " 'smooth',\n",
              " 'guard',\n",
              " 'rib',\n",
              " 'gourd',\n",
              " 'kali',\n",
              " 'tori',\n",
              " 'cumin',\n",
              " 'duck',\n",
              " 'anthurium',\n",
              " 'indian',\n",
              " 'bean',\n",
              " 'veget',\n",
              " 'oliv',\n",
              " 'chapan',\n",
              " 'kaddu',\n",
              " 'tumba',\n",
              " 'mentha',\n",
              " 'safe',\n",
              " 'musli',\n",
              " 'tulsi',\n",
              " 'kokum',\n",
              " 'tubero',\n",
              " 'bail',\n",
              " 'pepper']"
            ]
          },
          "metadata": {},
          "execution_count": 18
        }
      ],
      "source": [
        "crop_tokens = []\n",
        "for crop in crops:\n",
        "  crop_tokens += word_tokenize(remove_stopwords(crop))\n",
        "crop_tokens\n",
        "\n",
        "for i in range(len(crop_tokens)):\n",
        "  crop_tokens[i] = ps.stem(crop_tokens[i])\n",
        "\n",
        "crop_tokens"
      ]
    },
    {
      "cell_type": "code",
      "execution_count": 19,
      "metadata": {
        "id": "bTVILQTEjFLy"
      },
      "outputs": [],
      "source": [
        "def remove_special_char(string):\n",
        "  special_characters=[',', '?', '.']\n",
        "  normal_string = \"\".join(filter(lambda char: char not in special_characters , string))\n",
        "  return normal_string"
      ]
    },
    {
      "cell_type": "code",
      "execution_count": 20,
      "metadata": {
        "id": "1CzYv-uIuEpO"
      },
      "outputs": [],
      "source": [
        "def clean_query(query):\n",
        "  if type(query) != str:\n",
        "    return query, query\n",
        "  query = query.lower()\n",
        "  query = query.replace('-', ' ')\n",
        "  query = query.replace(':', ' ')\n",
        "  query = remove_special_char(query)\n",
        "\n",
        "  new_sent_str_sim = []\n",
        "  new_sent_sbert = []\n",
        "  sent_str_sim = []\n",
        "  for word in word_tokenize(query):\n",
        "    if ps.stem(word) not in crop_tokens:\n",
        "      sent_str_sim.append(ps.stem(word))\n",
        "\n",
        "  sent_sbert = []\n",
        "  for word in word_tokenize(query):\n",
        "    if ps.stem(word) not in crop_tokens:\n",
        "      sent_sbert.append(word)\n",
        "\n",
        "  return remove_stopwords(' '.join(sent_str_sim)), ' '.join(sent_sbert)"
      ]
    },
    {
      "cell_type": "code",
      "execution_count": 21,
      "metadata": {
        "colab": {
          "base_uri": "https://localhost:8080/"
        },
        "id": "gM79vgOZus5Q",
        "outputId": "b24a860a-2071-46b2-aec0-7c68012a427b"
      },
      "outputs": [
        {
          "output_type": "execute_result",
          "data": {
            "text/plain": [
              "('varieti', 'varieties of and also')"
            ]
          },
          "metadata": {},
          "execution_count": 21
        }
      ],
      "source": [
        "clean_query('varieties: of tomatoes, maize makka and onions. Also cotton kapas')"
      ]
    },
    {
      "cell_type": "code",
      "execution_count": 22,
      "metadata": {
        "id": "Lu3C-eL-Rvai"
      },
      "outputs": [],
      "source": [
        "processed_queries_str_sim = mh_df_jayad_10000.QueryText.apply(lambda x: clean_query(x)[0])"
      ]
    },
    {
      "cell_type": "code",
      "execution_count": 23,
      "metadata": {
        "colab": {
          "base_uri": "https://localhost:8080/"
        },
        "id": "Tf51VvcATLq1",
        "outputId": "7f8b1ad1-5db0-4ae8-e21e-203f8842882b"
      },
      "outputs": [
        {
          "output_type": "execute_result",
          "data": {
            "text/plain": [
              "0                     varieti\n",
              "1                 aks varieti\n",
              "2        powderi downi blight\n",
              "3         post emerg herbicid\n",
              "4                     varieti\n",
              "                 ...         \n",
              "11995       attack stem borer\n",
              "11996             market rate\n",
              "11997     weed manag soyabean\n",
              "11998              weed manag\n",
              "11999             flower drop\n",
              "Name: QueryText, Length: 12000, dtype: object"
            ]
          },
          "metadata": {},
          "execution_count": 23
        }
      ],
      "source": [
        "processed_queries_str_sim"
      ]
    },
    {
      "cell_type": "code",
      "execution_count": 24,
      "metadata": {
        "colab": {
          "base_uri": "https://localhost:8080/"
        },
        "id": "J_SYlsbAS8Zh",
        "outputId": "b1b2da6a-4c39-4704-e987-cd3a21777a79"
      },
      "outputs": [
        {
          "output_type": "stream",
          "name": "stdout",
          "text": [
            "Looking in indexes: https://pypi.org/simple, https://us-python.pkg.dev/colab-wheels/public/simple/\n",
            "Requirement already satisfied: sentence-transformers in /usr/local/lib/python3.8/dist-packages (2.2.2)\n",
            "Requirement already satisfied: torchvision in /usr/local/lib/python3.8/dist-packages (from sentence-transformers) (0.14.0+cu116)\n",
            "Requirement already satisfied: transformers<5.0.0,>=4.6.0 in /usr/local/lib/python3.8/dist-packages (from sentence-transformers) (4.25.1)\n",
            "Requirement already satisfied: scikit-learn in /usr/local/lib/python3.8/dist-packages (from sentence-transformers) (1.0.2)\n",
            "Requirement already satisfied: scipy in /usr/local/lib/python3.8/dist-packages (from sentence-transformers) (1.7.3)\n",
            "Requirement already satisfied: torch>=1.6.0 in /usr/local/lib/python3.8/dist-packages (from sentence-transformers) (1.13.0+cu116)\n",
            "Requirement already satisfied: huggingface-hub>=0.4.0 in /usr/local/lib/python3.8/dist-packages (from sentence-transformers) (0.11.1)\n",
            "Requirement already satisfied: tqdm in /usr/local/lib/python3.8/dist-packages (from sentence-transformers) (4.64.1)\n",
            "Requirement already satisfied: sentencepiece in /usr/local/lib/python3.8/dist-packages (from sentence-transformers) (0.1.97)\n",
            "Requirement already satisfied: numpy in /usr/local/lib/python3.8/dist-packages (from sentence-transformers) (1.21.6)\n",
            "Requirement already satisfied: nltk in /usr/local/lib/python3.8/dist-packages (from sentence-transformers) (3.7)\n",
            "Requirement already satisfied: filelock in /usr/local/lib/python3.8/dist-packages (from huggingface-hub>=0.4.0->sentence-transformers) (3.8.0)\n",
            "Requirement already satisfied: pyyaml>=5.1 in /usr/local/lib/python3.8/dist-packages (from huggingface-hub>=0.4.0->sentence-transformers) (6.0)\n",
            "Requirement already satisfied: packaging>=20.9 in /usr/local/lib/python3.8/dist-packages (from huggingface-hub>=0.4.0->sentence-transformers) (21.3)\n",
            "Requirement already satisfied: requests in /usr/local/lib/python3.8/dist-packages (from huggingface-hub>=0.4.0->sentence-transformers) (2.23.0)\n",
            "Requirement already satisfied: typing-extensions>=3.7.4.3 in /usr/local/lib/python3.8/dist-packages (from huggingface-hub>=0.4.0->sentence-transformers) (4.4.0)\n",
            "Requirement already satisfied: pyparsing!=3.0.5,>=2.0.2 in /usr/local/lib/python3.8/dist-packages (from packaging>=20.9->huggingface-hub>=0.4.0->sentence-transformers) (3.0.9)\n",
            "Requirement already satisfied: regex!=2019.12.17 in /usr/local/lib/python3.8/dist-packages (from transformers<5.0.0,>=4.6.0->sentence-transformers) (2022.6.2)\n",
            "Requirement already satisfied: tokenizers!=0.11.3,<0.14,>=0.11.1 in /usr/local/lib/python3.8/dist-packages (from transformers<5.0.0,>=4.6.0->sentence-transformers) (0.13.2)\n",
            "Requirement already satisfied: click in /usr/local/lib/python3.8/dist-packages (from nltk->sentence-transformers) (7.1.2)\n",
            "Requirement already satisfied: joblib in /usr/local/lib/python3.8/dist-packages (from nltk->sentence-transformers) (1.2.0)\n",
            "Requirement already satisfied: idna<3,>=2.5 in /usr/local/lib/python3.8/dist-packages (from requests->huggingface-hub>=0.4.0->sentence-transformers) (2.10)\n",
            "Requirement already satisfied: certifi>=2017.4.17 in /usr/local/lib/python3.8/dist-packages (from requests->huggingface-hub>=0.4.0->sentence-transformers) (2022.9.24)\n",
            "Requirement already satisfied: chardet<4,>=3.0.2 in /usr/local/lib/python3.8/dist-packages (from requests->huggingface-hub>=0.4.0->sentence-transformers) (3.0.4)\n",
            "Requirement already satisfied: urllib3!=1.25.0,!=1.25.1,<1.26,>=1.21.1 in /usr/local/lib/python3.8/dist-packages (from requests->huggingface-hub>=0.4.0->sentence-transformers) (1.24.3)\n",
            "Requirement already satisfied: threadpoolctl>=2.0.0 in /usr/local/lib/python3.8/dist-packages (from scikit-learn->sentence-transformers) (3.1.0)\n",
            "Requirement already satisfied: pillow!=8.3.*,>=5.3.0 in /usr/local/lib/python3.8/dist-packages (from torchvision->sentence-transformers) (7.1.2)\n"
          ]
        }
      ],
      "source": [
        "pip install sentence-transformers"
      ]
    },
    {
      "cell_type": "code",
      "execution_count": 25,
      "metadata": {
        "id": "EU9RzPRuS_EE"
      },
      "outputs": [],
      "source": [
        "from sentence_transformers import SentenceTransformer\n",
        "sbert_model = SentenceTransformer('bert-base-nli-mean-tokens')"
      ]
    },
    {
      "cell_type": "code",
      "execution_count": 26,
      "metadata": {
        "id": "BAamKeGezD8O"
      },
      "outputs": [],
      "source": [
        "processed_queries_sbert = mh_df_jayad_10000.QueryText.apply(lambda x: clean_query(x)[1])"
      ]
    },
    {
      "cell_type": "code",
      "execution_count": 27,
      "metadata": {
        "colab": {
          "base_uri": "https://localhost:8080/"
        },
        "id": "qGbtVjJ0zMyH",
        "outputId": "26ee2c8d-dc17-49c6-abb1-12fc20470b61"
      },
      "outputs": [
        {
          "output_type": "execute_result",
          "data": {
            "text/plain": [
              "0                         varieties of\n",
              "1             aksed about varieties of\n",
              "2        powdery or downy or blight on\n",
              "3         post emergence herbicide for\n",
              "4                         varieties of\n",
              "                     ...              \n",
              "11995                attack stem borer\n",
              "11996                   market rate of\n",
              "11997      weed management in soyabean\n",
              "11998               weed management in\n",
              "11999                   flower drop in\n",
              "Name: QueryText, Length: 12000, dtype: object"
            ]
          },
          "metadata": {},
          "execution_count": 27
        }
      ],
      "source": [
        "processed_queries_sbert"
      ]
    },
    {
      "cell_type": "code",
      "execution_count": 28,
      "metadata": {
        "id": "SC7Oq_IyTLn_"
      },
      "outputs": [],
      "source": [
        "sentence_embeddings = sbert_model.encode(processed_queries_sbert)"
      ]
    },
    {
      "cell_type": "code",
      "execution_count": 29,
      "metadata": {
        "colab": {
          "base_uri": "https://localhost:8080/"
        },
        "id": "ngT9Qb5SfYjA",
        "outputId": "06c29319-689a-4520-e5ae-21a823440833"
      },
      "outputs": [
        {
          "output_type": "execute_result",
          "data": {
            "text/plain": [
              "(12000, 768)"
            ]
          },
          "metadata": {},
          "execution_count": 29
        }
      ],
      "source": [
        "sentence_embeddings.shape"
      ]
    },
    {
      "cell_type": "code",
      "execution_count": 30,
      "metadata": {
        "id": "QVyyzkhlV-OF"
      },
      "outputs": [],
      "source": [
        "from sklearn.metrics.pairwise import cosine_similarity"
      ]
    },
    {
      "cell_type": "code",
      "execution_count": 31,
      "metadata": {
        "id": "uTObzXvtfYjA"
      },
      "outputs": [],
      "source": [
        "from sklearn.metrics import pairwise_distances\n",
        "from scipy.spatial.distance import cosine"
      ]
    },
    {
      "cell_type": "code",
      "execution_count": 32,
      "metadata": {
        "id": "WdSRt5kLfYjA"
      },
      "outputs": [],
      "source": [
        "cosine_simil = 1 - pairwise_distances(sentence_embeddings, metric=\"cosine\")"
      ]
    },
    {
      "cell_type": "code",
      "execution_count": 33,
      "metadata": {
        "id": "RMo_LTsUXcgX",
        "colab": {
          "base_uri": "https://localhost:8080/"
        },
        "outputId": "a59a2582-5db5-4a1b-c246-e920eb11a4b4"
      },
      "outputs": [
        {
          "output_type": "execute_result",
          "data": {
            "text/plain": [
              "array([[1.        , 0.83332735, 0.57883584, ..., 0.24084473, 0.41099638,\n",
              "        0.48262906],\n",
              "       [0.83332735, 1.        , 0.48971665, ..., 0.2871799 , 0.41679657,\n",
              "        0.4594081 ],\n",
              "       [0.57883584, 0.48971665, 1.        , ..., 0.3227452 , 0.46856403,\n",
              "        0.5062598 ],\n",
              "       ...,\n",
              "       [0.24084473, 0.2871799 , 0.3227452 , ..., 1.        , 0.72895277,\n",
              "        0.38580763],\n",
              "       [0.41099638, 0.41679657, 0.46856403, ..., 0.72895277, 1.        ,\n",
              "        0.54058194],\n",
              "       [0.48262906, 0.4594081 , 0.5062598 , ..., 0.38580763, 0.54058194,\n",
              "        1.        ]], dtype=float32)"
            ]
          },
          "metadata": {},
          "execution_count": 33
        }
      ],
      "source": [
        "cosine_simil"
      ]
    },
    {
      "cell_type": "code",
      "execution_count": 34,
      "metadata": {
        "id": "goeymdevjWl4"
      },
      "outputs": [],
      "source": [
        "def cal_str_similarity(s1, s2):\n",
        "  set1 = set(remove_stopwords(s1).split())\n",
        "  set2 = set(remove_stopwords(s2).split())\n",
        "\n",
        "  set_12_union = set1.union(set2)\n",
        "  set_12_intersection = set1.intersection(set2)\n",
        "\n",
        "  if len(set_12_union) == 0:\n",
        "    return 0\n",
        "  \n",
        "  return len(set_12_intersection)/len(set_12_union)"
      ]
    },
    {
      "cell_type": "code",
      "execution_count": 35,
      "metadata": {
        "id": "JBt3mhZmhqRr",
        "colab": {
          "base_uri": "https://localhost:8080/"
        },
        "outputId": "6d2ec5cf-a1fa-472f-bddb-d0b8841a26f1"
      },
      "outputs": [
        {
          "output_type": "execute_result",
          "data": {
            "text/plain": [
              "0.0"
            ]
          },
          "metadata": {},
          "execution_count": 35
        }
      ],
      "source": [
        "cal_str_similarity('onion', 'onions')"
      ]
    },
    {
      "cell_type": "markdown",
      "source": [
        "alternate way"
      ],
      "metadata": {
        "id": "f2N6BTdTqXWY"
      }
    },
    {
      "cell_type": "code",
      "source": [],
      "metadata": {
        "id": "fZE5T-4bqZbP"
      },
      "execution_count": null,
      "outputs": []
    },
    {
      "cell_type": "code",
      "source": [
        "def cal_str_sim_vector(query):\n",
        "  list = []\n",
        "  for que in processed_queries_str_sim:\n",
        "    list.append(cal_str_similarity(query, que))\n",
        "  \n",
        "  return list"
      ],
      "metadata": {
        "id": "PrIuSD_LmhF0"
      },
      "execution_count": 36,
      "outputs": []
    },
    {
      "cell_type": "code",
      "source": [
        "str_simil = np.array(processed_queries_str_sim.apply(cal_str_sim_vector).tolist())"
      ],
      "metadata": {
        "id": "280Y3rAGmWqu"
      },
      "execution_count": 37,
      "outputs": []
    },
    {
      "cell_type": "code",
      "source": [
        "str_simil"
      ],
      "metadata": {
        "colab": {
          "base_uri": "https://localhost:8080/"
        },
        "id": "MJPvH_X5qZ2P",
        "outputId": "e315114c-5ddd-4a7e-ccc2-2143824cde86"
      },
      "execution_count": 38,
      "outputs": [
        {
          "output_type": "execute_result",
          "data": {
            "text/plain": [
              "array([[1.        , 0.5       , 0.        , ..., 0.        , 0.        ,\n",
              "        0.        ],\n",
              "       [0.5       , 1.        , 0.        , ..., 0.        , 0.        ,\n",
              "        0.        ],\n",
              "       [0.        , 0.        , 1.        , ..., 0.        , 0.        ,\n",
              "        0.        ],\n",
              "       ...,\n",
              "       [0.        , 0.        , 0.        , ..., 1.        , 0.66666667,\n",
              "        0.        ],\n",
              "       [0.        , 0.        , 0.        , ..., 0.66666667, 1.        ,\n",
              "        0.        ],\n",
              "       [0.        , 0.        , 0.        , ..., 0.        , 0.        ,\n",
              "        1.        ]])"
            ]
          },
          "metadata": {},
          "execution_count": 38
        }
      ]
    },
    {
      "cell_type": "markdown",
      "source": [
        "-----------------------------------------------------------------------------------------------"
      ],
      "metadata": {
        "id": "gS1uzQJpu7kB"
      }
    },
    {
      "cell_type": "code",
      "execution_count": 38,
      "metadata": {
        "id": "_QTYF1QQNS9-"
      },
      "outputs": [],
      "source": [
        "str_simil_list = []\n",
        "\n",
        "for i in range(len(processed_queries_str_sim)):\n",
        "  list = []\n",
        "  for j in range(len(processed_queries_str_sim)):\n",
        "    str_similarity_ij = cal_str_similarity(processed_queries_str_sim[i], processed_queries_str_sim[j])\n",
        "    list.append(str_similarity_ij)\n",
        "\n",
        "  str_simil_list.append(list)"
      ]
    },
    {
      "cell_type": "code",
      "execution_count": 39,
      "metadata": {
        "id": "pLwSw1ygOLTb"
      },
      "outputs": [],
      "source": [
        "str_simil = np.array(str_simil_list)"
      ]
    },
    {
      "cell_type": "markdown",
      "source": [
        "---------------------------------------------------------------------------------------------------"
      ],
      "metadata": {
        "id": "UGwH81ZVvYPf"
      }
    },
    {
      "cell_type": "code",
      "execution_count": 40,
      "metadata": {
        "id": "FLiECvCtUFPo"
      },
      "outputs": [],
      "source": [
        "similarities = (0.8 * cosine_simil) + (0.2 * str_simil)"
      ]
    },
    {
      "cell_type": "code",
      "execution_count": 41,
      "metadata": {
        "id": "Tdj2oNby6k8y",
        "colab": {
          "base_uri": "https://localhost:8080/"
        },
        "outputId": "c7574a08-ebd7-4643-e3a3-b6f2c8e89278"
      },
      "outputs": [
        {
          "output_type": "execute_result",
          "data": {
            "text/plain": [
              "(12000, 12000)"
            ]
          },
          "metadata": {},
          "execution_count": 41
        }
      ],
      "source": [
        "similarities.shape"
      ]
    },
    {
      "cell_type": "code",
      "source": [
        "similarities"
      ],
      "metadata": {
        "colab": {
          "base_uri": "https://localhost:8080/"
        },
        "id": "VjgXdy4evPfH",
        "outputId": "86e1286c-9c42-4571-cc15-f6470cb371a4"
      },
      "execution_count": 42,
      "outputs": [
        {
          "output_type": "execute_result",
          "data": {
            "text/plain": [
              "array([[1.00000001, 0.76666192, 0.46306869, ..., 0.19267578, 0.3287971 ,\n",
              "        0.38610324],\n",
              "       [0.76666192, 1.00000001, 0.39177331, ..., 0.22974391, 0.33343726,\n",
              "        0.3675265 ],\n",
              "       [0.46306869, 0.39177331, 1.00000001, ..., 0.25819618, 0.37485123,\n",
              "        0.40500784],\n",
              "       ...,\n",
              "       [0.19267578, 0.22974391, 0.25819618, ..., 1.00000001, 0.71649558,\n",
              "        0.30864611],\n",
              "       [0.3287971 , 0.33343726, 0.37485123, ..., 0.71649558, 1.00000001,\n",
              "        0.43246555],\n",
              "       [0.38610324, 0.3675265 , 0.40500784, ..., 0.30864611, 0.43246555,\n",
              "        1.00000001]])"
            ]
          },
          "metadata": {},
          "execution_count": 42
        }
      ]
    },
    {
      "cell_type": "code",
      "source": [
        "np.save('mh_similarities.npy', similarities)"
      ],
      "metadata": {
        "id": "7DGlrOT-za24"
      },
      "execution_count": null,
      "outputs": []
    },
    {
      "cell_type": "markdown",
      "metadata": {
        "id": "j4TnnYsQDHxQ"
      },
      "source": [
        "**Similarity matrix generation👆**"
      ]
    },
    {
      "cell_type": "markdown",
      "metadata": {
        "id": "z39ph3KouWNK"
      },
      "source": [
        "**Question Clustering👇**"
      ]
    },
    {
      "cell_type": "markdown",
      "source": [
        "# Our Clustering method"
      ],
      "metadata": {
        "id": "tt03OuTi853-"
      }
    },
    {
      "cell_type": "code",
      "source": [
        "n = len(similarities)\n",
        "vis = np.zeros(n).astype(int)\n",
        "\n",
        "thresh = 0.8\n",
        "min_clust_size = 3\n",
        "\n",
        "cluster_list = []\n",
        "for i in range(n):\n",
        "  cluster_i = []\n",
        "  if vis[i] == 0:\n",
        "    vis[i] = 1\n",
        "    cluster_i.append(i)\n",
        "    \n",
        "    for j in range(n):\n",
        "      if vis[j] == 0:\n",
        "        if similarities[i][j] >= thresh:\n",
        "          vis[j] = 1\n",
        "          cluster_i.append(j)\n",
        "\n",
        "    if len(cluster_i) >= min_clust_size:\n",
        "      cluster_list.append(cluster_i)"
      ],
      "metadata": {
        "id": "gafnfYzc2Dju"
      },
      "execution_count": 43,
      "outputs": []
    },
    {
      "cell_type": "code",
      "source": [
        "final_df = pd.DataFrame()\n",
        "clust_num = 1\n",
        "\n",
        "for clu in cluster_list:\n",
        "  df_temp = mh_df_jayad_10000.loc[clu]\n",
        "  df_temp['Cluster'] = [clust_num] * len(clu)\n",
        "  final_df = pd.concat([final_df, df_temp])\n",
        "  clust_num += 1"
      ],
      "metadata": {
        "id": "I64ij_gx2Dvu"
      },
      "execution_count": 44,
      "outputs": []
    },
    {
      "cell_type": "code",
      "source": [
        "final_df"
      ],
      "metadata": {
        "colab": {
          "base_uri": "https://localhost:8080/",
          "height": 832
        },
        "id": "xnhr4f3_2Dz3",
        "outputId": "230b9e2b-d0a0-4cad-9c62-2445fc1fd6f8"
      },
      "execution_count": 45,
      "outputs": [
        {
          "output_type": "execute_result",
          "data": {
            "text/plain": [
              "          index  BlockName               Category  Year  Month  Day  \\\n",
              "0      17230690   IGATPURI  Condiments and Spices  2018      3    7   \n",
              "4      17228456   NANDGAON             Vegetables  2018      2    2   \n",
              "9      17408202     PATHRI               Oilseeds  2018      3   22   \n",
              "23     17614919     BASMAT  Condiments and Spices  2018      4   17   \n",
              "36     17437065  MAJALGAON             Vegetables  2018      5   27   \n",
              "...         ...        ...                    ...   ...    ...  ...   \n",
              "10597  17618911     BASMAT               Oilseeds  2018      7    8   \n",
              "11256  21037837     MULSHI                 Fruits  2019      2   19   \n",
              "7883   17262822     JAMNER                 Others  2018      7    6   \n",
              "9343   17249447   IGATPURI                 Others  2018     12    8   \n",
              "10866  17573520     DARWHA                 Others  2018      6   13   \n",
              "\n",
              "                             Crop DistrictName  \\\n",
              "0                       Coriander        NASIK   \n",
              "4                     Ridge Gourd        NASIK   \n",
              "9      Castor Rehri Rendi Arandi      PARBHANI   \n",
              "23                       Turmeric      HINGOLI   \n",
              "36                         Tomato         BEED   \n",
              "...                           ...          ...   \n",
              "10597                Soybean bhat      HINGOLI   \n",
              "11256                       Melon         PUNE   \n",
              "7883                       Others      JALGAON   \n",
              "9343                       Others        NASIK   \n",
              "10866                      Others     YEVATMAL   \n",
              "\n",
              "                                       QueryType        Sector    StateName  \\\n",
              "0      Vegetative Propagation and Tissue Culture  HORTICULTURE  MAHARASHTRA   \n",
              "4                                        Weather  HORTICULTURE  MAHARASHTRA   \n",
              "9                                          Seeds   AGRICULTURE  MAHARASHTRA   \n",
              "23                   Seeds and Planting Material  HORTICULTURE  MAHARASHTRA   \n",
              "36                   Seeds and Planting Material  HORTICULTURE  MAHARASHTRA   \n",
              "...                                          ...           ...          ...   \n",
              "10597                           Plant Protection   AGRICULTURE  MAHARASHTRA   \n",
              "11256                           Plant Protection  HORTICULTURE  MAHARASHTRA   \n",
              "7883                          Government Schemes   AGRICULTURE  MAHARASHTRA   \n",
              "9343                            Plant Protection   AGRICULTURE  MAHARASHTRA   \n",
              "10866                         Government Schemes   AGRICULTURE  MAHARASHTRA   \n",
              "\n",
              "                                           QueryText  \\\n",
              "0                            varieties of coriander    \n",
              "4                          varieties of ridge gourd    \n",
              "9                                  variety of castor   \n",
              "23                                 turmeric variety    \n",
              "36                                          variety    \n",
              "...                                              ...   \n",
              "10597               attack girdle beetle in soybean    \n",
              "11256                        beetle attack on melon    \n",
              "7883   agricultural websites  fertilizers of cotton    \n",
              "9343                             agriculture website   \n",
              "10866                          agriculture websites    \n",
              "\n",
              "                                                  KccAns  Cluster  \n",
              "0      varieties of coriander -sugandha sudha no-65 v...        1  \n",
              "4      varieties of ridge gourd -jk malvika rama dhan...        1  \n",
              "9               variety of castor aruna girija vi-9jch-3        1  \n",
              "23      turmeric variety-phule swarupselumselum rajapuri        1  \n",
              "36                                  bagyashree rajashree        1  \n",
              "...                                                  ...      ...  \n",
              "10597  attack girdle beetle in soybean : spray chloro...      265  \n",
              "11256  beetle attack on melon -spray neem ark 20 ml15...      265  \n",
              "7883   fertilizers of cotton -at the time of sowing -...      266  \n",
              "9343                       http : krishimaharashtragovin      266  \n",
              "10866                      http : krishimaharashtragovin      266  \n",
              "\n",
              "[11129 rows x 14 columns]"
            ],
            "text/html": [
              "\n",
              "  <div id=\"df-20ec9b86-88bf-45f3-8c98-de7163daf45d\">\n",
              "    <div class=\"colab-df-container\">\n",
              "      <div>\n",
              "<style scoped>\n",
              "    .dataframe tbody tr th:only-of-type {\n",
              "        vertical-align: middle;\n",
              "    }\n",
              "\n",
              "    .dataframe tbody tr th {\n",
              "        vertical-align: top;\n",
              "    }\n",
              "\n",
              "    .dataframe thead th {\n",
              "        text-align: right;\n",
              "    }\n",
              "</style>\n",
              "<table border=\"1\" class=\"dataframe\">\n",
              "  <thead>\n",
              "    <tr style=\"text-align: right;\">\n",
              "      <th></th>\n",
              "      <th>index</th>\n",
              "      <th>BlockName</th>\n",
              "      <th>Category</th>\n",
              "      <th>Year</th>\n",
              "      <th>Month</th>\n",
              "      <th>Day</th>\n",
              "      <th>Crop</th>\n",
              "      <th>DistrictName</th>\n",
              "      <th>QueryType</th>\n",
              "      <th>Sector</th>\n",
              "      <th>StateName</th>\n",
              "      <th>QueryText</th>\n",
              "      <th>KccAns</th>\n",
              "      <th>Cluster</th>\n",
              "    </tr>\n",
              "  </thead>\n",
              "  <tbody>\n",
              "    <tr>\n",
              "      <th>0</th>\n",
              "      <td>17230690</td>\n",
              "      <td>IGATPURI</td>\n",
              "      <td>Condiments and Spices</td>\n",
              "      <td>2018</td>\n",
              "      <td>3</td>\n",
              "      <td>7</td>\n",
              "      <td>Coriander</td>\n",
              "      <td>NASIK</td>\n",
              "      <td>Vegetative Propagation and Tissue Culture</td>\n",
              "      <td>HORTICULTURE</td>\n",
              "      <td>MAHARASHTRA</td>\n",
              "      <td>varieties of coriander</td>\n",
              "      <td>varieties of coriander -sugandha sudha no-65 v...</td>\n",
              "      <td>1</td>\n",
              "    </tr>\n",
              "    <tr>\n",
              "      <th>4</th>\n",
              "      <td>17228456</td>\n",
              "      <td>NANDGAON</td>\n",
              "      <td>Vegetables</td>\n",
              "      <td>2018</td>\n",
              "      <td>2</td>\n",
              "      <td>2</td>\n",
              "      <td>Ridge Gourd</td>\n",
              "      <td>NASIK</td>\n",
              "      <td>Weather</td>\n",
              "      <td>HORTICULTURE</td>\n",
              "      <td>MAHARASHTRA</td>\n",
              "      <td>varieties of ridge gourd</td>\n",
              "      <td>varieties of ridge gourd -jk malvika rama dhan...</td>\n",
              "      <td>1</td>\n",
              "    </tr>\n",
              "    <tr>\n",
              "      <th>9</th>\n",
              "      <td>17408202</td>\n",
              "      <td>PATHRI</td>\n",
              "      <td>Oilseeds</td>\n",
              "      <td>2018</td>\n",
              "      <td>3</td>\n",
              "      <td>22</td>\n",
              "      <td>Castor Rehri Rendi Arandi</td>\n",
              "      <td>PARBHANI</td>\n",
              "      <td>Seeds</td>\n",
              "      <td>AGRICULTURE</td>\n",
              "      <td>MAHARASHTRA</td>\n",
              "      <td>variety of castor</td>\n",
              "      <td>variety of castor aruna girija vi-9jch-3</td>\n",
              "      <td>1</td>\n",
              "    </tr>\n",
              "    <tr>\n",
              "      <th>23</th>\n",
              "      <td>17614919</td>\n",
              "      <td>BASMAT</td>\n",
              "      <td>Condiments and Spices</td>\n",
              "      <td>2018</td>\n",
              "      <td>4</td>\n",
              "      <td>17</td>\n",
              "      <td>Turmeric</td>\n",
              "      <td>HINGOLI</td>\n",
              "      <td>Seeds and Planting Material</td>\n",
              "      <td>HORTICULTURE</td>\n",
              "      <td>MAHARASHTRA</td>\n",
              "      <td>turmeric variety</td>\n",
              "      <td>turmeric variety-phule swarupselumselum rajapuri</td>\n",
              "      <td>1</td>\n",
              "    </tr>\n",
              "    <tr>\n",
              "      <th>36</th>\n",
              "      <td>17437065</td>\n",
              "      <td>MAJALGAON</td>\n",
              "      <td>Vegetables</td>\n",
              "      <td>2018</td>\n",
              "      <td>5</td>\n",
              "      <td>27</td>\n",
              "      <td>Tomato</td>\n",
              "      <td>BEED</td>\n",
              "      <td>Seeds and Planting Material</td>\n",
              "      <td>HORTICULTURE</td>\n",
              "      <td>MAHARASHTRA</td>\n",
              "      <td>variety</td>\n",
              "      <td>bagyashree rajashree</td>\n",
              "      <td>1</td>\n",
              "    </tr>\n",
              "    <tr>\n",
              "      <th>...</th>\n",
              "      <td>...</td>\n",
              "      <td>...</td>\n",
              "      <td>...</td>\n",
              "      <td>...</td>\n",
              "      <td>...</td>\n",
              "      <td>...</td>\n",
              "      <td>...</td>\n",
              "      <td>...</td>\n",
              "      <td>...</td>\n",
              "      <td>...</td>\n",
              "      <td>...</td>\n",
              "      <td>...</td>\n",
              "      <td>...</td>\n",
              "      <td>...</td>\n",
              "    </tr>\n",
              "    <tr>\n",
              "      <th>10597</th>\n",
              "      <td>17618911</td>\n",
              "      <td>BASMAT</td>\n",
              "      <td>Oilseeds</td>\n",
              "      <td>2018</td>\n",
              "      <td>7</td>\n",
              "      <td>8</td>\n",
              "      <td>Soybean bhat</td>\n",
              "      <td>HINGOLI</td>\n",
              "      <td>Plant Protection</td>\n",
              "      <td>AGRICULTURE</td>\n",
              "      <td>MAHARASHTRA</td>\n",
              "      <td>attack girdle beetle in soybean</td>\n",
              "      <td>attack girdle beetle in soybean : spray chloro...</td>\n",
              "      <td>265</td>\n",
              "    </tr>\n",
              "    <tr>\n",
              "      <th>11256</th>\n",
              "      <td>21037837</td>\n",
              "      <td>MULSHI</td>\n",
              "      <td>Fruits</td>\n",
              "      <td>2019</td>\n",
              "      <td>2</td>\n",
              "      <td>19</td>\n",
              "      <td>Melon</td>\n",
              "      <td>PUNE</td>\n",
              "      <td>Plant Protection</td>\n",
              "      <td>HORTICULTURE</td>\n",
              "      <td>MAHARASHTRA</td>\n",
              "      <td>beetle attack on melon</td>\n",
              "      <td>beetle attack on melon -spray neem ark 20 ml15...</td>\n",
              "      <td>265</td>\n",
              "    </tr>\n",
              "    <tr>\n",
              "      <th>7883</th>\n",
              "      <td>17262822</td>\n",
              "      <td>JAMNER</td>\n",
              "      <td>Others</td>\n",
              "      <td>2018</td>\n",
              "      <td>7</td>\n",
              "      <td>6</td>\n",
              "      <td>Others</td>\n",
              "      <td>JALGAON</td>\n",
              "      <td>Government Schemes</td>\n",
              "      <td>AGRICULTURE</td>\n",
              "      <td>MAHARASHTRA</td>\n",
              "      <td>agricultural websites  fertilizers of cotton</td>\n",
              "      <td>fertilizers of cotton -at the time of sowing -...</td>\n",
              "      <td>266</td>\n",
              "    </tr>\n",
              "    <tr>\n",
              "      <th>9343</th>\n",
              "      <td>17249447</td>\n",
              "      <td>IGATPURI</td>\n",
              "      <td>Others</td>\n",
              "      <td>2018</td>\n",
              "      <td>12</td>\n",
              "      <td>8</td>\n",
              "      <td>Others</td>\n",
              "      <td>NASIK</td>\n",
              "      <td>Plant Protection</td>\n",
              "      <td>AGRICULTURE</td>\n",
              "      <td>MAHARASHTRA</td>\n",
              "      <td>agriculture website</td>\n",
              "      <td>http : krishimaharashtragovin</td>\n",
              "      <td>266</td>\n",
              "    </tr>\n",
              "    <tr>\n",
              "      <th>10866</th>\n",
              "      <td>17573520</td>\n",
              "      <td>DARWHA</td>\n",
              "      <td>Others</td>\n",
              "      <td>2018</td>\n",
              "      <td>6</td>\n",
              "      <td>13</td>\n",
              "      <td>Others</td>\n",
              "      <td>YEVATMAL</td>\n",
              "      <td>Government Schemes</td>\n",
              "      <td>AGRICULTURE</td>\n",
              "      <td>MAHARASHTRA</td>\n",
              "      <td>agriculture websites</td>\n",
              "      <td>http : krishimaharashtragovin</td>\n",
              "      <td>266</td>\n",
              "    </tr>\n",
              "  </tbody>\n",
              "</table>\n",
              "<p>11129 rows × 14 columns</p>\n",
              "</div>\n",
              "      <button class=\"colab-df-convert\" onclick=\"convertToInteractive('df-20ec9b86-88bf-45f3-8c98-de7163daf45d')\"\n",
              "              title=\"Convert this dataframe to an interactive table.\"\n",
              "              style=\"display:none;\">\n",
              "        \n",
              "  <svg xmlns=\"http://www.w3.org/2000/svg\" height=\"24px\"viewBox=\"0 0 24 24\"\n",
              "       width=\"24px\">\n",
              "    <path d=\"M0 0h24v24H0V0z\" fill=\"none\"/>\n",
              "    <path d=\"M18.56 5.44l.94 2.06.94-2.06 2.06-.94-2.06-.94-.94-2.06-.94 2.06-2.06.94zm-11 1L8.5 8.5l.94-2.06 2.06-.94-2.06-.94L8.5 2.5l-.94 2.06-2.06.94zm10 10l.94 2.06.94-2.06 2.06-.94-2.06-.94-.94-2.06-.94 2.06-2.06.94z\"/><path d=\"M17.41 7.96l-1.37-1.37c-.4-.4-.92-.59-1.43-.59-.52 0-1.04.2-1.43.59L10.3 9.45l-7.72 7.72c-.78.78-.78 2.05 0 2.83L4 21.41c.39.39.9.59 1.41.59.51 0 1.02-.2 1.41-.59l7.78-7.78 2.81-2.81c.8-.78.8-2.07 0-2.86zM5.41 20L4 18.59l7.72-7.72 1.47 1.35L5.41 20z\"/>\n",
              "  </svg>\n",
              "      </button>\n",
              "      \n",
              "  <style>\n",
              "    .colab-df-container {\n",
              "      display:flex;\n",
              "      flex-wrap:wrap;\n",
              "      gap: 12px;\n",
              "    }\n",
              "\n",
              "    .colab-df-convert {\n",
              "      background-color: #E8F0FE;\n",
              "      border: none;\n",
              "      border-radius: 50%;\n",
              "      cursor: pointer;\n",
              "      display: none;\n",
              "      fill: #1967D2;\n",
              "      height: 32px;\n",
              "      padding: 0 0 0 0;\n",
              "      width: 32px;\n",
              "    }\n",
              "\n",
              "    .colab-df-convert:hover {\n",
              "      background-color: #E2EBFA;\n",
              "      box-shadow: 0px 1px 2px rgba(60, 64, 67, 0.3), 0px 1px 3px 1px rgba(60, 64, 67, 0.15);\n",
              "      fill: #174EA6;\n",
              "    }\n",
              "\n",
              "    [theme=dark] .colab-df-convert {\n",
              "      background-color: #3B4455;\n",
              "      fill: #D2E3FC;\n",
              "    }\n",
              "\n",
              "    [theme=dark] .colab-df-convert:hover {\n",
              "      background-color: #434B5C;\n",
              "      box-shadow: 0px 1px 3px 1px rgba(0, 0, 0, 0.15);\n",
              "      filter: drop-shadow(0px 1px 2px rgba(0, 0, 0, 0.3));\n",
              "      fill: #FFFFFF;\n",
              "    }\n",
              "  </style>\n",
              "\n",
              "      <script>\n",
              "        const buttonEl =\n",
              "          document.querySelector('#df-20ec9b86-88bf-45f3-8c98-de7163daf45d button.colab-df-convert');\n",
              "        buttonEl.style.display =\n",
              "          google.colab.kernel.accessAllowed ? 'block' : 'none';\n",
              "\n",
              "        async function convertToInteractive(key) {\n",
              "          const element = document.querySelector('#df-20ec9b86-88bf-45f3-8c98-de7163daf45d');\n",
              "          const dataTable =\n",
              "            await google.colab.kernel.invokeFunction('convertToInteractive',\n",
              "                                                     [key], {});\n",
              "          if (!dataTable) return;\n",
              "\n",
              "          const docLinkHtml = 'Like what you see? Visit the ' +\n",
              "            '<a target=\"_blank\" href=https://colab.research.google.com/notebooks/data_table.ipynb>data table notebook</a>'\n",
              "            + ' to learn more about interactive tables.';\n",
              "          element.innerHTML = '';\n",
              "          dataTable['output_type'] = 'display_data';\n",
              "          await google.colab.output.renderOutput(dataTable, element);\n",
              "          const docLink = document.createElement('div');\n",
              "          docLink.innerHTML = docLinkHtml;\n",
              "          element.appendChild(docLink);\n",
              "        }\n",
              "      </script>\n",
              "    </div>\n",
              "  </div>\n",
              "  "
            ]
          },
          "metadata": {},
          "execution_count": 45
        }
      ]
    },
    {
      "cell_type": "code",
      "execution_count": 61,
      "metadata": {
        "id": "ZD0R9Aof_vLY",
        "colab": {
          "base_uri": "https://localhost:8080/",
          "height": 17
        },
        "outputId": "47fe935b-171f-4a8b-9111-39506440edf6"
      },
      "outputs": [
        {
          "output_type": "display_data",
          "data": {
            "text/plain": [
              "<IPython.core.display.Javascript object>"
            ],
            "application/javascript": [
              "\n",
              "    async function download(id, filename, size) {\n",
              "      if (!google.colab.kernel.accessAllowed) {\n",
              "        return;\n",
              "      }\n",
              "      const div = document.createElement('div');\n",
              "      const label = document.createElement('label');\n",
              "      label.textContent = `Downloading \"${filename}\": `;\n",
              "      div.appendChild(label);\n",
              "      const progress = document.createElement('progress');\n",
              "      progress.max = size;\n",
              "      div.appendChild(progress);\n",
              "      document.body.appendChild(div);\n",
              "\n",
              "      const buffers = [];\n",
              "      let downloaded = 0;\n",
              "\n",
              "      const channel = await google.colab.kernel.comms.open(id);\n",
              "      // Send a message to notify the kernel that we're ready.\n",
              "      channel.send({})\n",
              "\n",
              "      for await (const message of channel.messages) {\n",
              "        // Send a message to notify the kernel that we're ready.\n",
              "        channel.send({})\n",
              "        if (message.buffers) {\n",
              "          for (const buffer of message.buffers) {\n",
              "            buffers.push(buffer);\n",
              "            downloaded += buffer.byteLength;\n",
              "            progress.value = downloaded;\n",
              "          }\n",
              "        }\n",
              "      }\n",
              "      const blob = new Blob(buffers, {type: 'application/binary'});\n",
              "      const a = document.createElement('a');\n",
              "      a.href = window.URL.createObjectURL(blob);\n",
              "      a.download = filename;\n",
              "      div.appendChild(a);\n",
              "      a.click();\n",
              "      div.remove();\n",
              "    }\n",
              "  "
            ]
          },
          "metadata": {}
        },
        {
          "output_type": "display_data",
          "data": {
            "text/plain": [
              "<IPython.core.display.Javascript object>"
            ],
            "application/javascript": [
              "download(\"download_4bed8df7-b9e6-4040-a495-3e557b0f73d6\", \"maharashtra.csv\", 2338277)"
            ]
          },
          "metadata": {}
        }
      ],
      "source": [
        "from google.colab import files\n",
        "final_df.to_csv('maharashtra.csv')\n",
        "files.download(\"maharashtra.csv\")"
      ]
    },
    {
      "cell_type": "markdown",
      "source": [
        "# Other Clustering Method"
      ],
      "metadata": {
        "id": "Vnbef0xwjEyj"
      }
    },
    {
      "cell_type": "code",
      "source": [
        "from sklearn import metrics"
      ],
      "metadata": {
        "id": "NBSQy-_TpVHH"
      },
      "execution_count": 50,
      "outputs": []
    },
    {
      "cell_type": "code",
      "source": [
        "our_labels = np.array(final_df.Cluster)\n",
        "clust_num = len(set(final_df['Cluster']))"
      ],
      "metadata": {
        "id": "KLSVtuZS0y0b"
      },
      "execution_count": 53,
      "outputs": []
    },
    {
      "cell_type": "code",
      "source": [
        "clust_num"
      ],
      "metadata": {
        "colab": {
          "base_uri": "https://localhost:8080/"
        },
        "id": "D2DMrLGN1u5P",
        "outputId": "245f4bf9-faac-4a8f-bef1-4ec686df101c"
      },
      "execution_count": 62,
      "outputs": [
        {
          "output_type": "execute_result",
          "data": {
            "text/plain": [
              "266"
            ]
          },
          "metadata": {},
          "execution_count": 62
        }
      ]
    },
    {
      "cell_type": "markdown",
      "source": [
        "## Kmeans"
      ],
      "metadata": {
        "id": "Yyhj3qW4KFcP"
      }
    },
    {
      "cell_type": "code",
      "source": [
        "from sklearn.cluster import KMeans\n",
        "\n",
        "my_model1 = KMeans(n_clusters = clust_num).fit(similarities)\n",
        "labels1 = my_model1.labels_"
      ],
      "metadata": {
        "id": "GPAe3RDu-zGG"
      },
      "execution_count": 58,
      "outputs": []
    },
    {
      "cell_type": "code",
      "source": [
        "print(metrics.silhouette_score(similarities,labels1))\n",
        "print(metrics.calinski_harabasz_score(similarities,labels1))\n",
        "print(metrics.davies_bouldin_score(similarities,labels1))"
      ],
      "metadata": {
        "colab": {
          "base_uri": "https://localhost:8080/"
        },
        "id": "IaNnMe61bd-I",
        "outputId": "392f3836-cccc-4ea1-b209-db2b7e56d08f"
      },
      "execution_count": 59,
      "outputs": [
        {
          "output_type": "stream",
          "name": "stdout",
          "text": [
            "0.7222510396640786\n",
            "3528.7249116790213\n",
            "1.121219874962951\n"
          ]
        }
      ]
    },
    {
      "cell_type": "code",
      "source": [
        "distances = 1 - similarities\n",
        "distances=distances+0.000001\n",
        "np.fill_diagonal(distances, 0)\n",
        "distances"
      ],
      "metadata": {
        "colab": {
          "base_uri": "https://localhost:8080/"
        },
        "id": "x24jLxqFrJkn",
        "outputId": "2e3093af-1d25-4d1e-9f02-f760d3a5b237"
      },
      "execution_count": 88,
      "outputs": [
        {
          "output_type": "execute_result",
          "data": {
            "text/plain": [
              "array([[0.        , 0.23333908, 0.53693231, ..., 0.80732522, 0.6712039 ,\n",
              "        0.61389776],\n",
              "       [0.23333908, 0.        , 0.60822769, ..., 0.77025709, 0.66656374,\n",
              "        0.6324745 ],\n",
              "       [0.53693231, 0.60822769, 0.        , ..., 0.74180482, 0.62514977,\n",
              "        0.59499316],\n",
              "       ...,\n",
              "       [0.80732522, 0.77025709, 0.74180482, ..., 0.        , 0.28350542,\n",
              "        0.69135489],\n",
              "       [0.6712039 , 0.66656374, 0.62514977, ..., 0.28350542, 0.        ,\n",
              "        0.56753545],\n",
              "       [0.61389776, 0.6324745 , 0.59499316, ..., 0.69135489, 0.56753545,\n",
              "        0.        ]])"
            ]
          },
          "metadata": {},
          "execution_count": 88
        }
      ]
    },
    {
      "cell_type": "code",
      "source": [
        "print(metrics.silhouette_score(distances,labels1, metric=\"precomputed\"))\n",
        "print(metrics.calinski_harabasz_score(similarities,labels1))\n",
        "print(metrics.davies_bouldin_score(similarities,labels1))"
      ],
      "metadata": {
        "colab": {
          "base_uri": "https://localhost:8080/"
        },
        "id": "mBOUth5Tq0km",
        "outputId": "c365e119-14a0-45ef-ebca-218a86b60e9f"
      },
      "execution_count": 89,
      "outputs": [
        {
          "output_type": "stream",
          "name": "stdout",
          "text": [
            "0.6760763078129507\n",
            "3528.7249116790213\n",
            "1.121219874962951\n"
          ]
        }
      ]
    },
    {
      "cell_type": "markdown",
      "source": [
        "## Agglomerative"
      ],
      "metadata": {
        "id": "8j9eku5qKImO"
      }
    },
    {
      "cell_type": "code",
      "source": [
        "from sklearn import metrics\n",
        "from sklearn.cluster import AgglomerativeClustering\n",
        "\n",
        "my_model2 = AgglomerativeClustering(n_clusters = clust_num).fit(similarities)\n",
        "labels2 = my_model2.labels_"
      ],
      "metadata": {
        "id": "QKZ-riPAo9Hf"
      },
      "execution_count": 55,
      "outputs": []
    },
    {
      "cell_type": "code",
      "source": [
        "print(metrics.silhouette_score(similarities,labels2))\n",
        "print(metrics.calinski_harabasz_score(similarities,labels2))\n",
        "print(metrics.davies_bouldin_score(similarities,labels2))"
      ],
      "metadata": {
        "colab": {
          "base_uri": "https://localhost:8080/"
        },
        "id": "f8EVuhuMJzjr",
        "outputId": "b930d23e-7b05-41d3-ddc9-0a6c72f7920f"
      },
      "execution_count": 56,
      "outputs": [
        {
          "output_type": "stream",
          "name": "stdout",
          "text": [
            "0.7242937218063059\n",
            "3450.643010078562\n",
            "1.1347808094237504\n"
          ]
        }
      ]
    },
    {
      "cell_type": "markdown",
      "source": [
        "## DBSCAN"
      ],
      "metadata": {
        "id": "Gh_eRx67KNh9"
      }
    },
    {
      "cell_type": "code",
      "source": [
        "from sklearn import metrics\n",
        "from sklearn.cluster import DBSCAN\n",
        "\n",
        "my_model3 = DBSCAN().fit(similarities)\n",
        "labels3 = my_model3.labels_"
      ],
      "metadata": {
        "id": "XsYzmWyHHjed"
      },
      "execution_count": 82,
      "outputs": []
    },
    {
      "cell_type": "code",
      "source": [
        "set(labels3)"
      ],
      "metadata": {
        "colab": {
          "base_uri": "https://localhost:8080/"
        },
        "id": "52GjNvrFKyN3",
        "outputId": "bdb942c9-9539-484b-a620-a0c78753c362"
      },
      "execution_count": 83,
      "outputs": [
        {
          "output_type": "execute_result",
          "data": {
            "text/plain": [
              "{-1,\n",
              " 0,\n",
              " 1,\n",
              " 2,\n",
              " 3,\n",
              " 4,\n",
              " 5,\n",
              " 6,\n",
              " 7,\n",
              " 8,\n",
              " 9,\n",
              " 10,\n",
              " 11,\n",
              " 12,\n",
              " 13,\n",
              " 14,\n",
              " 15,\n",
              " 16,\n",
              " 17,\n",
              " 18,\n",
              " 19,\n",
              " 20,\n",
              " 21,\n",
              " 22,\n",
              " 23,\n",
              " 24,\n",
              " 25,\n",
              " 26,\n",
              " 27,\n",
              " 28,\n",
              " 29,\n",
              " 30,\n",
              " 31,\n",
              " 32,\n",
              " 33,\n",
              " 34,\n",
              " 35,\n",
              " 36,\n",
              " 37,\n",
              " 38,\n",
              " 39,\n",
              " 40,\n",
              " 41,\n",
              " 42,\n",
              " 43,\n",
              " 44,\n",
              " 45,\n",
              " 46,\n",
              " 47,\n",
              " 48,\n",
              " 49,\n",
              " 50,\n",
              " 51,\n",
              " 52,\n",
              " 53,\n",
              " 54,\n",
              " 55,\n",
              " 56,\n",
              " 57,\n",
              " 58,\n",
              " 59,\n",
              " 60,\n",
              " 61,\n",
              " 62,\n",
              " 63,\n",
              " 64,\n",
              " 65,\n",
              " 66,\n",
              " 67,\n",
              " 68,\n",
              " 69,\n",
              " 70,\n",
              " 71,\n",
              " 72,\n",
              " 73,\n",
              " 74,\n",
              " 75,\n",
              " 76,\n",
              " 77,\n",
              " 78,\n",
              " 79,\n",
              " 80,\n",
              " 81,\n",
              " 82,\n",
              " 83,\n",
              " 84,\n",
              " 85,\n",
              " 86,\n",
              " 87,\n",
              " 88,\n",
              " 89,\n",
              " 90,\n",
              " 91,\n",
              " 92,\n",
              " 93,\n",
              " 94,\n",
              " 95,\n",
              " 96,\n",
              " 97,\n",
              " 98,\n",
              " 99,\n",
              " 100,\n",
              " 101,\n",
              " 102,\n",
              " 103,\n",
              " 104,\n",
              " 105,\n",
              " 106,\n",
              " 107,\n",
              " 108,\n",
              " 109,\n",
              " 110,\n",
              " 111,\n",
              " 112,\n",
              " 113,\n",
              " 114,\n",
              " 115,\n",
              " 116,\n",
              " 117,\n",
              " 118,\n",
              " 119,\n",
              " 120,\n",
              " 121,\n",
              " 122,\n",
              " 123,\n",
              " 124,\n",
              " 125,\n",
              " 126,\n",
              " 127,\n",
              " 128,\n",
              " 129,\n",
              " 130,\n",
              " 131,\n",
              " 132,\n",
              " 133,\n",
              " 134,\n",
              " 135,\n",
              " 136,\n",
              " 137,\n",
              " 138,\n",
              " 139,\n",
              " 140,\n",
              " 141,\n",
              " 142,\n",
              " 143,\n",
              " 144,\n",
              " 145,\n",
              " 146,\n",
              " 147,\n",
              " 148,\n",
              " 149,\n",
              " 150,\n",
              " 151,\n",
              " 152,\n",
              " 153,\n",
              " 154,\n",
              " 155,\n",
              " 156,\n",
              " 157,\n",
              " 158,\n",
              " 159,\n",
              " 160,\n",
              " 161,\n",
              " 162,\n",
              " 163,\n",
              " 164,\n",
              " 165,\n",
              " 166,\n",
              " 167,\n",
              " 168,\n",
              " 169,\n",
              " 170,\n",
              " 171,\n",
              " 172,\n",
              " 173,\n",
              " 174,\n",
              " 175,\n",
              " 176,\n",
              " 177,\n",
              " 178,\n",
              " 179,\n",
              " 180,\n",
              " 181,\n",
              " 182,\n",
              " 183,\n",
              " 184,\n",
              " 185,\n",
              " 186,\n",
              " 187,\n",
              " 188,\n",
              " 189,\n",
              " 190,\n",
              " 191,\n",
              " 192,\n",
              " 193,\n",
              " 194,\n",
              " 195,\n",
              " 196,\n",
              " 197,\n",
              " 198,\n",
              " 199,\n",
              " 200,\n",
              " 201,\n",
              " 202,\n",
              " 203,\n",
              " 204,\n",
              " 205,\n",
              " 206,\n",
              " 207,\n",
              " 208,\n",
              " 209,\n",
              " 210,\n",
              " 211,\n",
              " 212,\n",
              " 213,\n",
              " 214,\n",
              " 215,\n",
              " 216,\n",
              " 217,\n",
              " 218,\n",
              " 219,\n",
              " 220,\n",
              " 221,\n",
              " 222,\n",
              " 223,\n",
              " 224,\n",
              " 225,\n",
              " 226,\n",
              " 227,\n",
              " 228,\n",
              " 229,\n",
              " 230,\n",
              " 231,\n",
              " 232,\n",
              " 233,\n",
              " 234,\n",
              " 235,\n",
              " 236,\n",
              " 237,\n",
              " 238,\n",
              " 239,\n",
              " 240,\n",
              " 241,\n",
              " 242,\n",
              " 243,\n",
              " 244,\n",
              " 245,\n",
              " 246,\n",
              " 247,\n",
              " 248,\n",
              " 249,\n",
              " 250,\n",
              " 251,\n",
              " 252}"
            ]
          },
          "metadata": {},
          "execution_count": 83
        }
      ]
    },
    {
      "cell_type": "code",
      "source": [
        "print(metrics.silhouette_score(similarities,labels3))\n",
        "print(metrics.calinski_harabasz_score(similarities,labels3))\n",
        "print(metrics.davies_bouldin_score(similarities,labels3))"
      ],
      "metadata": {
        "colab": {
          "base_uri": "https://localhost:8080/"
        },
        "id": "FgwsC5toJ3oX",
        "outputId": "5b6fcba0-9e72-4bbc-e3a8-23a23040c9da"
      },
      "execution_count": 84,
      "outputs": [
        {
          "output_type": "stream",
          "name": "stdout",
          "text": [
            "0.6218432903893104\n",
            "288.5213784666589\n",
            "0.9681264976455511\n"
          ]
        }
      ]
    },
    {
      "cell_type": "code",
      "source": [
        "pd.Series(labels3).value_counts()"
      ],
      "metadata": {
        "colab": {
          "base_uri": "https://localhost:8080/"
        },
        "id": "sjX1gyWILX7i",
        "outputId": "3ed47ccc-ab6a-41c1-cded-879eaa5e99ee"
      },
      "execution_count": 86,
      "outputs": [
        {
          "output_type": "execute_result",
          "data": {
            "text/plain": [
              "-1      2667\n",
              " 5      1101\n",
              " 2       725\n",
              " 24      583\n",
              " 0       524\n",
              "        ... \n",
              " 194       5\n",
              " 198       5\n",
              " 208       5\n",
              " 210       5\n",
              " 252       5\n",
              "Length: 254, dtype: int64"
            ]
          },
          "metadata": {},
          "execution_count": 86
        }
      ]
    },
    {
      "cell_type": "markdown",
      "source": [
        "## OPTICS"
      ],
      "metadata": {
        "id": "2hC4BoSjKQ6D"
      }
    },
    {
      "cell_type": "code",
      "source": [
        "from sklearn import metrics\n",
        "from sklearn.cluster import OPTICS\n",
        "\n",
        "my_model4 = OPTICS().fit(similarities)\n",
        "labels4 = my_model4.labels_"
      ],
      "metadata": {
        "colab": {
          "base_uri": "https://localhost:8080/",
          "height": 371
        },
        "id": "UsCI5XrSLRz5",
        "outputId": "a9d772fa-95d4-4089-f6f6-3aada822adc4"
      },
      "execution_count": 87,
      "outputs": [
        {
          "output_type": "error",
          "ename": "KeyboardInterrupt",
          "evalue": "ignored",
          "traceback": [
            "\u001b[0;31m---------------------------------------------------------------------------\u001b[0m",
            "\u001b[0;31mKeyboardInterrupt\u001b[0m                         Traceback (most recent call last)",
            "\u001b[0;32m<ipython-input-87-82b66a8baa77>\u001b[0m in \u001b[0;36m<module>\u001b[0;34m\u001b[0m\n\u001b[1;32m      2\u001b[0m \u001b[0;32mfrom\u001b[0m \u001b[0msklearn\u001b[0m\u001b[0;34m.\u001b[0m\u001b[0mcluster\u001b[0m \u001b[0;32mimport\u001b[0m \u001b[0mOPTICS\u001b[0m\u001b[0;34m\u001b[0m\u001b[0;34m\u001b[0m\u001b[0m\n\u001b[1;32m      3\u001b[0m \u001b[0;34m\u001b[0m\u001b[0m\n\u001b[0;32m----> 4\u001b[0;31m \u001b[0mmy_model4\u001b[0m \u001b[0;34m=\u001b[0m \u001b[0mOPTICS\u001b[0m\u001b[0;34m(\u001b[0m\u001b[0;34m)\u001b[0m\u001b[0;34m.\u001b[0m\u001b[0mfit\u001b[0m\u001b[0;34m(\u001b[0m\u001b[0msimilarities\u001b[0m\u001b[0;34m)\u001b[0m\u001b[0;34m\u001b[0m\u001b[0;34m\u001b[0m\u001b[0m\n\u001b[0m\u001b[1;32m      5\u001b[0m \u001b[0mlabels4\u001b[0m \u001b[0;34m=\u001b[0m \u001b[0mmy_model4\u001b[0m\u001b[0;34m.\u001b[0m\u001b[0mlabels_\u001b[0m\u001b[0;34m\u001b[0m\u001b[0;34m\u001b[0m\u001b[0m\n",
            "\u001b[0;32m/usr/local/lib/python3.8/dist-packages/sklearn/cluster/_optics.py\u001b[0m in \u001b[0;36mfit\u001b[0;34m(self, X, y)\u001b[0m\n\u001b[1;32m    300\u001b[0m             \u001b[0mself\u001b[0m\u001b[0;34m.\u001b[0m\u001b[0mreachability_\u001b[0m\u001b[0;34m,\u001b[0m\u001b[0;34m\u001b[0m\u001b[0;34m\u001b[0m\u001b[0m\n\u001b[1;32m    301\u001b[0m             \u001b[0mself\u001b[0m\u001b[0;34m.\u001b[0m\u001b[0mpredecessor_\u001b[0m\u001b[0;34m,\u001b[0m\u001b[0;34m\u001b[0m\u001b[0;34m\u001b[0m\u001b[0m\n\u001b[0;32m--> 302\u001b[0;31m         \u001b[0;34m)\u001b[0m \u001b[0;34m=\u001b[0m \u001b[0mmemory\u001b[0m\u001b[0;34m.\u001b[0m\u001b[0mcache\u001b[0m\u001b[0;34m(\u001b[0m\u001b[0mcompute_optics_graph\u001b[0m\u001b[0;34m)\u001b[0m\u001b[0;34m(\u001b[0m\u001b[0;34m\u001b[0m\u001b[0;34m\u001b[0m\u001b[0m\n\u001b[0m\u001b[1;32m    303\u001b[0m             \u001b[0mX\u001b[0m\u001b[0;34m=\u001b[0m\u001b[0mX\u001b[0m\u001b[0;34m,\u001b[0m\u001b[0;34m\u001b[0m\u001b[0;34m\u001b[0m\u001b[0m\n\u001b[1;32m    304\u001b[0m             \u001b[0mmin_samples\u001b[0m\u001b[0;34m=\u001b[0m\u001b[0mself\u001b[0m\u001b[0;34m.\u001b[0m\u001b[0mmin_samples\u001b[0m\u001b[0;34m,\u001b[0m\u001b[0;34m\u001b[0m\u001b[0;34m\u001b[0m\u001b[0m\n",
            "\u001b[0;32m/usr/local/lib/python3.8/dist-packages/joblib/memory.py\u001b[0m in \u001b[0;36m__call__\u001b[0;34m(self, *args, **kwargs)\u001b[0m\n\u001b[1;32m    347\u001b[0m \u001b[0;34m\u001b[0m\u001b[0m\n\u001b[1;32m    348\u001b[0m     \u001b[0;32mdef\u001b[0m \u001b[0m__call__\u001b[0m\u001b[0;34m(\u001b[0m\u001b[0mself\u001b[0m\u001b[0;34m,\u001b[0m \u001b[0;34m*\u001b[0m\u001b[0margs\u001b[0m\u001b[0;34m,\u001b[0m \u001b[0;34m**\u001b[0m\u001b[0mkwargs\u001b[0m\u001b[0;34m)\u001b[0m\u001b[0;34m:\u001b[0m\u001b[0;34m\u001b[0m\u001b[0;34m\u001b[0m\u001b[0m\n\u001b[0;32m--> 349\u001b[0;31m         \u001b[0;32mreturn\u001b[0m \u001b[0mself\u001b[0m\u001b[0;34m.\u001b[0m\u001b[0mfunc\u001b[0m\u001b[0;34m(\u001b[0m\u001b[0;34m*\u001b[0m\u001b[0margs\u001b[0m\u001b[0;34m,\u001b[0m \u001b[0;34m**\u001b[0m\u001b[0mkwargs\u001b[0m\u001b[0;34m)\u001b[0m\u001b[0;34m\u001b[0m\u001b[0;34m\u001b[0m\u001b[0m\n\u001b[0m\u001b[1;32m    350\u001b[0m \u001b[0;34m\u001b[0m\u001b[0m\n\u001b[1;32m    351\u001b[0m     \u001b[0;32mdef\u001b[0m \u001b[0mcall_and_shelve\u001b[0m\u001b[0;34m(\u001b[0m\u001b[0mself\u001b[0m\u001b[0;34m,\u001b[0m \u001b[0;34m*\u001b[0m\u001b[0margs\u001b[0m\u001b[0;34m,\u001b[0m \u001b[0;34m**\u001b[0m\u001b[0mkwargs\u001b[0m\u001b[0;34m)\u001b[0m\u001b[0;34m:\u001b[0m\u001b[0;34m\u001b[0m\u001b[0;34m\u001b[0m\u001b[0m\n",
            "\u001b[0;32m/usr/local/lib/python3.8/dist-packages/sklearn/cluster/_optics.py\u001b[0m in \u001b[0;36mcompute_optics_graph\u001b[0;34m(X, min_samples, max_eps, metric, p, metric_params, algorithm, leaf_size, n_jobs)\u001b[0m\n\u001b[1;32m    554\u001b[0m         \u001b[0mordering\u001b[0m\u001b[0;34m[\u001b[0m\u001b[0mordering_idx\u001b[0m\u001b[0;34m]\u001b[0m \u001b[0;34m=\u001b[0m \u001b[0mpoint\u001b[0m\u001b[0;34m\u001b[0m\u001b[0;34m\u001b[0m\u001b[0m\n\u001b[1;32m    555\u001b[0m         \u001b[0;32mif\u001b[0m \u001b[0mcore_distances_\u001b[0m\u001b[0;34m[\u001b[0m\u001b[0mpoint\u001b[0m\u001b[0;34m]\u001b[0m \u001b[0;34m!=\u001b[0m \u001b[0mnp\u001b[0m\u001b[0;34m.\u001b[0m\u001b[0minf\u001b[0m\u001b[0;34m:\u001b[0m\u001b[0;34m\u001b[0m\u001b[0;34m\u001b[0m\u001b[0m\n\u001b[0;32m--> 556\u001b[0;31m             _set_reach_dist(\n\u001b[0m\u001b[1;32m    557\u001b[0m                 \u001b[0mcore_distances_\u001b[0m\u001b[0;34m=\u001b[0m\u001b[0mcore_distances_\u001b[0m\u001b[0;34m,\u001b[0m\u001b[0;34m\u001b[0m\u001b[0;34m\u001b[0m\u001b[0m\n\u001b[1;32m    558\u001b[0m                 \u001b[0mreachability_\u001b[0m\u001b[0;34m=\u001b[0m\u001b[0mreachability_\u001b[0m\u001b[0;34m,\u001b[0m\u001b[0;34m\u001b[0m\u001b[0;34m\u001b[0m\u001b[0m\n",
            "\u001b[0;32m/usr/local/lib/python3.8/dist-packages/sklearn/cluster/_optics.py\u001b[0m in \u001b[0;36m_set_reach_dist\u001b[0;34m(core_distances_, reachability_, predecessor_, point_index, processed, X, nbrs, metric, metric_params, p, max_eps)\u001b[0m\n\u001b[1;32m    593\u001b[0m     \u001b[0;31m# and we don't need all distances, nevertheless, this means\u001b[0m\u001b[0;34m\u001b[0m\u001b[0;34m\u001b[0m\u001b[0;34m\u001b[0m\u001b[0m\n\u001b[1;32m    594\u001b[0m     \u001b[0;31m# we may be doing some work twice.\u001b[0m\u001b[0;34m\u001b[0m\u001b[0;34m\u001b[0m\u001b[0;34m\u001b[0m\u001b[0m\n\u001b[0;32m--> 595\u001b[0;31m     \u001b[0mindices\u001b[0m \u001b[0;34m=\u001b[0m \u001b[0mnbrs\u001b[0m\u001b[0;34m.\u001b[0m\u001b[0mradius_neighbors\u001b[0m\u001b[0;34m(\u001b[0m\u001b[0mP\u001b[0m\u001b[0;34m,\u001b[0m \u001b[0mradius\u001b[0m\u001b[0;34m=\u001b[0m\u001b[0mmax_eps\u001b[0m\u001b[0;34m,\u001b[0m \u001b[0mreturn_distance\u001b[0m\u001b[0;34m=\u001b[0m\u001b[0;32mFalse\u001b[0m\u001b[0;34m)\u001b[0m\u001b[0;34m[\u001b[0m\u001b[0;36m0\u001b[0m\u001b[0;34m]\u001b[0m\u001b[0;34m\u001b[0m\u001b[0;34m\u001b[0m\u001b[0m\n\u001b[0m\u001b[1;32m    596\u001b[0m \u001b[0;34m\u001b[0m\u001b[0m\n\u001b[1;32m    597\u001b[0m     \u001b[0;31m# Getting indices of neighbors that have not been processed\u001b[0m\u001b[0;34m\u001b[0m\u001b[0;34m\u001b[0m\u001b[0;34m\u001b[0m\u001b[0m\n",
            "\u001b[0;32m/usr/local/lib/python3.8/dist-packages/sklearn/neighbors/_base.py\u001b[0m in \u001b[0;36mradius_neighbors\u001b[0;34m(self, X, radius, return_distance, sort_results)\u001b[0m\n\u001b[1;32m   1082\u001b[0m                 \u001b[0mresults\u001b[0m \u001b[0;34m=\u001b[0m \u001b[0mneigh_dist\u001b[0m\u001b[0;34m,\u001b[0m \u001b[0mneigh_ind\u001b[0m\u001b[0;34m\u001b[0m\u001b[0;34m\u001b[0m\u001b[0m\n\u001b[1;32m   1083\u001b[0m             \u001b[0;32melse\u001b[0m\u001b[0;34m:\u001b[0m\u001b[0;34m\u001b[0m\u001b[0;34m\u001b[0m\u001b[0m\n\u001b[0;32m-> 1084\u001b[0;31m                 \u001b[0mneigh_ind_list\u001b[0m \u001b[0;34m=\u001b[0m \u001b[0msum\u001b[0m\u001b[0;34m(\u001b[0m\u001b[0mchunked_results\u001b[0m\u001b[0;34m,\u001b[0m \u001b[0;34m[\u001b[0m\u001b[0;34m]\u001b[0m\u001b[0;34m)\u001b[0m\u001b[0;34m\u001b[0m\u001b[0;34m\u001b[0m\u001b[0m\n\u001b[0m\u001b[1;32m   1085\u001b[0m                 \u001b[0mresults\u001b[0m \u001b[0;34m=\u001b[0m \u001b[0m_to_object_array\u001b[0m\u001b[0;34m(\u001b[0m\u001b[0mneigh_ind_list\u001b[0m\u001b[0;34m)\u001b[0m\u001b[0;34m\u001b[0m\u001b[0;34m\u001b[0m\u001b[0m\n\u001b[1;32m   1086\u001b[0m \u001b[0;34m\u001b[0m\u001b[0m\n",
            "\u001b[0;32m/usr/local/lib/python3.8/dist-packages/sklearn/metrics/pairwise.py\u001b[0m in \u001b[0;36mpairwise_distances_chunked\u001b[0;34m(X, Y, reduce_func, metric, n_jobs, working_memory, **kwds)\u001b[0m\n\u001b[1;32m   1715\u001b[0m         \u001b[0;32melse\u001b[0m\u001b[0;34m:\u001b[0m\u001b[0;34m\u001b[0m\u001b[0;34m\u001b[0m\u001b[0m\n\u001b[1;32m   1716\u001b[0m             \u001b[0mX_chunk\u001b[0m \u001b[0;34m=\u001b[0m \u001b[0mX\u001b[0m\u001b[0;34m[\u001b[0m\u001b[0msl\u001b[0m\u001b[0;34m]\u001b[0m\u001b[0;34m\u001b[0m\u001b[0;34m\u001b[0m\u001b[0m\n\u001b[0;32m-> 1717\u001b[0;31m         \u001b[0mD_chunk\u001b[0m \u001b[0;34m=\u001b[0m \u001b[0mpairwise_distances\u001b[0m\u001b[0;34m(\u001b[0m\u001b[0mX_chunk\u001b[0m\u001b[0;34m,\u001b[0m \u001b[0mY\u001b[0m\u001b[0;34m,\u001b[0m \u001b[0mmetric\u001b[0m\u001b[0;34m=\u001b[0m\u001b[0mmetric\u001b[0m\u001b[0;34m,\u001b[0m \u001b[0mn_jobs\u001b[0m\u001b[0;34m=\u001b[0m\u001b[0mn_jobs\u001b[0m\u001b[0;34m,\u001b[0m \u001b[0;34m**\u001b[0m\u001b[0mkwds\u001b[0m\u001b[0;34m)\u001b[0m\u001b[0;34m\u001b[0m\u001b[0;34m\u001b[0m\u001b[0m\n\u001b[0m\u001b[1;32m   1718\u001b[0m         if (X is Y or Y is None) and PAIRWISE_DISTANCE_FUNCTIONS.get(\n\u001b[1;32m   1719\u001b[0m             \u001b[0mmetric\u001b[0m\u001b[0;34m,\u001b[0m \u001b[0;32mNone\u001b[0m\u001b[0;34m\u001b[0m\u001b[0;34m\u001b[0m\u001b[0m\n",
            "\u001b[0;32m/usr/local/lib/python3.8/dist-packages/sklearn/metrics/pairwise.py\u001b[0m in \u001b[0;36mpairwise_distances\u001b[0;34m(X, Y, metric, n_jobs, force_all_finite, **kwds)\u001b[0m\n\u001b[1;32m   1887\u001b[0m         \u001b[0mfunc\u001b[0m \u001b[0;34m=\u001b[0m \u001b[0mpartial\u001b[0m\u001b[0;34m(\u001b[0m\u001b[0mdistance\u001b[0m\u001b[0;34m.\u001b[0m\u001b[0mcdist\u001b[0m\u001b[0;34m,\u001b[0m \u001b[0mmetric\u001b[0m\u001b[0;34m=\u001b[0m\u001b[0mmetric\u001b[0m\u001b[0;34m,\u001b[0m \u001b[0;34m**\u001b[0m\u001b[0mkwds\u001b[0m\u001b[0;34m)\u001b[0m\u001b[0;34m\u001b[0m\u001b[0;34m\u001b[0m\u001b[0m\n\u001b[1;32m   1888\u001b[0m \u001b[0;34m\u001b[0m\u001b[0m\n\u001b[0;32m-> 1889\u001b[0;31m     \u001b[0;32mreturn\u001b[0m \u001b[0m_parallel_pairwise\u001b[0m\u001b[0;34m(\u001b[0m\u001b[0mX\u001b[0m\u001b[0;34m,\u001b[0m \u001b[0mY\u001b[0m\u001b[0;34m,\u001b[0m \u001b[0mfunc\u001b[0m\u001b[0;34m,\u001b[0m \u001b[0mn_jobs\u001b[0m\u001b[0;34m,\u001b[0m \u001b[0;34m**\u001b[0m\u001b[0mkwds\u001b[0m\u001b[0;34m)\u001b[0m\u001b[0;34m\u001b[0m\u001b[0;34m\u001b[0m\u001b[0m\n\u001b[0m\u001b[1;32m   1890\u001b[0m \u001b[0;34m\u001b[0m\u001b[0m\n\u001b[1;32m   1891\u001b[0m \u001b[0;34m\u001b[0m\u001b[0m\n",
            "\u001b[0;32m/usr/local/lib/python3.8/dist-packages/sklearn/metrics/pairwise.py\u001b[0m in \u001b[0;36m_parallel_pairwise\u001b[0;34m(X, Y, func, n_jobs, **kwds)\u001b[0m\n\u001b[1;32m   1428\u001b[0m \u001b[0;34m\u001b[0m\u001b[0m\n\u001b[1;32m   1429\u001b[0m     \u001b[0;32mif\u001b[0m \u001b[0meffective_n_jobs\u001b[0m\u001b[0;34m(\u001b[0m\u001b[0mn_jobs\u001b[0m\u001b[0;34m)\u001b[0m \u001b[0;34m==\u001b[0m \u001b[0;36m1\u001b[0m\u001b[0;34m:\u001b[0m\u001b[0;34m\u001b[0m\u001b[0;34m\u001b[0m\u001b[0m\n\u001b[0;32m-> 1430\u001b[0;31m         \u001b[0;32mreturn\u001b[0m \u001b[0mfunc\u001b[0m\u001b[0;34m(\u001b[0m\u001b[0mX\u001b[0m\u001b[0;34m,\u001b[0m \u001b[0mY\u001b[0m\u001b[0;34m,\u001b[0m \u001b[0;34m**\u001b[0m\u001b[0mkwds\u001b[0m\u001b[0;34m)\u001b[0m\u001b[0;34m\u001b[0m\u001b[0;34m\u001b[0m\u001b[0m\n\u001b[0m\u001b[1;32m   1431\u001b[0m \u001b[0;34m\u001b[0m\u001b[0m\n\u001b[1;32m   1432\u001b[0m     \u001b[0;31m# enforce a threading backend to prevent data communication overhead\u001b[0m\u001b[0;34m\u001b[0m\u001b[0;34m\u001b[0m\u001b[0;34m\u001b[0m\u001b[0m\n",
            "\u001b[0;32m/usr/local/lib/python3.8/dist-packages/sklearn/metrics/pairwise.py\u001b[0m in \u001b[0;36meuclidean_distances\u001b[0;34m(X, Y, Y_norm_squared, squared, X_norm_squared)\u001b[0m\n\u001b[1;32m    328\u001b[0m             )\n\u001b[1;32m    329\u001b[0m \u001b[0;34m\u001b[0m\u001b[0m\n\u001b[0;32m--> 330\u001b[0;31m     \u001b[0;32mreturn\u001b[0m \u001b[0m_euclidean_distances\u001b[0m\u001b[0;34m(\u001b[0m\u001b[0mX\u001b[0m\u001b[0;34m,\u001b[0m \u001b[0mY\u001b[0m\u001b[0;34m,\u001b[0m \u001b[0mX_norm_squared\u001b[0m\u001b[0;34m,\u001b[0m \u001b[0mY_norm_squared\u001b[0m\u001b[0;34m,\u001b[0m \u001b[0msquared\u001b[0m\u001b[0;34m)\u001b[0m\u001b[0;34m\u001b[0m\u001b[0;34m\u001b[0m\u001b[0m\n\u001b[0m\u001b[1;32m    331\u001b[0m \u001b[0;34m\u001b[0m\u001b[0m\n\u001b[1;32m    332\u001b[0m \u001b[0;34m\u001b[0m\u001b[0m\n",
            "\u001b[0;32m/usr/local/lib/python3.8/dist-packages/sklearn/metrics/pairwise.py\u001b[0m in \u001b[0;36m_euclidean_distances\u001b[0;34m(X, Y, X_norm_squared, Y_norm_squared, squared)\u001b[0m\n\u001b[1;32m    369\u001b[0m     \u001b[0;32melse\u001b[0m\u001b[0;34m:\u001b[0m\u001b[0;34m\u001b[0m\u001b[0;34m\u001b[0m\u001b[0m\n\u001b[1;32m    370\u001b[0m         \u001b[0;31m# if dtype is already float64, no need to chunk and upcast\u001b[0m\u001b[0;34m\u001b[0m\u001b[0;34m\u001b[0m\u001b[0;34m\u001b[0m\u001b[0m\n\u001b[0;32m--> 371\u001b[0;31m         \u001b[0mdistances\u001b[0m \u001b[0;34m=\u001b[0m \u001b[0;34m-\u001b[0m\u001b[0;36m2\u001b[0m \u001b[0;34m*\u001b[0m \u001b[0msafe_sparse_dot\u001b[0m\u001b[0;34m(\u001b[0m\u001b[0mX\u001b[0m\u001b[0;34m,\u001b[0m \u001b[0mY\u001b[0m\u001b[0;34m.\u001b[0m\u001b[0mT\u001b[0m\u001b[0;34m,\u001b[0m \u001b[0mdense_output\u001b[0m\u001b[0;34m=\u001b[0m\u001b[0;32mTrue\u001b[0m\u001b[0;34m)\u001b[0m\u001b[0;34m\u001b[0m\u001b[0;34m\u001b[0m\u001b[0m\n\u001b[0m\u001b[1;32m    372\u001b[0m         \u001b[0mdistances\u001b[0m \u001b[0;34m+=\u001b[0m \u001b[0mXX\u001b[0m\u001b[0;34m\u001b[0m\u001b[0;34m\u001b[0m\u001b[0m\n\u001b[1;32m    373\u001b[0m         \u001b[0mdistances\u001b[0m \u001b[0;34m+=\u001b[0m \u001b[0mYY\u001b[0m\u001b[0;34m\u001b[0m\u001b[0;34m\u001b[0m\u001b[0m\n",
            "\u001b[0;32m/usr/local/lib/python3.8/dist-packages/sklearn/utils/extmath.py\u001b[0m in \u001b[0;36msafe_sparse_dot\u001b[0;34m(a, b, dense_output)\u001b[0m\n\u001b[1;32m    151\u001b[0m             \u001b[0mret\u001b[0m \u001b[0;34m=\u001b[0m \u001b[0mnp\u001b[0m\u001b[0;34m.\u001b[0m\u001b[0mdot\u001b[0m\u001b[0;34m(\u001b[0m\u001b[0ma\u001b[0m\u001b[0;34m,\u001b[0m \u001b[0mb\u001b[0m\u001b[0;34m)\u001b[0m\u001b[0;34m\u001b[0m\u001b[0;34m\u001b[0m\u001b[0m\n\u001b[1;32m    152\u001b[0m     \u001b[0;32melse\u001b[0m\u001b[0;34m:\u001b[0m\u001b[0;34m\u001b[0m\u001b[0;34m\u001b[0m\u001b[0m\n\u001b[0;32m--> 153\u001b[0;31m         \u001b[0mret\u001b[0m \u001b[0;34m=\u001b[0m \u001b[0ma\u001b[0m \u001b[0;34m@\u001b[0m \u001b[0mb\u001b[0m\u001b[0;34m\u001b[0m\u001b[0;34m\u001b[0m\u001b[0m\n\u001b[0m\u001b[1;32m    154\u001b[0m \u001b[0;34m\u001b[0m\u001b[0m\n\u001b[1;32m    155\u001b[0m     if (\n",
            "\u001b[0;31mKeyboardInterrupt\u001b[0m: "
          ]
        }
      ]
    },
    {
      "cell_type": "code",
      "source": [
        "print(metrics.silhouette_score(similarities,labels4))\n",
        "print(metrics.calinski_harabasz_score(similarities,labels4))\n",
        "print(metrics.davies_bouldin_score(similarities,labels4))"
      ],
      "metadata": {
        "id": "Ebi9bchtJ5xS"
      },
      "execution_count": null,
      "outputs": []
    },
    {
      "cell_type": "code",
      "source": [
        "set(labels4)"
      ],
      "metadata": {
        "id": "t4FhGieNCuBg"
      },
      "execution_count": null,
      "outputs": []
    },
    {
      "cell_type": "code",
      "source": [],
      "metadata": {
        "id": "EUZqSbiPK-2x"
      },
      "execution_count": null,
      "outputs": []
    }
  ],
  "metadata": {
    "colab": {
      "provenance": []
    },
    "gpuClass": "standard",
    "kernelspec": {
      "display_name": "Python 3 (ipykernel)",
      "language": "python",
      "name": "python3"
    },
    "language_info": {
      "codemirror_mode": {
        "name": "ipython",
        "version": 3
      },
      "file_extension": ".py",
      "mimetype": "text/x-python",
      "name": "python",
      "nbconvert_exporter": "python",
      "pygments_lexer": "ipython3",
      "version": "3.10.6"
    }
  },
  "nbformat": 4,
  "nbformat_minor": 0
}