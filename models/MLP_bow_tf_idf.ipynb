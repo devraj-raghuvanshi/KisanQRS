{
  "nbformat": 4,
  "nbformat_minor": 0,
  "metadata": {
    "colab": {
      "provenance": []
    },
    "kernelspec": {
      "name": "python3",
      "display_name": "Python 3"
    },
    "language_info": {
      "name": "python"
    },
    "accelerator": "GPU",
    "gpuClass": "standard"
  },
  "cells": [
    {
      "cell_type": "code",
      "execution_count": 1,
      "metadata": {
        "id": "7LxE1C6UPySm"
      },
      "outputs": [],
      "source": [
        "import numpy as np\n",
        "import pandas as pd"
      ]
    },
    {
      "cell_type": "code",
      "source": [
        "from google.colab import files\n",
        "from google.colab import drive\n",
        "drive.mount('/drive')"
      ],
      "metadata": {
        "colab": {
          "base_uri": "https://localhost:8080/"
        },
        "id": "ZXRViusAP7ts",
        "outputId": "5cd854d2-ba50-4af3-c0b8-a74d27e75fb7"
      },
      "execution_count": 2,
      "outputs": [
        {
          "output_type": "stream",
          "name": "stdout",
          "text": [
            "Mounted at /drive\n"
          ]
        }
      ]
    },
    {
      "cell_type": "code",
      "source": [
        "df_ques_cluster = pd.read_csv('/drive/My Drive/Research Project IIT-I/AP Question clusters.csv')"
      ],
      "metadata": {
        "id": "OcTCGVUlSDED"
      },
      "execution_count": 3,
      "outputs": []
    },
    {
      "cell_type": "code",
      "source": [
        "df_ques_cluster"
      ],
      "metadata": {
        "colab": {
          "base_uri": "https://localhost:8080/",
          "height": 783
        },
        "id": "zf514bdMKgzE",
        "outputId": "aff87cd9-6cf6-4349-e397-36cf450dd515"
      },
      "execution_count": 4,
      "outputs": [
        {
          "output_type": "execute_result",
          "data": {
            "text/plain": [
              "          index    BlockName      Category  Year  Month  Day  \\\n",
              "0      23781986   SARAVAKOTA        Others  2020      6   10   \n",
              "1      23824164      NELLORE        Others  2020      3   17   \n",
              "2      23824118    KODAVALUR  Green Manure  2020      3   16   \n",
              "3      23824098    MARRIPADU        Others  2020      3   15   \n",
              "4      23821955     MANUBOLU        Others  2020      1   25   \n",
              "...         ...          ...           ...   ...    ...  ...   \n",
              "26714  23825672    CHILLAKUR      Oilseeds  2020     10   23   \n",
              "26715  23825977  VENKATAGIRI      Oilseeds  2020     11   12   \n",
              "26716  23823419        RAPUR        Fruits  2020      2   25   \n",
              "26717  23824455  BALAYAPALLE        Fruits  2020      7    6   \n",
              "26718  23823420        RAPUR        Fruits  2020      2   25   \n",
              "\n",
              "                               Crop DistrictName                  QueryType  \\\n",
              "0                            Others   SRIKAKULAM         Government Schemes   \n",
              "1                            Others      NELLORE                      Seeds   \n",
              "2        KolanchiTephrosia Purpurea      NELLORE                  Varieties   \n",
              "3                            Others      NELLORE         Government Schemes   \n",
              "4                            Others      NELLORE         Government Schemes   \n",
              "...                             ...          ...                        ...   \n",
              "26714  Groundnut pea nutmung phalli      NELLORE                      Seeds   \n",
              "26715  Groundnut pea nutmung phalli      NELLORE                      Seeds   \n",
              "26716                        Citrus      NELLORE  Agriculture Mechanization   \n",
              "26717                        Citrus      NELLORE           Plant Protection   \n",
              "26718                        Citrus      NELLORE        Nutrient Management   \n",
              "\n",
              "             Sector       StateName                     QueryText  \\\n",
              "0       AGRICULTURE  ANDHRA PRADESH                    MAO NUMBER   \n",
              "1       AGRICULTURE  ANDHRA PRADESH                    MAO NUMBER   \n",
              "2       AGRICULTURE  ANDHRA PRADESH                    MAO NUMBER   \n",
              "3       AGRICULTURE  ANDHRA PRADESH                    MAO NUMBER   \n",
              "4       AGRICULTURE  ANDHRA PRADESH                    MAO NUMBER   \n",
              "...             ...             ...                           ...   \n",
              "26714   AGRICULTURE  ANDHRA PRADESH          GROUNDS NUT VARIETY    \n",
              "26715   AGRICULTURE  ANDHRA PRADESH  kadiri ground nut varieties    \n",
              "26716  HORTICULTURE  ANDHRA PRADESH       CITRUS Scab MANAGEMENT    \n",
              "26717  HORTICULTURE  ANDHRA PRADESH        CITRUS SCAB MANAGEMENT   \n",
              "26718  HORTICULTURE  ANDHRA PRADESH        CITRUS Scab MANAGEMENT   \n",
              "\n",
              "                                                  KccAns  Cluster  \n",
              "0                   -- RECOMMENDED TO CONTACT 8886612698        1  \n",
              "1                                          -- 8886613101        1  \n",
              "2                                             8886613686        1  \n",
              "3                                             8886613671        1  \n",
              "4                                   MAO NUMBER8886613708        1  \n",
              "...                                                  ...      ...  \n",
              "26714               -- RECOMMENDED TO CONTACT 9989628385      568  \n",
              "26715  Agricultural Research Station Kadiri - 515 591...      568  \n",
              "26716  recommended to spray amistar top azoxystrobind...      569  \n",
              "26717  RECOMMENDED TO SPRAY CARBENDAZIM BAVISTIN 2GM ...      569  \n",
              "26718  recommended to spray amistar top azoxystrobind...      569  \n",
              "\n",
              "[26719 rows x 14 columns]"
            ],
            "text/html": [
              "\n",
              "  <div id=\"df-a37042fc-5c81-4760-86b7-c19d4b747c5d\">\n",
              "    <div class=\"colab-df-container\">\n",
              "      <div>\n",
              "<style scoped>\n",
              "    .dataframe tbody tr th:only-of-type {\n",
              "        vertical-align: middle;\n",
              "    }\n",
              "\n",
              "    .dataframe tbody tr th {\n",
              "        vertical-align: top;\n",
              "    }\n",
              "\n",
              "    .dataframe thead th {\n",
              "        text-align: right;\n",
              "    }\n",
              "</style>\n",
              "<table border=\"1\" class=\"dataframe\">\n",
              "  <thead>\n",
              "    <tr style=\"text-align: right;\">\n",
              "      <th></th>\n",
              "      <th>index</th>\n",
              "      <th>BlockName</th>\n",
              "      <th>Category</th>\n",
              "      <th>Year</th>\n",
              "      <th>Month</th>\n",
              "      <th>Day</th>\n",
              "      <th>Crop</th>\n",
              "      <th>DistrictName</th>\n",
              "      <th>QueryType</th>\n",
              "      <th>Sector</th>\n",
              "      <th>StateName</th>\n",
              "      <th>QueryText</th>\n",
              "      <th>KccAns</th>\n",
              "      <th>Cluster</th>\n",
              "    </tr>\n",
              "  </thead>\n",
              "  <tbody>\n",
              "    <tr>\n",
              "      <th>0</th>\n",
              "      <td>23781986</td>\n",
              "      <td>SARAVAKOTA</td>\n",
              "      <td>Others</td>\n",
              "      <td>2020</td>\n",
              "      <td>6</td>\n",
              "      <td>10</td>\n",
              "      <td>Others</td>\n",
              "      <td>SRIKAKULAM</td>\n",
              "      <td>Government Schemes</td>\n",
              "      <td>AGRICULTURE</td>\n",
              "      <td>ANDHRA PRADESH</td>\n",
              "      <td>MAO NUMBER</td>\n",
              "      <td>-- RECOMMENDED TO CONTACT 8886612698</td>\n",
              "      <td>1</td>\n",
              "    </tr>\n",
              "    <tr>\n",
              "      <th>1</th>\n",
              "      <td>23824164</td>\n",
              "      <td>NELLORE</td>\n",
              "      <td>Others</td>\n",
              "      <td>2020</td>\n",
              "      <td>3</td>\n",
              "      <td>17</td>\n",
              "      <td>Others</td>\n",
              "      <td>NELLORE</td>\n",
              "      <td>Seeds</td>\n",
              "      <td>AGRICULTURE</td>\n",
              "      <td>ANDHRA PRADESH</td>\n",
              "      <td>MAO NUMBER</td>\n",
              "      <td>-- 8886613101</td>\n",
              "      <td>1</td>\n",
              "    </tr>\n",
              "    <tr>\n",
              "      <th>2</th>\n",
              "      <td>23824118</td>\n",
              "      <td>KODAVALUR</td>\n",
              "      <td>Green Manure</td>\n",
              "      <td>2020</td>\n",
              "      <td>3</td>\n",
              "      <td>16</td>\n",
              "      <td>KolanchiTephrosia Purpurea</td>\n",
              "      <td>NELLORE</td>\n",
              "      <td>Varieties</td>\n",
              "      <td>AGRICULTURE</td>\n",
              "      <td>ANDHRA PRADESH</td>\n",
              "      <td>MAO NUMBER</td>\n",
              "      <td>8886613686</td>\n",
              "      <td>1</td>\n",
              "    </tr>\n",
              "    <tr>\n",
              "      <th>3</th>\n",
              "      <td>23824098</td>\n",
              "      <td>MARRIPADU</td>\n",
              "      <td>Others</td>\n",
              "      <td>2020</td>\n",
              "      <td>3</td>\n",
              "      <td>15</td>\n",
              "      <td>Others</td>\n",
              "      <td>NELLORE</td>\n",
              "      <td>Government Schemes</td>\n",
              "      <td>AGRICULTURE</td>\n",
              "      <td>ANDHRA PRADESH</td>\n",
              "      <td>MAO NUMBER</td>\n",
              "      <td>8886613671</td>\n",
              "      <td>1</td>\n",
              "    </tr>\n",
              "    <tr>\n",
              "      <th>4</th>\n",
              "      <td>23821955</td>\n",
              "      <td>MANUBOLU</td>\n",
              "      <td>Others</td>\n",
              "      <td>2020</td>\n",
              "      <td>1</td>\n",
              "      <td>25</td>\n",
              "      <td>Others</td>\n",
              "      <td>NELLORE</td>\n",
              "      <td>Government Schemes</td>\n",
              "      <td>AGRICULTURE</td>\n",
              "      <td>ANDHRA PRADESH</td>\n",
              "      <td>MAO NUMBER</td>\n",
              "      <td>MAO NUMBER8886613708</td>\n",
              "      <td>1</td>\n",
              "    </tr>\n",
              "    <tr>\n",
              "      <th>...</th>\n",
              "      <td>...</td>\n",
              "      <td>...</td>\n",
              "      <td>...</td>\n",
              "      <td>...</td>\n",
              "      <td>...</td>\n",
              "      <td>...</td>\n",
              "      <td>...</td>\n",
              "      <td>...</td>\n",
              "      <td>...</td>\n",
              "      <td>...</td>\n",
              "      <td>...</td>\n",
              "      <td>...</td>\n",
              "      <td>...</td>\n",
              "      <td>...</td>\n",
              "    </tr>\n",
              "    <tr>\n",
              "      <th>26714</th>\n",
              "      <td>23825672</td>\n",
              "      <td>CHILLAKUR</td>\n",
              "      <td>Oilseeds</td>\n",
              "      <td>2020</td>\n",
              "      <td>10</td>\n",
              "      <td>23</td>\n",
              "      <td>Groundnut pea nutmung phalli</td>\n",
              "      <td>NELLORE</td>\n",
              "      <td>Seeds</td>\n",
              "      <td>AGRICULTURE</td>\n",
              "      <td>ANDHRA PRADESH</td>\n",
              "      <td>GROUNDS NUT VARIETY</td>\n",
              "      <td>-- RECOMMENDED TO CONTACT 9989628385</td>\n",
              "      <td>568</td>\n",
              "    </tr>\n",
              "    <tr>\n",
              "      <th>26715</th>\n",
              "      <td>23825977</td>\n",
              "      <td>VENKATAGIRI</td>\n",
              "      <td>Oilseeds</td>\n",
              "      <td>2020</td>\n",
              "      <td>11</td>\n",
              "      <td>12</td>\n",
              "      <td>Groundnut pea nutmung phalli</td>\n",
              "      <td>NELLORE</td>\n",
              "      <td>Seeds</td>\n",
              "      <td>AGRICULTURE</td>\n",
              "      <td>ANDHRA PRADESH</td>\n",
              "      <td>kadiri ground nut varieties</td>\n",
              "      <td>Agricultural Research Station Kadiri - 515 591...</td>\n",
              "      <td>568</td>\n",
              "    </tr>\n",
              "    <tr>\n",
              "      <th>26716</th>\n",
              "      <td>23823419</td>\n",
              "      <td>RAPUR</td>\n",
              "      <td>Fruits</td>\n",
              "      <td>2020</td>\n",
              "      <td>2</td>\n",
              "      <td>25</td>\n",
              "      <td>Citrus</td>\n",
              "      <td>NELLORE</td>\n",
              "      <td>Agriculture Mechanization</td>\n",
              "      <td>HORTICULTURE</td>\n",
              "      <td>ANDHRA PRADESH</td>\n",
              "      <td>CITRUS Scab MANAGEMENT</td>\n",
              "      <td>recommended to spray amistar top azoxystrobind...</td>\n",
              "      <td>569</td>\n",
              "    </tr>\n",
              "    <tr>\n",
              "      <th>26717</th>\n",
              "      <td>23824455</td>\n",
              "      <td>BALAYAPALLE</td>\n",
              "      <td>Fruits</td>\n",
              "      <td>2020</td>\n",
              "      <td>7</td>\n",
              "      <td>6</td>\n",
              "      <td>Citrus</td>\n",
              "      <td>NELLORE</td>\n",
              "      <td>Plant Protection</td>\n",
              "      <td>HORTICULTURE</td>\n",
              "      <td>ANDHRA PRADESH</td>\n",
              "      <td>CITRUS SCAB MANAGEMENT</td>\n",
              "      <td>RECOMMENDED TO SPRAY CARBENDAZIM BAVISTIN 2GM ...</td>\n",
              "      <td>569</td>\n",
              "    </tr>\n",
              "    <tr>\n",
              "      <th>26718</th>\n",
              "      <td>23823420</td>\n",
              "      <td>RAPUR</td>\n",
              "      <td>Fruits</td>\n",
              "      <td>2020</td>\n",
              "      <td>2</td>\n",
              "      <td>25</td>\n",
              "      <td>Citrus</td>\n",
              "      <td>NELLORE</td>\n",
              "      <td>Nutrient Management</td>\n",
              "      <td>HORTICULTURE</td>\n",
              "      <td>ANDHRA PRADESH</td>\n",
              "      <td>CITRUS Scab MANAGEMENT</td>\n",
              "      <td>recommended to spray amistar top azoxystrobind...</td>\n",
              "      <td>569</td>\n",
              "    </tr>\n",
              "  </tbody>\n",
              "</table>\n",
              "<p>26719 rows × 14 columns</p>\n",
              "</div>\n",
              "      <button class=\"colab-df-convert\" onclick=\"convertToInteractive('df-a37042fc-5c81-4760-86b7-c19d4b747c5d')\"\n",
              "              title=\"Convert this dataframe to an interactive table.\"\n",
              "              style=\"display:none;\">\n",
              "        \n",
              "  <svg xmlns=\"http://www.w3.org/2000/svg\" height=\"24px\"viewBox=\"0 0 24 24\"\n",
              "       width=\"24px\">\n",
              "    <path d=\"M0 0h24v24H0V0z\" fill=\"none\"/>\n",
              "    <path d=\"M18.56 5.44l.94 2.06.94-2.06 2.06-.94-2.06-.94-.94-2.06-.94 2.06-2.06.94zm-11 1L8.5 8.5l.94-2.06 2.06-.94-2.06-.94L8.5 2.5l-.94 2.06-2.06.94zm10 10l.94 2.06.94-2.06 2.06-.94-2.06-.94-.94-2.06-.94 2.06-2.06.94z\"/><path d=\"M17.41 7.96l-1.37-1.37c-.4-.4-.92-.59-1.43-.59-.52 0-1.04.2-1.43.59L10.3 9.45l-7.72 7.72c-.78.78-.78 2.05 0 2.83L4 21.41c.39.39.9.59 1.41.59.51 0 1.02-.2 1.41-.59l7.78-7.78 2.81-2.81c.8-.78.8-2.07 0-2.86zM5.41 20L4 18.59l7.72-7.72 1.47 1.35L5.41 20z\"/>\n",
              "  </svg>\n",
              "      </button>\n",
              "      \n",
              "  <style>\n",
              "    .colab-df-container {\n",
              "      display:flex;\n",
              "      flex-wrap:wrap;\n",
              "      gap: 12px;\n",
              "    }\n",
              "\n",
              "    .colab-df-convert {\n",
              "      background-color: #E8F0FE;\n",
              "      border: none;\n",
              "      border-radius: 50%;\n",
              "      cursor: pointer;\n",
              "      display: none;\n",
              "      fill: #1967D2;\n",
              "      height: 32px;\n",
              "      padding: 0 0 0 0;\n",
              "      width: 32px;\n",
              "    }\n",
              "\n",
              "    .colab-df-convert:hover {\n",
              "      background-color: #E2EBFA;\n",
              "      box-shadow: 0px 1px 2px rgba(60, 64, 67, 0.3), 0px 1px 3px 1px rgba(60, 64, 67, 0.15);\n",
              "      fill: #174EA6;\n",
              "    }\n",
              "\n",
              "    [theme=dark] .colab-df-convert {\n",
              "      background-color: #3B4455;\n",
              "      fill: #D2E3FC;\n",
              "    }\n",
              "\n",
              "    [theme=dark] .colab-df-convert:hover {\n",
              "      background-color: #434B5C;\n",
              "      box-shadow: 0px 1px 3px 1px rgba(0, 0, 0, 0.15);\n",
              "      filter: drop-shadow(0px 1px 2px rgba(0, 0, 0, 0.3));\n",
              "      fill: #FFFFFF;\n",
              "    }\n",
              "  </style>\n",
              "\n",
              "      <script>\n",
              "        const buttonEl =\n",
              "          document.querySelector('#df-a37042fc-5c81-4760-86b7-c19d4b747c5d button.colab-df-convert');\n",
              "        buttonEl.style.display =\n",
              "          google.colab.kernel.accessAllowed ? 'block' : 'none';\n",
              "\n",
              "        async function convertToInteractive(key) {\n",
              "          const element = document.querySelector('#df-a37042fc-5c81-4760-86b7-c19d4b747c5d');\n",
              "          const dataTable =\n",
              "            await google.colab.kernel.invokeFunction('convertToInteractive',\n",
              "                                                     [key], {});\n",
              "          if (!dataTable) return;\n",
              "\n",
              "          const docLinkHtml = 'Like what you see? Visit the ' +\n",
              "            '<a target=\"_blank\" href=https://colab.research.google.com/notebooks/data_table.ipynb>data table notebook</a>'\n",
              "            + ' to learn more about interactive tables.';\n",
              "          element.innerHTML = '';\n",
              "          dataTable['output_type'] = 'display_data';\n",
              "          await google.colab.output.renderOutput(dataTable, element);\n",
              "          const docLink = document.createElement('div');\n",
              "          docLink.innerHTML = docLinkHtml;\n",
              "          element.appendChild(docLink);\n",
              "        }\n",
              "      </script>\n",
              "    </div>\n",
              "  </div>\n",
              "  "
            ]
          },
          "metadata": {},
          "execution_count": 4
        }
      ]
    },
    {
      "cell_type": "code",
      "source": [
        "import nltk\n",
        "nltk.download('punkt')\n",
        "from gensim.parsing.preprocessing import remove_stopwords\n",
        "from nltk import word_tokenize\n",
        "from nltk.stem import PorterStemmer"
      ],
      "metadata": {
        "colab": {
          "base_uri": "https://localhost:8080/"
        },
        "id": "pOZfGGRHbzqr",
        "outputId": "247a6138-8aef-4d75-c554-3b8f480ea484"
      },
      "execution_count": 5,
      "outputs": [
        {
          "output_type": "stream",
          "name": "stderr",
          "text": [
            "[nltk_data] Downloading package punkt to /root/nltk_data...\n",
            "[nltk_data]   Unzipping tokenizers/punkt.zip.\n"
          ]
        }
      ]
    },
    {
      "cell_type": "code",
      "source": [
        "ps = PorterStemmer()"
      ],
      "metadata": {
        "id": "GVsjy1TMeL29"
      },
      "execution_count": 6,
      "outputs": []
    },
    {
      "cell_type": "code",
      "source": [
        "def remove_special_char(string):\n",
        "  special_characters=[',', '?', '.']\n",
        "  normal_string = \"\".join(filter(lambda char: char not in special_characters , string))\n",
        "  return normal_string\n",
        "\n",
        "def clean_query(query):\n",
        "  query = query.lower()\n",
        "  query = query.replace('-', ' ')\n",
        "  query = remove_special_char(query)\n",
        "  query = remove_stopwords(query)\n",
        "\n",
        "  processed_tokens = []\n",
        "  for word in word_tokenize(query):\n",
        "    if not word.isnumeric():\n",
        "      processed_tokens.append(ps.stem(word))\n",
        "  return ' '.join(processed_tokens)"
      ],
      "metadata": {
        "id": "iDYjW9BrbQnQ"
      },
      "execution_count": 7,
      "outputs": []
    },
    {
      "cell_type": "code",
      "source": [
        "processed_queries = df_ques_cluster.QueryText.apply(clean_query)"
      ],
      "metadata": {
        "id": "w2tNq7-UbQs5"
      },
      "execution_count": 8,
      "outputs": []
    },
    {
      "cell_type": "code",
      "source": [
        "processed_queries"
      ],
      "metadata": {
        "colab": {
          "base_uri": "https://localhost:8080/"
        },
        "id": "EYnrji8wfML3",
        "outputId": "a42237e1-dada-4647-be21-b307c8c7a06f"
      },
      "execution_count": 9,
      "outputs": [
        {
          "output_type": "execute_result",
          "data": {
            "text/plain": [
              "0                       mao number\n",
              "1                       mao number\n",
              "2                       mao number\n",
              "3                       mao number\n",
              "4                       mao number\n",
              "                   ...            \n",
              "26714           ground nut varieti\n",
              "26715    kadiri ground nut varieti\n",
              "26716             citru scab manag\n",
              "26717             citru scab manag\n",
              "26718             citru scab manag\n",
              "Name: QueryText, Length: 26719, dtype: object"
            ]
          },
          "metadata": {},
          "execution_count": 9
        }
      ]
    },
    {
      "cell_type": "code",
      "source": [
        "from sklearn.feature_extraction.text import CountVectorizer,TfidfVectorizer\n",
        "cv = CountVectorizer()"
      ],
      "metadata": {
        "id": "pjcBOr0vaae7"
      },
      "execution_count": 32,
      "outputs": []
    },
    {
      "cell_type": "code",
      "source": [
        "vectors = cv.fit_transform(processed_queries).toarray()"
      ],
      "metadata": {
        "id": "w9-ioNSeagiw"
      },
      "execution_count": 33,
      "outputs": []
    },
    {
      "cell_type": "code",
      "source": [
        "vectors"
      ],
      "metadata": {
        "colab": {
          "base_uri": "https://localhost:8080/"
        },
        "id": "9ZDQO1n1ge6t",
        "outputId": "251b5b68-5662-4a6c-c8df-a29e47c28c76"
      },
      "execution_count": 34,
      "outputs": [
        {
          "output_type": "execute_result",
          "data": {
            "text/plain": [
              "array([[0, 0, 0, ..., 0, 0, 0],\n",
              "       [0, 0, 0, ..., 0, 0, 0],\n",
              "       [0, 0, 0, ..., 0, 0, 0],\n",
              "       ...,\n",
              "       [0, 0, 0, ..., 0, 0, 0],\n",
              "       [0, 0, 0, ..., 0, 0, 0],\n",
              "       [0, 0, 0, ..., 0, 0, 0]])"
            ]
          },
          "metadata": {},
          "execution_count": 34
        }
      ]
    },
    {
      "cell_type": "code",
      "source": [
        "vectors.shape"
      ],
      "metadata": {
        "colab": {
          "base_uri": "https://localhost:8080/"
        },
        "id": "E5WCOPOegyCm",
        "outputId": "1a32094b-6140-4ceb-ee68-b163f3dde8f7"
      },
      "execution_count": 35,
      "outputs": [
        {
          "output_type": "execute_result",
          "data": {
            "text/plain": [
              "(26719, 1103)"
            ]
          },
          "metadata": {},
          "execution_count": 35
        }
      ]
    },
    {
      "cell_type": "code",
      "source": [
        "labels = pd.get_dummies(df_ques_cluster.Cluster)"
      ],
      "metadata": {
        "id": "6Jd0PMa8ckQy"
      },
      "execution_count": 36,
      "outputs": []
    },
    {
      "cell_type": "code",
      "source": [
        "labels"
      ],
      "metadata": {
        "colab": {
          "base_uri": "https://localhost:8080/",
          "height": 424
        },
        "id": "4XKKH7bheg4j",
        "outputId": "12445738-2802-4531-a512-2db554167969"
      },
      "execution_count": 37,
      "outputs": [
        {
          "output_type": "execute_result",
          "data": {
            "text/plain": [
              "       1    2    3    4    5    6    7    8    9    10   ...  560  561  562  \\\n",
              "0        1    0    0    0    0    0    0    0    0    0  ...    0    0    0   \n",
              "1        1    0    0    0    0    0    0    0    0    0  ...    0    0    0   \n",
              "2        1    0    0    0    0    0    0    0    0    0  ...    0    0    0   \n",
              "3        1    0    0    0    0    0    0    0    0    0  ...    0    0    0   \n",
              "4        1    0    0    0    0    0    0    0    0    0  ...    0    0    0   \n",
              "...    ...  ...  ...  ...  ...  ...  ...  ...  ...  ...  ...  ...  ...  ...   \n",
              "26714    0    0    0    0    0    0    0    0    0    0  ...    0    0    0   \n",
              "26715    0    0    0    0    0    0    0    0    0    0  ...    0    0    0   \n",
              "26716    0    0    0    0    0    0    0    0    0    0  ...    0    0    0   \n",
              "26717    0    0    0    0    0    0    0    0    0    0  ...    0    0    0   \n",
              "26718    0    0    0    0    0    0    0    0    0    0  ...    0    0    0   \n",
              "\n",
              "       563  564  565  566  567  568  569  \n",
              "0        0    0    0    0    0    0    0  \n",
              "1        0    0    0    0    0    0    0  \n",
              "2        0    0    0    0    0    0    0  \n",
              "3        0    0    0    0    0    0    0  \n",
              "4        0    0    0    0    0    0    0  \n",
              "...    ...  ...  ...  ...  ...  ...  ...  \n",
              "26714    0    0    0    0    0    1    0  \n",
              "26715    0    0    0    0    0    1    0  \n",
              "26716    0    0    0    0    0    0    1  \n",
              "26717    0    0    0    0    0    0    1  \n",
              "26718    0    0    0    0    0    0    1  \n",
              "\n",
              "[26719 rows x 569 columns]"
            ],
            "text/html": [
              "\n",
              "  <div id=\"df-81d93197-a8dc-4b7c-880e-6b4bb16f1b33\">\n",
              "    <div class=\"colab-df-container\">\n",
              "      <div>\n",
              "<style scoped>\n",
              "    .dataframe tbody tr th:only-of-type {\n",
              "        vertical-align: middle;\n",
              "    }\n",
              "\n",
              "    .dataframe tbody tr th {\n",
              "        vertical-align: top;\n",
              "    }\n",
              "\n",
              "    .dataframe thead th {\n",
              "        text-align: right;\n",
              "    }\n",
              "</style>\n",
              "<table border=\"1\" class=\"dataframe\">\n",
              "  <thead>\n",
              "    <tr style=\"text-align: right;\">\n",
              "      <th></th>\n",
              "      <th>1</th>\n",
              "      <th>2</th>\n",
              "      <th>3</th>\n",
              "      <th>4</th>\n",
              "      <th>5</th>\n",
              "      <th>6</th>\n",
              "      <th>7</th>\n",
              "      <th>8</th>\n",
              "      <th>9</th>\n",
              "      <th>10</th>\n",
              "      <th>...</th>\n",
              "      <th>560</th>\n",
              "      <th>561</th>\n",
              "      <th>562</th>\n",
              "      <th>563</th>\n",
              "      <th>564</th>\n",
              "      <th>565</th>\n",
              "      <th>566</th>\n",
              "      <th>567</th>\n",
              "      <th>568</th>\n",
              "      <th>569</th>\n",
              "    </tr>\n",
              "  </thead>\n",
              "  <tbody>\n",
              "    <tr>\n",
              "      <th>0</th>\n",
              "      <td>1</td>\n",
              "      <td>0</td>\n",
              "      <td>0</td>\n",
              "      <td>0</td>\n",
              "      <td>0</td>\n",
              "      <td>0</td>\n",
              "      <td>0</td>\n",
              "      <td>0</td>\n",
              "      <td>0</td>\n",
              "      <td>0</td>\n",
              "      <td>...</td>\n",
              "      <td>0</td>\n",
              "      <td>0</td>\n",
              "      <td>0</td>\n",
              "      <td>0</td>\n",
              "      <td>0</td>\n",
              "      <td>0</td>\n",
              "      <td>0</td>\n",
              "      <td>0</td>\n",
              "      <td>0</td>\n",
              "      <td>0</td>\n",
              "    </tr>\n",
              "    <tr>\n",
              "      <th>1</th>\n",
              "      <td>1</td>\n",
              "      <td>0</td>\n",
              "      <td>0</td>\n",
              "      <td>0</td>\n",
              "      <td>0</td>\n",
              "      <td>0</td>\n",
              "      <td>0</td>\n",
              "      <td>0</td>\n",
              "      <td>0</td>\n",
              "      <td>0</td>\n",
              "      <td>...</td>\n",
              "      <td>0</td>\n",
              "      <td>0</td>\n",
              "      <td>0</td>\n",
              "      <td>0</td>\n",
              "      <td>0</td>\n",
              "      <td>0</td>\n",
              "      <td>0</td>\n",
              "      <td>0</td>\n",
              "      <td>0</td>\n",
              "      <td>0</td>\n",
              "    </tr>\n",
              "    <tr>\n",
              "      <th>2</th>\n",
              "      <td>1</td>\n",
              "      <td>0</td>\n",
              "      <td>0</td>\n",
              "      <td>0</td>\n",
              "      <td>0</td>\n",
              "      <td>0</td>\n",
              "      <td>0</td>\n",
              "      <td>0</td>\n",
              "      <td>0</td>\n",
              "      <td>0</td>\n",
              "      <td>...</td>\n",
              "      <td>0</td>\n",
              "      <td>0</td>\n",
              "      <td>0</td>\n",
              "      <td>0</td>\n",
              "      <td>0</td>\n",
              "      <td>0</td>\n",
              "      <td>0</td>\n",
              "      <td>0</td>\n",
              "      <td>0</td>\n",
              "      <td>0</td>\n",
              "    </tr>\n",
              "    <tr>\n",
              "      <th>3</th>\n",
              "      <td>1</td>\n",
              "      <td>0</td>\n",
              "      <td>0</td>\n",
              "      <td>0</td>\n",
              "      <td>0</td>\n",
              "      <td>0</td>\n",
              "      <td>0</td>\n",
              "      <td>0</td>\n",
              "      <td>0</td>\n",
              "      <td>0</td>\n",
              "      <td>...</td>\n",
              "      <td>0</td>\n",
              "      <td>0</td>\n",
              "      <td>0</td>\n",
              "      <td>0</td>\n",
              "      <td>0</td>\n",
              "      <td>0</td>\n",
              "      <td>0</td>\n",
              "      <td>0</td>\n",
              "      <td>0</td>\n",
              "      <td>0</td>\n",
              "    </tr>\n",
              "    <tr>\n",
              "      <th>4</th>\n",
              "      <td>1</td>\n",
              "      <td>0</td>\n",
              "      <td>0</td>\n",
              "      <td>0</td>\n",
              "      <td>0</td>\n",
              "      <td>0</td>\n",
              "      <td>0</td>\n",
              "      <td>0</td>\n",
              "      <td>0</td>\n",
              "      <td>0</td>\n",
              "      <td>...</td>\n",
              "      <td>0</td>\n",
              "      <td>0</td>\n",
              "      <td>0</td>\n",
              "      <td>0</td>\n",
              "      <td>0</td>\n",
              "      <td>0</td>\n",
              "      <td>0</td>\n",
              "      <td>0</td>\n",
              "      <td>0</td>\n",
              "      <td>0</td>\n",
              "    </tr>\n",
              "    <tr>\n",
              "      <th>...</th>\n",
              "      <td>...</td>\n",
              "      <td>...</td>\n",
              "      <td>...</td>\n",
              "      <td>...</td>\n",
              "      <td>...</td>\n",
              "      <td>...</td>\n",
              "      <td>...</td>\n",
              "      <td>...</td>\n",
              "      <td>...</td>\n",
              "      <td>...</td>\n",
              "      <td>...</td>\n",
              "      <td>...</td>\n",
              "      <td>...</td>\n",
              "      <td>...</td>\n",
              "      <td>...</td>\n",
              "      <td>...</td>\n",
              "      <td>...</td>\n",
              "      <td>...</td>\n",
              "      <td>...</td>\n",
              "      <td>...</td>\n",
              "      <td>...</td>\n",
              "    </tr>\n",
              "    <tr>\n",
              "      <th>26714</th>\n",
              "      <td>0</td>\n",
              "      <td>0</td>\n",
              "      <td>0</td>\n",
              "      <td>0</td>\n",
              "      <td>0</td>\n",
              "      <td>0</td>\n",
              "      <td>0</td>\n",
              "      <td>0</td>\n",
              "      <td>0</td>\n",
              "      <td>0</td>\n",
              "      <td>...</td>\n",
              "      <td>0</td>\n",
              "      <td>0</td>\n",
              "      <td>0</td>\n",
              "      <td>0</td>\n",
              "      <td>0</td>\n",
              "      <td>0</td>\n",
              "      <td>0</td>\n",
              "      <td>0</td>\n",
              "      <td>1</td>\n",
              "      <td>0</td>\n",
              "    </tr>\n",
              "    <tr>\n",
              "      <th>26715</th>\n",
              "      <td>0</td>\n",
              "      <td>0</td>\n",
              "      <td>0</td>\n",
              "      <td>0</td>\n",
              "      <td>0</td>\n",
              "      <td>0</td>\n",
              "      <td>0</td>\n",
              "      <td>0</td>\n",
              "      <td>0</td>\n",
              "      <td>0</td>\n",
              "      <td>...</td>\n",
              "      <td>0</td>\n",
              "      <td>0</td>\n",
              "      <td>0</td>\n",
              "      <td>0</td>\n",
              "      <td>0</td>\n",
              "      <td>0</td>\n",
              "      <td>0</td>\n",
              "      <td>0</td>\n",
              "      <td>1</td>\n",
              "      <td>0</td>\n",
              "    </tr>\n",
              "    <tr>\n",
              "      <th>26716</th>\n",
              "      <td>0</td>\n",
              "      <td>0</td>\n",
              "      <td>0</td>\n",
              "      <td>0</td>\n",
              "      <td>0</td>\n",
              "      <td>0</td>\n",
              "      <td>0</td>\n",
              "      <td>0</td>\n",
              "      <td>0</td>\n",
              "      <td>0</td>\n",
              "      <td>...</td>\n",
              "      <td>0</td>\n",
              "      <td>0</td>\n",
              "      <td>0</td>\n",
              "      <td>0</td>\n",
              "      <td>0</td>\n",
              "      <td>0</td>\n",
              "      <td>0</td>\n",
              "      <td>0</td>\n",
              "      <td>0</td>\n",
              "      <td>1</td>\n",
              "    </tr>\n",
              "    <tr>\n",
              "      <th>26717</th>\n",
              "      <td>0</td>\n",
              "      <td>0</td>\n",
              "      <td>0</td>\n",
              "      <td>0</td>\n",
              "      <td>0</td>\n",
              "      <td>0</td>\n",
              "      <td>0</td>\n",
              "      <td>0</td>\n",
              "      <td>0</td>\n",
              "      <td>0</td>\n",
              "      <td>...</td>\n",
              "      <td>0</td>\n",
              "      <td>0</td>\n",
              "      <td>0</td>\n",
              "      <td>0</td>\n",
              "      <td>0</td>\n",
              "      <td>0</td>\n",
              "      <td>0</td>\n",
              "      <td>0</td>\n",
              "      <td>0</td>\n",
              "      <td>1</td>\n",
              "    </tr>\n",
              "    <tr>\n",
              "      <th>26718</th>\n",
              "      <td>0</td>\n",
              "      <td>0</td>\n",
              "      <td>0</td>\n",
              "      <td>0</td>\n",
              "      <td>0</td>\n",
              "      <td>0</td>\n",
              "      <td>0</td>\n",
              "      <td>0</td>\n",
              "      <td>0</td>\n",
              "      <td>0</td>\n",
              "      <td>...</td>\n",
              "      <td>0</td>\n",
              "      <td>0</td>\n",
              "      <td>0</td>\n",
              "      <td>0</td>\n",
              "      <td>0</td>\n",
              "      <td>0</td>\n",
              "      <td>0</td>\n",
              "      <td>0</td>\n",
              "      <td>0</td>\n",
              "      <td>1</td>\n",
              "    </tr>\n",
              "  </tbody>\n",
              "</table>\n",
              "<p>26719 rows × 569 columns</p>\n",
              "</div>\n",
              "      <button class=\"colab-df-convert\" onclick=\"convertToInteractive('df-81d93197-a8dc-4b7c-880e-6b4bb16f1b33')\"\n",
              "              title=\"Convert this dataframe to an interactive table.\"\n",
              "              style=\"display:none;\">\n",
              "        \n",
              "  <svg xmlns=\"http://www.w3.org/2000/svg\" height=\"24px\"viewBox=\"0 0 24 24\"\n",
              "       width=\"24px\">\n",
              "    <path d=\"M0 0h24v24H0V0z\" fill=\"none\"/>\n",
              "    <path d=\"M18.56 5.44l.94 2.06.94-2.06 2.06-.94-2.06-.94-.94-2.06-.94 2.06-2.06.94zm-11 1L8.5 8.5l.94-2.06 2.06-.94-2.06-.94L8.5 2.5l-.94 2.06-2.06.94zm10 10l.94 2.06.94-2.06 2.06-.94-2.06-.94-.94-2.06-.94 2.06-2.06.94z\"/><path d=\"M17.41 7.96l-1.37-1.37c-.4-.4-.92-.59-1.43-.59-.52 0-1.04.2-1.43.59L10.3 9.45l-7.72 7.72c-.78.78-.78 2.05 0 2.83L4 21.41c.39.39.9.59 1.41.59.51 0 1.02-.2 1.41-.59l7.78-7.78 2.81-2.81c.8-.78.8-2.07 0-2.86zM5.41 20L4 18.59l7.72-7.72 1.47 1.35L5.41 20z\"/>\n",
              "  </svg>\n",
              "      </button>\n",
              "      \n",
              "  <style>\n",
              "    .colab-df-container {\n",
              "      display:flex;\n",
              "      flex-wrap:wrap;\n",
              "      gap: 12px;\n",
              "    }\n",
              "\n",
              "    .colab-df-convert {\n",
              "      background-color: #E8F0FE;\n",
              "      border: none;\n",
              "      border-radius: 50%;\n",
              "      cursor: pointer;\n",
              "      display: none;\n",
              "      fill: #1967D2;\n",
              "      height: 32px;\n",
              "      padding: 0 0 0 0;\n",
              "      width: 32px;\n",
              "    }\n",
              "\n",
              "    .colab-df-convert:hover {\n",
              "      background-color: #E2EBFA;\n",
              "      box-shadow: 0px 1px 2px rgba(60, 64, 67, 0.3), 0px 1px 3px 1px rgba(60, 64, 67, 0.15);\n",
              "      fill: #174EA6;\n",
              "    }\n",
              "\n",
              "    [theme=dark] .colab-df-convert {\n",
              "      background-color: #3B4455;\n",
              "      fill: #D2E3FC;\n",
              "    }\n",
              "\n",
              "    [theme=dark] .colab-df-convert:hover {\n",
              "      background-color: #434B5C;\n",
              "      box-shadow: 0px 1px 3px 1px rgba(0, 0, 0, 0.15);\n",
              "      filter: drop-shadow(0px 1px 2px rgba(0, 0, 0, 0.3));\n",
              "      fill: #FFFFFF;\n",
              "    }\n",
              "  </style>\n",
              "\n",
              "      <script>\n",
              "        const buttonEl =\n",
              "          document.querySelector('#df-81d93197-a8dc-4b7c-880e-6b4bb16f1b33 button.colab-df-convert');\n",
              "        buttonEl.style.display =\n",
              "          google.colab.kernel.accessAllowed ? 'block' : 'none';\n",
              "\n",
              "        async function convertToInteractive(key) {\n",
              "          const element = document.querySelector('#df-81d93197-a8dc-4b7c-880e-6b4bb16f1b33');\n",
              "          const dataTable =\n",
              "            await google.colab.kernel.invokeFunction('convertToInteractive',\n",
              "                                                     [key], {});\n",
              "          if (!dataTable) return;\n",
              "\n",
              "          const docLinkHtml = 'Like what you see? Visit the ' +\n",
              "            '<a target=\"_blank\" href=https://colab.research.google.com/notebooks/data_table.ipynb>data table notebook</a>'\n",
              "            + ' to learn more about interactive tables.';\n",
              "          element.innerHTML = '';\n",
              "          dataTable['output_type'] = 'display_data';\n",
              "          await google.colab.output.renderOutput(dataTable, element);\n",
              "          const docLink = document.createElement('div');\n",
              "          docLink.innerHTML = docLinkHtml;\n",
              "          element.appendChild(docLink);\n",
              "        }\n",
              "      </script>\n",
              "    </div>\n",
              "  </div>\n",
              "  "
            ]
          },
          "metadata": {},
          "execution_count": 37
        }
      ]
    },
    {
      "cell_type": "code",
      "source": [
        "from sklearn.model_selection import train_test_split"
      ],
      "metadata": {
        "id": "GZTVFFa5hljx"
      },
      "execution_count": 38,
      "outputs": []
    },
    {
      "cell_type": "code",
      "source": [
        "X_train, X_test, y_train, y_test = train_test_split(vectors, labels, test_size = 0.2, random_state = 42)"
      ],
      "metadata": {
        "id": "sdV73Wwbdgow"
      },
      "execution_count": 39,
      "outputs": []
    },
    {
      "cell_type": "code",
      "source": [
        "X_train.shape"
      ],
      "metadata": {
        "colab": {
          "base_uri": "https://localhost:8080/"
        },
        "id": "DDxmaFjVW9Mb",
        "outputId": "7c6348f4-8900-4db2-b639-2a43663dbef4"
      },
      "execution_count": 40,
      "outputs": [
        {
          "output_type": "execute_result",
          "data": {
            "text/plain": [
              "(21375, 1103)"
            ]
          },
          "metadata": {},
          "execution_count": 40
        }
      ]
    },
    {
      "cell_type": "code",
      "source": [
        "import tensorflow as tf"
      ],
      "metadata": {
        "id": "XgbayI5vh_qF"
      },
      "execution_count": 41,
      "outputs": []
    },
    {
      "cell_type": "code",
      "source": [
        "embed_input = tf.keras.layers.Input(shape = (1103,), dtype = tf.float32, name = 'Inputs')\n",
        "out = tf.keras.layers.Dropout(0.1, name = 'Dropout1')(embed_input)\n",
        "out = tf.keras.layers.Dense(500, activation = 'relu', name = 'Dense1')(out)\n",
        "out = tf.keras.layers.Dropout(0.1, name = 'Dropout2')(out)\n",
        "out_final = tf.keras.layers.Dense(569, activation = 'softmax', name = 'Dense2')(out)"
      ],
      "metadata": {
        "id": "_KrIxIXOd8A4"
      },
      "execution_count": 42,
      "outputs": []
    },
    {
      "cell_type": "code",
      "source": [
        "model = tf.keras.Model(inputs = [embed_input], outputs = [out_final])"
      ],
      "metadata": {
        "id": "71GZ3aJ2XadK"
      },
      "execution_count": 43,
      "outputs": []
    },
    {
      "cell_type": "code",
      "source": [
        "model.summary()"
      ],
      "metadata": {
        "colab": {
          "base_uri": "https://localhost:8080/"
        },
        "id": "rSyVFn5dYEBV",
        "outputId": "d596354e-0f6f-41f7-fc1a-6bb7e271445e"
      },
      "execution_count": 44,
      "outputs": [
        {
          "output_type": "stream",
          "name": "stdout",
          "text": [
            "Model: \"model_1\"\n",
            "_________________________________________________________________\n",
            " Layer (type)                Output Shape              Param #   \n",
            "=================================================================\n",
            " Inputs (InputLayer)         [(None, 1103)]            0         \n",
            "                                                                 \n",
            " Dropout1 (Dropout)          (None, 1103)              0         \n",
            "                                                                 \n",
            " Dense1 (Dense)              (None, 500)               552000    \n",
            "                                                                 \n",
            " Dropout2 (Dropout)          (None, 500)               0         \n",
            "                                                                 \n",
            " Dense2 (Dense)              (None, 569)               285069    \n",
            "                                                                 \n",
            "=================================================================\n",
            "Total params: 837,069\n",
            "Trainable params: 837,069\n",
            "Non-trainable params: 0\n",
            "_________________________________________________________________\n"
          ]
        }
      ]
    },
    {
      "cell_type": "code",
      "source": [
        "import keras.backend as K"
      ],
      "metadata": {
        "id": "LYEC3zjgbwig"
      },
      "execution_count": 45,
      "outputs": []
    },
    {
      "cell_type": "code",
      "source": [
        "def get_f1(y_true, y_pred): #taken from old keras source code\n",
        "    true_positives = K.sum(K.round(K.clip(y_true * y_pred, 0, 1)))\n",
        "    possible_positives = K.sum(K.round(K.clip(y_true, 0, 1)))\n",
        "    predicted_positives = K.sum(K.round(K.clip(y_pred, 0, 1)))\n",
        "    precision = true_positives / (predicted_positives + K.epsilon())\n",
        "    recall = true_positives / (possible_positives + K.epsilon())\n",
        "    f1_val = 2*(precision*recall)/(precision+recall+K.epsilon())\n",
        "    return f1_val"
      ],
      "metadata": {
        "id": "pEhtB9yzZX-c"
      },
      "execution_count": 46,
      "outputs": []
    },
    {
      "cell_type": "code",
      "source": [
        "Metrics = [tf.keras.metrics.CategoricalAccuracy(name = 'accuracy'),\n",
        "           tf.keras.metrics.Precision(name = 'precision'),\n",
        "           tf.keras.metrics.Recall(name = 'recall'),\n",
        "           get_f1\n",
        "           ]\n",
        "\n",
        "model.compile(optimizer ='adam',\n",
        "               loss = 'categorical_crossentropy',\n",
        "               metrics = Metrics)"
      ],
      "metadata": {
        "id": "ksVYZsZRYb5w"
      },
      "execution_count": 47,
      "outputs": []
    },
    {
      "cell_type": "code",
      "source": [
        "history = model.fit(X_train, y_train, validation_data = (X_test, y_test), epochs = 30)"
      ],
      "metadata": {
        "colab": {
          "base_uri": "https://localhost:8080/"
        },
        "id": "wS50G0GLYXYz",
        "outputId": "77479600-5346-43d3-9503-82c485dee800"
      },
      "execution_count": 48,
      "outputs": [
        {
          "output_type": "stream",
          "name": "stdout",
          "text": [
            "Epoch 1/30\n",
            "668/668 [==============================] - 5s 6ms/step - loss: 1.7531 - accuracy: 0.7236 - precision: 0.9281 - recall: 0.5848 - get_f1: 0.6811 - val_loss: 0.6420 - val_accuracy: 0.8905 - val_precision: 0.9589 - val_recall: 0.8518 - val_get_f1: 0.9013\n",
            "Epoch 2/30\n",
            "668/668 [==============================] - 4s 5ms/step - loss: 0.6067 - accuracy: 0.8679 - precision: 0.9390 - recall: 0.8193 - get_f1: 0.8740 - val_loss: 0.3551 - val_accuracy: 0.9315 - val_precision: 0.9677 - val_recall: 0.9019 - val_get_f1: 0.9332\n",
            "Epoch 3/30\n",
            "668/668 [==============================] - 4s 6ms/step - loss: 0.4124 - accuracy: 0.8980 - precision: 0.9423 - recall: 0.8637 - get_f1: 0.9006 - val_loss: 0.2550 - val_accuracy: 0.9484 - val_precision: 0.9681 - val_recall: 0.9313 - val_get_f1: 0.9491\n",
            "Epoch 4/30\n",
            "668/668 [==============================] - 4s 6ms/step - loss: 0.3315 - accuracy: 0.9148 - precision: 0.9477 - recall: 0.8898 - get_f1: 0.9174 - val_loss: 0.2203 - val_accuracy: 0.9542 - val_precision: 0.9687 - val_recall: 0.9444 - val_get_f1: 0.9562\n",
            "Epoch 5/30\n",
            "668/668 [==============================] - 4s 5ms/step - loss: 0.3077 - accuracy: 0.9187 - precision: 0.9472 - recall: 0.8993 - get_f1: 0.9223 - val_loss: 0.2076 - val_accuracy: 0.9566 - val_precision: 0.9698 - val_recall: 0.9446 - val_get_f1: 0.9569\n",
            "Epoch 6/30\n",
            "668/668 [==============================] - 5s 7ms/step - loss: 0.2930 - accuracy: 0.9223 - precision: 0.9497 - recall: 0.9031 - get_f1: 0.9255 - val_loss: 0.2009 - val_accuracy: 0.9568 - val_precision: 0.9694 - val_recall: 0.9493 - val_get_f1: 0.9591\n",
            "Epoch 7/30\n",
            "668/668 [==============================] - 4s 6ms/step - loss: 0.2953 - accuracy: 0.9230 - precision: 0.9486 - recall: 0.9047 - get_f1: 0.9257 - val_loss: 0.1968 - val_accuracy: 0.9570 - val_precision: 0.9695 - val_recall: 0.9502 - val_get_f1: 0.9597\n",
            "Epoch 8/30\n",
            "668/668 [==============================] - 4s 6ms/step - loss: 0.2873 - accuracy: 0.9225 - precision: 0.9487 - recall: 0.9057 - get_f1: 0.9263 - val_loss: 0.1908 - val_accuracy: 0.9605 - val_precision: 0.9696 - val_recall: 0.9538 - val_get_f1: 0.9615\n",
            "Epoch 9/30\n",
            "668/668 [==============================] - 4s 5ms/step - loss: 0.2755 - accuracy: 0.9266 - precision: 0.9487 - recall: 0.9127 - get_f1: 0.9301 - val_loss: 0.1984 - val_accuracy: 0.9585 - val_precision: 0.9661 - val_recall: 0.9532 - val_get_f1: 0.9595\n",
            "Epoch 10/30\n",
            "668/668 [==============================] - 4s 5ms/step - loss: 0.2829 - accuracy: 0.9231 - precision: 0.9496 - recall: 0.9087 - get_f1: 0.9284 - val_loss: 0.1959 - val_accuracy: 0.9626 - val_precision: 0.9706 - val_recall: 0.9581 - val_get_f1: 0.9642\n",
            "Epoch 11/30\n",
            "668/668 [==============================] - 4s 6ms/step - loss: 0.2614 - accuracy: 0.9282 - precision: 0.9525 - recall: 0.9129 - get_f1: 0.9320 - val_loss: 0.2036 - val_accuracy: 0.9571 - val_precision: 0.9661 - val_recall: 0.9534 - val_get_f1: 0.9596\n",
            "Epoch 12/30\n",
            "668/668 [==============================] - 4s 6ms/step - loss: 0.2703 - accuracy: 0.9258 - precision: 0.9517 - recall: 0.9106 - get_f1: 0.9304 - val_loss: 0.2007 - val_accuracy: 0.9596 - val_precision: 0.9656 - val_recall: 0.9562 - val_get_f1: 0.9608\n",
            "Epoch 13/30\n",
            "668/668 [==============================] - 4s 6ms/step - loss: 0.2722 - accuracy: 0.9254 - precision: 0.9501 - recall: 0.9119 - get_f1: 0.9302 - val_loss: 0.2013 - val_accuracy: 0.9603 - val_precision: 0.9669 - val_recall: 0.9566 - val_get_f1: 0.9616\n",
            "Epoch 14/30\n",
            "668/668 [==============================] - 4s 6ms/step - loss: 0.2536 - accuracy: 0.9302 - precision: 0.9516 - recall: 0.9163 - get_f1: 0.9333 - val_loss: 0.2182 - val_accuracy: 0.9523 - val_precision: 0.9589 - val_recall: 0.9472 - val_get_f1: 0.9530\n",
            "Epoch 15/30\n",
            "668/668 [==============================] - 4s 6ms/step - loss: 0.2548 - accuracy: 0.9312 - precision: 0.9544 - recall: 0.9166 - get_f1: 0.9348 - val_loss: 0.2107 - val_accuracy: 0.9568 - val_precision: 0.9655 - val_recall: 0.9538 - val_get_f1: 0.9595\n",
            "Epoch 16/30\n",
            "668/668 [==============================] - 4s 5ms/step - loss: 0.2690 - accuracy: 0.9270 - precision: 0.9510 - recall: 0.9140 - get_f1: 0.9319 - val_loss: 0.2093 - val_accuracy: 0.9596 - val_precision: 0.9676 - val_recall: 0.9564 - val_get_f1: 0.9619\n",
            "Epoch 17/30\n",
            "668/668 [==============================] - 4s 5ms/step - loss: 0.2500 - accuracy: 0.9302 - precision: 0.9516 - recall: 0.9164 - get_f1: 0.9334 - val_loss: 0.2160 - val_accuracy: 0.9598 - val_precision: 0.9640 - val_recall: 0.9566 - val_get_f1: 0.9602\n",
            "Epoch 18/30\n",
            "668/668 [==============================] - 4s 6ms/step - loss: 0.2450 - accuracy: 0.9307 - precision: 0.9545 - recall: 0.9185 - get_f1: 0.9359 - val_loss: 0.2202 - val_accuracy: 0.9615 - val_precision: 0.9676 - val_recall: 0.9564 - val_get_f1: 0.9619\n",
            "Epoch 19/30\n",
            "668/668 [==============================] - 4s 6ms/step - loss: 0.2587 - accuracy: 0.9275 - precision: 0.9509 - recall: 0.9142 - get_f1: 0.9318 - val_loss: 0.2204 - val_accuracy: 0.9570 - val_precision: 0.9648 - val_recall: 0.9528 - val_get_f1: 0.9587\n",
            "Epoch 20/30\n",
            "668/668 [==============================] - 4s 5ms/step - loss: 0.2576 - accuracy: 0.9295 - precision: 0.9546 - recall: 0.9161 - get_f1: 0.9346 - val_loss: 0.2279 - val_accuracy: 0.9596 - val_precision: 0.9651 - val_recall: 0.9560 - val_get_f1: 0.9604\n",
            "Epoch 21/30\n",
            "668/668 [==============================] - 4s 6ms/step - loss: 0.2515 - accuracy: 0.9322 - precision: 0.9528 - recall: 0.9189 - get_f1: 0.9353 - val_loss: 0.2262 - val_accuracy: 0.9575 - val_precision: 0.9650 - val_recall: 0.9536 - val_get_f1: 0.9591\n",
            "Epoch 22/30\n",
            "668/668 [==============================] - 4s 6ms/step - loss: 0.2452 - accuracy: 0.9320 - precision: 0.9537 - recall: 0.9175 - get_f1: 0.9349 - val_loss: 0.2260 - val_accuracy: 0.9611 - val_precision: 0.9679 - val_recall: 0.9583 - val_get_f1: 0.9630\n",
            "Epoch 23/30\n",
            "668/668 [==============================] - 4s 6ms/step - loss: 0.2525 - accuracy: 0.9299 - precision: 0.9534 - recall: 0.9166 - get_f1: 0.9344 - val_loss: 0.2289 - val_accuracy: 0.9570 - val_precision: 0.9641 - val_recall: 0.9547 - val_get_f1: 0.9593\n",
            "Epoch 24/30\n",
            "668/668 [==============================] - 4s 5ms/step - loss: 0.2508 - accuracy: 0.9324 - precision: 0.9529 - recall: 0.9205 - get_f1: 0.9362 - val_loss: 0.2296 - val_accuracy: 0.9590 - val_precision: 0.9651 - val_recall: 0.9568 - val_get_f1: 0.9609\n",
            "Epoch 25/30\n",
            "668/668 [==============================] - 4s 5ms/step - loss: 0.2500 - accuracy: 0.9302 - precision: 0.9528 - recall: 0.9166 - get_f1: 0.9340 - val_loss: 0.2295 - val_accuracy: 0.9622 - val_precision: 0.9682 - val_recall: 0.9571 - val_get_f1: 0.9626\n",
            "Epoch 26/30\n",
            "668/668 [==============================] - 4s 6ms/step - loss: 0.2437 - accuracy: 0.9321 - precision: 0.9536 - recall: 0.9182 - get_f1: 0.9353 - val_loss: 0.2422 - val_accuracy: 0.9557 - val_precision: 0.9626 - val_recall: 0.9525 - val_get_f1: 0.9574\n",
            "Epoch 27/30\n",
            "668/668 [==============================] - 4s 6ms/step - loss: 0.2447 - accuracy: 0.9330 - precision: 0.9535 - recall: 0.9207 - get_f1: 0.9365 - val_loss: 0.2343 - val_accuracy: 0.9613 - val_precision: 0.9659 - val_recall: 0.9583 - val_get_f1: 0.9620\n",
            "Epoch 28/30\n",
            "668/668 [==============================] - 4s 5ms/step - loss: 0.2474 - accuracy: 0.9319 - precision: 0.9572 - recall: 0.9172 - get_f1: 0.9365 - val_loss: 0.2261 - val_accuracy: 0.9626 - val_precision: 0.9672 - val_recall: 0.9601 - val_get_f1: 0.9636\n",
            "Epoch 29/30\n",
            "668/668 [==============================] - 4s 5ms/step - loss: 0.2594 - accuracy: 0.9295 - precision: 0.9523 - recall: 0.9144 - get_f1: 0.9327 - val_loss: 0.2359 - val_accuracy: 0.9600 - val_precision: 0.9662 - val_recall: 0.9568 - val_get_f1: 0.9614\n",
            "Epoch 30/30\n",
            "668/668 [==============================] - 4s 6ms/step - loss: 0.2442 - accuracy: 0.9306 - precision: 0.9537 - recall: 0.9164 - get_f1: 0.9344 - val_loss: 0.2410 - val_accuracy: 0.9620 - val_precision: 0.9666 - val_recall: 0.9588 - val_get_f1: 0.9627\n"
          ]
        }
      ]
    },
    {
      "cell_type": "markdown",
      "source": [
        "**Performance of model**"
      ],
      "metadata": {
        "id": "YcTjQ8XM9n9g"
      }
    },
    {
      "cell_type": "code",
      "source": [
        "y_pred = model.predict(X_test)\n",
        "y_pred = [(np.argmax(x)+1) for x in np.array(y_pred)]\n",
        "y_pred = np.array(y_pred)"
      ],
      "metadata": {
        "colab": {
          "base_uri": "https://localhost:8080/"
        },
        "id": "qekDg4F-s06J",
        "outputId": "ff4b72fb-a92b-4538-c0a8-87aeeed7849a"
      },
      "execution_count": 49,
      "outputs": [
        {
          "output_type": "stream",
          "name": "stdout",
          "text": [
            "167/167 [==============================] - 0s 2ms/step\n"
          ]
        }
      ]
    },
    {
      "cell_type": "code",
      "source": [
        "y_pred"
      ],
      "metadata": {
        "colab": {
          "base_uri": "https://localhost:8080/"
        },
        "id": "a5YCLcjytHg3",
        "outputId": "9e9197d5-aa60-48a5-fcd9-fd220fe85fc4"
      },
      "execution_count": 50,
      "outputs": [
        {
          "output_type": "execute_result",
          "data": {
            "text/plain": [
              "array([ 78,   5,  66, ..., 107,  64, 287])"
            ]
          },
          "metadata": {},
          "execution_count": 50
        }
      ]
    },
    {
      "cell_type": "code",
      "source": [
        "actual = [(np.argmax(x)+1) for x in np.array(y_test)]\n",
        "actual = np.array(actual)"
      ],
      "metadata": {
        "id": "5MSYVocqYn9U"
      },
      "execution_count": 51,
      "outputs": []
    },
    {
      "cell_type": "code",
      "source": [
        "actual"
      ],
      "metadata": {
        "colab": {
          "base_uri": "https://localhost:8080/"
        },
        "id": "W7q-3hGptLOQ",
        "outputId": "672f66fb-efcf-4063-9cbc-8a170fb039a8"
      },
      "execution_count": 52,
      "outputs": [
        {
          "output_type": "execute_result",
          "data": {
            "text/plain": [
              "array([ 78,   5,  66, ..., 107,  64, 287])"
            ]
          },
          "metadata": {},
          "execution_count": 52
        }
      ]
    },
    {
      "cell_type": "code",
      "source": [
        "from sklearn.metrics import precision_recall_fscore_support, accuracy_score\n",
        "\n",
        "print('weighted', precision_recall_fscore_support(actual, y_pred, average='weighted'))\n",
        "print('micro',precision_recall_fscore_support(actual, y_pred, average='micro'))\n",
        "print('macro',precision_recall_fscore_support(actual, y_pred, average='macro'))\n",
        "print('accuracy', accuracy_score(actual, y_pred))"
      ],
      "metadata": {
        "colab": {
          "base_uri": "https://localhost:8080/"
        },
        "id": "gUCsGcr9bZ_2",
        "outputId": "5e10e810-b3fd-4e07-e1f5-b25a5c65b59e"
      },
      "execution_count": 53,
      "outputs": [
        {
          "output_type": "stream",
          "name": "stdout",
          "text": [
            "weighted (0.9561491506127491, 0.9620134730538922, 0.9567260551169102, None)\n",
            "micro (0.9620134730538922, 0.9620134730538922, 0.9620134730538922, None)\n",
            "macro (0.8122765809421821, 0.8044589858925703, 0.7983233188610152, None)\n",
            "accuracy 0.9620134730538922\n"
          ]
        },
        {
          "output_type": "stream",
          "name": "stderr",
          "text": [
            "/usr/local/lib/python3.7/dist-packages/sklearn/metrics/_classification.py:1318: UndefinedMetricWarning: Precision and F-score are ill-defined and being set to 0.0 in labels with no predicted samples. Use `zero_division` parameter to control this behavior.\n",
            "  _warn_prf(average, modifier, msg_start, len(result))\n",
            "/usr/local/lib/python3.7/dist-packages/sklearn/metrics/_classification.py:1318: UndefinedMetricWarning: Recall and F-score are ill-defined and being set to 0.0 in labels with no true samples. Use `zero_division` parameter to control this behavior.\n",
            "  _warn_prf(average, modifier, msg_start, len(result))\n",
            "/usr/local/lib/python3.7/dist-packages/sklearn/metrics/_classification.py:1318: UndefinedMetricWarning: Precision and F-score are ill-defined and being set to 0.0 in labels with no predicted samples. Use `zero_division` parameter to control this behavior.\n",
            "  _warn_prf(average, modifier, msg_start, len(result))\n",
            "/usr/local/lib/python3.7/dist-packages/sklearn/metrics/_classification.py:1318: UndefinedMetricWarning: Recall and F-score are ill-defined and being set to 0.0 in labels with no true samples. Use `zero_division` parameter to control this behavior.\n",
            "  _warn_prf(average, modifier, msg_start, len(result))\n"
          ]
        }
      ]
    },
    {
      "cell_type": "code",
      "source": [],
      "metadata": {
        "id": "SxokHo6XLVdt"
      },
      "execution_count": 53,
      "outputs": []
    }
  ]
}