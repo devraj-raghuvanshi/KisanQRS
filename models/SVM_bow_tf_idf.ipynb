{
  "nbformat": 4,
  "nbformat_minor": 0,
  "metadata": {
    "colab": {
      "provenance": []
    },
    "kernelspec": {
      "name": "python3",
      "display_name": "Python 3"
    },
    "language_info": {
      "name": "python"
    },
    "accelerator": "GPU",
    "gpuClass": "standard"
  },
  "cells": [
    {
      "cell_type": "code",
      "execution_count": 39,
      "metadata": {
        "id": "7LxE1C6UPySm"
      },
      "outputs": [],
      "source": [
        "import numpy as np\n",
        "import pandas as pd"
      ]
    },
    {
      "cell_type": "code",
      "source": [
        "from google.colab import files\n",
        "from google.colab import drive\n",
        "drive.mount('/drive')"
      ],
      "metadata": {
        "colab": {
          "base_uri": "https://localhost:8080/"
        },
        "id": "ZXRViusAP7ts",
        "outputId": "ca3d1a5b-2e20-4f3b-fe44-22ef8b457c54"
      },
      "execution_count": 40,
      "outputs": [
        {
          "output_type": "stream",
          "name": "stdout",
          "text": [
            "Drive already mounted at /drive; to attempt to forcibly remount, call drive.mount(\"/drive\", force_remount=True).\n"
          ]
        }
      ]
    },
    {
      "cell_type": "code",
      "source": [
        "df_ques_cluster = pd.read_csv('/drive/My Drive/Research Project IIT-I/AP Question clusters.csv')"
      ],
      "metadata": {
        "id": "OcTCGVUlSDED"
      },
      "execution_count": 41,
      "outputs": []
    },
    {
      "cell_type": "code",
      "source": [
        "df_ques_cluster"
      ],
      "metadata": {
        "colab": {
          "base_uri": "https://localhost:8080/",
          "height": 783
        },
        "id": "zf514bdMKgzE",
        "outputId": "a84826c8-a42a-4f7d-bba4-edfb4739f10f"
      },
      "execution_count": 42,
      "outputs": [
        {
          "output_type": "execute_result",
          "data": {
            "text/plain": [
              "          index    BlockName      Category  Year  Month  Day  \\\n",
              "0      23781986   SARAVAKOTA        Others  2020      6   10   \n",
              "1      23824164      NELLORE        Others  2020      3   17   \n",
              "2      23824118    KODAVALUR  Green Manure  2020      3   16   \n",
              "3      23824098    MARRIPADU        Others  2020      3   15   \n",
              "4      23821955     MANUBOLU        Others  2020      1   25   \n",
              "...         ...          ...           ...   ...    ...  ...   \n",
              "26714  23825672    CHILLAKUR      Oilseeds  2020     10   23   \n",
              "26715  23825977  VENKATAGIRI      Oilseeds  2020     11   12   \n",
              "26716  23823419        RAPUR        Fruits  2020      2   25   \n",
              "26717  23824455  BALAYAPALLE        Fruits  2020      7    6   \n",
              "26718  23823420        RAPUR        Fruits  2020      2   25   \n",
              "\n",
              "                               Crop DistrictName                  QueryType  \\\n",
              "0                            Others   SRIKAKULAM         Government Schemes   \n",
              "1                            Others      NELLORE                      Seeds   \n",
              "2        KolanchiTephrosia Purpurea      NELLORE                  Varieties   \n",
              "3                            Others      NELLORE         Government Schemes   \n",
              "4                            Others      NELLORE         Government Schemes   \n",
              "...                             ...          ...                        ...   \n",
              "26714  Groundnut pea nutmung phalli      NELLORE                      Seeds   \n",
              "26715  Groundnut pea nutmung phalli      NELLORE                      Seeds   \n",
              "26716                        Citrus      NELLORE  Agriculture Mechanization   \n",
              "26717                        Citrus      NELLORE           Plant Protection   \n",
              "26718                        Citrus      NELLORE        Nutrient Management   \n",
              "\n",
              "             Sector       StateName                     QueryText  \\\n",
              "0       AGRICULTURE  ANDHRA PRADESH                    MAO NUMBER   \n",
              "1       AGRICULTURE  ANDHRA PRADESH                    MAO NUMBER   \n",
              "2       AGRICULTURE  ANDHRA PRADESH                    MAO NUMBER   \n",
              "3       AGRICULTURE  ANDHRA PRADESH                    MAO NUMBER   \n",
              "4       AGRICULTURE  ANDHRA PRADESH                    MAO NUMBER   \n",
              "...             ...             ...                           ...   \n",
              "26714   AGRICULTURE  ANDHRA PRADESH          GROUNDS NUT VARIETY    \n",
              "26715   AGRICULTURE  ANDHRA PRADESH  kadiri ground nut varieties    \n",
              "26716  HORTICULTURE  ANDHRA PRADESH       CITRUS Scab MANAGEMENT    \n",
              "26717  HORTICULTURE  ANDHRA PRADESH        CITRUS SCAB MANAGEMENT   \n",
              "26718  HORTICULTURE  ANDHRA PRADESH        CITRUS Scab MANAGEMENT   \n",
              "\n",
              "                                                  KccAns  Cluster  \n",
              "0                   -- RECOMMENDED TO CONTACT 8886612698        1  \n",
              "1                                          -- 8886613101        1  \n",
              "2                                             8886613686        1  \n",
              "3                                             8886613671        1  \n",
              "4                                   MAO NUMBER8886613708        1  \n",
              "...                                                  ...      ...  \n",
              "26714               -- RECOMMENDED TO CONTACT 9989628385      568  \n",
              "26715  Agricultural Research Station Kadiri - 515 591...      568  \n",
              "26716  recommended to spray amistar top azoxystrobind...      569  \n",
              "26717  RECOMMENDED TO SPRAY CARBENDAZIM BAVISTIN 2GM ...      569  \n",
              "26718  recommended to spray amistar top azoxystrobind...      569  \n",
              "\n",
              "[26719 rows x 14 columns]"
            ],
            "text/html": [
              "\n",
              "  <div id=\"df-31cc25df-70cc-4dd3-8c4e-2c1ed4f1db7f\">\n",
              "    <div class=\"colab-df-container\">\n",
              "      <div>\n",
              "<style scoped>\n",
              "    .dataframe tbody tr th:only-of-type {\n",
              "        vertical-align: middle;\n",
              "    }\n",
              "\n",
              "    .dataframe tbody tr th {\n",
              "        vertical-align: top;\n",
              "    }\n",
              "\n",
              "    .dataframe thead th {\n",
              "        text-align: right;\n",
              "    }\n",
              "</style>\n",
              "<table border=\"1\" class=\"dataframe\">\n",
              "  <thead>\n",
              "    <tr style=\"text-align: right;\">\n",
              "      <th></th>\n",
              "      <th>index</th>\n",
              "      <th>BlockName</th>\n",
              "      <th>Category</th>\n",
              "      <th>Year</th>\n",
              "      <th>Month</th>\n",
              "      <th>Day</th>\n",
              "      <th>Crop</th>\n",
              "      <th>DistrictName</th>\n",
              "      <th>QueryType</th>\n",
              "      <th>Sector</th>\n",
              "      <th>StateName</th>\n",
              "      <th>QueryText</th>\n",
              "      <th>KccAns</th>\n",
              "      <th>Cluster</th>\n",
              "    </tr>\n",
              "  </thead>\n",
              "  <tbody>\n",
              "    <tr>\n",
              "      <th>0</th>\n",
              "      <td>23781986</td>\n",
              "      <td>SARAVAKOTA</td>\n",
              "      <td>Others</td>\n",
              "      <td>2020</td>\n",
              "      <td>6</td>\n",
              "      <td>10</td>\n",
              "      <td>Others</td>\n",
              "      <td>SRIKAKULAM</td>\n",
              "      <td>Government Schemes</td>\n",
              "      <td>AGRICULTURE</td>\n",
              "      <td>ANDHRA PRADESH</td>\n",
              "      <td>MAO NUMBER</td>\n",
              "      <td>-- RECOMMENDED TO CONTACT 8886612698</td>\n",
              "      <td>1</td>\n",
              "    </tr>\n",
              "    <tr>\n",
              "      <th>1</th>\n",
              "      <td>23824164</td>\n",
              "      <td>NELLORE</td>\n",
              "      <td>Others</td>\n",
              "      <td>2020</td>\n",
              "      <td>3</td>\n",
              "      <td>17</td>\n",
              "      <td>Others</td>\n",
              "      <td>NELLORE</td>\n",
              "      <td>Seeds</td>\n",
              "      <td>AGRICULTURE</td>\n",
              "      <td>ANDHRA PRADESH</td>\n",
              "      <td>MAO NUMBER</td>\n",
              "      <td>-- 8886613101</td>\n",
              "      <td>1</td>\n",
              "    </tr>\n",
              "    <tr>\n",
              "      <th>2</th>\n",
              "      <td>23824118</td>\n",
              "      <td>KODAVALUR</td>\n",
              "      <td>Green Manure</td>\n",
              "      <td>2020</td>\n",
              "      <td>3</td>\n",
              "      <td>16</td>\n",
              "      <td>KolanchiTephrosia Purpurea</td>\n",
              "      <td>NELLORE</td>\n",
              "      <td>Varieties</td>\n",
              "      <td>AGRICULTURE</td>\n",
              "      <td>ANDHRA PRADESH</td>\n",
              "      <td>MAO NUMBER</td>\n",
              "      <td>8886613686</td>\n",
              "      <td>1</td>\n",
              "    </tr>\n",
              "    <tr>\n",
              "      <th>3</th>\n",
              "      <td>23824098</td>\n",
              "      <td>MARRIPADU</td>\n",
              "      <td>Others</td>\n",
              "      <td>2020</td>\n",
              "      <td>3</td>\n",
              "      <td>15</td>\n",
              "      <td>Others</td>\n",
              "      <td>NELLORE</td>\n",
              "      <td>Government Schemes</td>\n",
              "      <td>AGRICULTURE</td>\n",
              "      <td>ANDHRA PRADESH</td>\n",
              "      <td>MAO NUMBER</td>\n",
              "      <td>8886613671</td>\n",
              "      <td>1</td>\n",
              "    </tr>\n",
              "    <tr>\n",
              "      <th>4</th>\n",
              "      <td>23821955</td>\n",
              "      <td>MANUBOLU</td>\n",
              "      <td>Others</td>\n",
              "      <td>2020</td>\n",
              "      <td>1</td>\n",
              "      <td>25</td>\n",
              "      <td>Others</td>\n",
              "      <td>NELLORE</td>\n",
              "      <td>Government Schemes</td>\n",
              "      <td>AGRICULTURE</td>\n",
              "      <td>ANDHRA PRADESH</td>\n",
              "      <td>MAO NUMBER</td>\n",
              "      <td>MAO NUMBER8886613708</td>\n",
              "      <td>1</td>\n",
              "    </tr>\n",
              "    <tr>\n",
              "      <th>...</th>\n",
              "      <td>...</td>\n",
              "      <td>...</td>\n",
              "      <td>...</td>\n",
              "      <td>...</td>\n",
              "      <td>...</td>\n",
              "      <td>...</td>\n",
              "      <td>...</td>\n",
              "      <td>...</td>\n",
              "      <td>...</td>\n",
              "      <td>...</td>\n",
              "      <td>...</td>\n",
              "      <td>...</td>\n",
              "      <td>...</td>\n",
              "      <td>...</td>\n",
              "    </tr>\n",
              "    <tr>\n",
              "      <th>26714</th>\n",
              "      <td>23825672</td>\n",
              "      <td>CHILLAKUR</td>\n",
              "      <td>Oilseeds</td>\n",
              "      <td>2020</td>\n",
              "      <td>10</td>\n",
              "      <td>23</td>\n",
              "      <td>Groundnut pea nutmung phalli</td>\n",
              "      <td>NELLORE</td>\n",
              "      <td>Seeds</td>\n",
              "      <td>AGRICULTURE</td>\n",
              "      <td>ANDHRA PRADESH</td>\n",
              "      <td>GROUNDS NUT VARIETY</td>\n",
              "      <td>-- RECOMMENDED TO CONTACT 9989628385</td>\n",
              "      <td>568</td>\n",
              "    </tr>\n",
              "    <tr>\n",
              "      <th>26715</th>\n",
              "      <td>23825977</td>\n",
              "      <td>VENKATAGIRI</td>\n",
              "      <td>Oilseeds</td>\n",
              "      <td>2020</td>\n",
              "      <td>11</td>\n",
              "      <td>12</td>\n",
              "      <td>Groundnut pea nutmung phalli</td>\n",
              "      <td>NELLORE</td>\n",
              "      <td>Seeds</td>\n",
              "      <td>AGRICULTURE</td>\n",
              "      <td>ANDHRA PRADESH</td>\n",
              "      <td>kadiri ground nut varieties</td>\n",
              "      <td>Agricultural Research Station Kadiri - 515 591...</td>\n",
              "      <td>568</td>\n",
              "    </tr>\n",
              "    <tr>\n",
              "      <th>26716</th>\n",
              "      <td>23823419</td>\n",
              "      <td>RAPUR</td>\n",
              "      <td>Fruits</td>\n",
              "      <td>2020</td>\n",
              "      <td>2</td>\n",
              "      <td>25</td>\n",
              "      <td>Citrus</td>\n",
              "      <td>NELLORE</td>\n",
              "      <td>Agriculture Mechanization</td>\n",
              "      <td>HORTICULTURE</td>\n",
              "      <td>ANDHRA PRADESH</td>\n",
              "      <td>CITRUS Scab MANAGEMENT</td>\n",
              "      <td>recommended to spray amistar top azoxystrobind...</td>\n",
              "      <td>569</td>\n",
              "    </tr>\n",
              "    <tr>\n",
              "      <th>26717</th>\n",
              "      <td>23824455</td>\n",
              "      <td>BALAYAPALLE</td>\n",
              "      <td>Fruits</td>\n",
              "      <td>2020</td>\n",
              "      <td>7</td>\n",
              "      <td>6</td>\n",
              "      <td>Citrus</td>\n",
              "      <td>NELLORE</td>\n",
              "      <td>Plant Protection</td>\n",
              "      <td>HORTICULTURE</td>\n",
              "      <td>ANDHRA PRADESH</td>\n",
              "      <td>CITRUS SCAB MANAGEMENT</td>\n",
              "      <td>RECOMMENDED TO SPRAY CARBENDAZIM BAVISTIN 2GM ...</td>\n",
              "      <td>569</td>\n",
              "    </tr>\n",
              "    <tr>\n",
              "      <th>26718</th>\n",
              "      <td>23823420</td>\n",
              "      <td>RAPUR</td>\n",
              "      <td>Fruits</td>\n",
              "      <td>2020</td>\n",
              "      <td>2</td>\n",
              "      <td>25</td>\n",
              "      <td>Citrus</td>\n",
              "      <td>NELLORE</td>\n",
              "      <td>Nutrient Management</td>\n",
              "      <td>HORTICULTURE</td>\n",
              "      <td>ANDHRA PRADESH</td>\n",
              "      <td>CITRUS Scab MANAGEMENT</td>\n",
              "      <td>recommended to spray amistar top azoxystrobind...</td>\n",
              "      <td>569</td>\n",
              "    </tr>\n",
              "  </tbody>\n",
              "</table>\n",
              "<p>26719 rows × 14 columns</p>\n",
              "</div>\n",
              "      <button class=\"colab-df-convert\" onclick=\"convertToInteractive('df-31cc25df-70cc-4dd3-8c4e-2c1ed4f1db7f')\"\n",
              "              title=\"Convert this dataframe to an interactive table.\"\n",
              "              style=\"display:none;\">\n",
              "        \n",
              "  <svg xmlns=\"http://www.w3.org/2000/svg\" height=\"24px\"viewBox=\"0 0 24 24\"\n",
              "       width=\"24px\">\n",
              "    <path d=\"M0 0h24v24H0V0z\" fill=\"none\"/>\n",
              "    <path d=\"M18.56 5.44l.94 2.06.94-2.06 2.06-.94-2.06-.94-.94-2.06-.94 2.06-2.06.94zm-11 1L8.5 8.5l.94-2.06 2.06-.94-2.06-.94L8.5 2.5l-.94 2.06-2.06.94zm10 10l.94 2.06.94-2.06 2.06-.94-2.06-.94-.94-2.06-.94 2.06-2.06.94z\"/><path d=\"M17.41 7.96l-1.37-1.37c-.4-.4-.92-.59-1.43-.59-.52 0-1.04.2-1.43.59L10.3 9.45l-7.72 7.72c-.78.78-.78 2.05 0 2.83L4 21.41c.39.39.9.59 1.41.59.51 0 1.02-.2 1.41-.59l7.78-7.78 2.81-2.81c.8-.78.8-2.07 0-2.86zM5.41 20L4 18.59l7.72-7.72 1.47 1.35L5.41 20z\"/>\n",
              "  </svg>\n",
              "      </button>\n",
              "      \n",
              "  <style>\n",
              "    .colab-df-container {\n",
              "      display:flex;\n",
              "      flex-wrap:wrap;\n",
              "      gap: 12px;\n",
              "    }\n",
              "\n",
              "    .colab-df-convert {\n",
              "      background-color: #E8F0FE;\n",
              "      border: none;\n",
              "      border-radius: 50%;\n",
              "      cursor: pointer;\n",
              "      display: none;\n",
              "      fill: #1967D2;\n",
              "      height: 32px;\n",
              "      padding: 0 0 0 0;\n",
              "      width: 32px;\n",
              "    }\n",
              "\n",
              "    .colab-df-convert:hover {\n",
              "      background-color: #E2EBFA;\n",
              "      box-shadow: 0px 1px 2px rgba(60, 64, 67, 0.3), 0px 1px 3px 1px rgba(60, 64, 67, 0.15);\n",
              "      fill: #174EA6;\n",
              "    }\n",
              "\n",
              "    [theme=dark] .colab-df-convert {\n",
              "      background-color: #3B4455;\n",
              "      fill: #D2E3FC;\n",
              "    }\n",
              "\n",
              "    [theme=dark] .colab-df-convert:hover {\n",
              "      background-color: #434B5C;\n",
              "      box-shadow: 0px 1px 3px 1px rgba(0, 0, 0, 0.15);\n",
              "      filter: drop-shadow(0px 1px 2px rgba(0, 0, 0, 0.3));\n",
              "      fill: #FFFFFF;\n",
              "    }\n",
              "  </style>\n",
              "\n",
              "      <script>\n",
              "        const buttonEl =\n",
              "          document.querySelector('#df-31cc25df-70cc-4dd3-8c4e-2c1ed4f1db7f button.colab-df-convert');\n",
              "        buttonEl.style.display =\n",
              "          google.colab.kernel.accessAllowed ? 'block' : 'none';\n",
              "\n",
              "        async function convertToInteractive(key) {\n",
              "          const element = document.querySelector('#df-31cc25df-70cc-4dd3-8c4e-2c1ed4f1db7f');\n",
              "          const dataTable =\n",
              "            await google.colab.kernel.invokeFunction('convertToInteractive',\n",
              "                                                     [key], {});\n",
              "          if (!dataTable) return;\n",
              "\n",
              "          const docLinkHtml = 'Like what you see? Visit the ' +\n",
              "            '<a target=\"_blank\" href=https://colab.research.google.com/notebooks/data_table.ipynb>data table notebook</a>'\n",
              "            + ' to learn more about interactive tables.';\n",
              "          element.innerHTML = '';\n",
              "          dataTable['output_type'] = 'display_data';\n",
              "          await google.colab.output.renderOutput(dataTable, element);\n",
              "          const docLink = document.createElement('div');\n",
              "          docLink.innerHTML = docLinkHtml;\n",
              "          element.appendChild(docLink);\n",
              "        }\n",
              "      </script>\n",
              "    </div>\n",
              "  </div>\n",
              "  "
            ]
          },
          "metadata": {},
          "execution_count": 42
        }
      ]
    },
    {
      "cell_type": "code",
      "source": [
        "import nltk\n",
        "nltk.download('punkt')\n",
        "from gensim.parsing.preprocessing import remove_stopwords\n",
        "from nltk import word_tokenize\n",
        "from nltk.stem import PorterStemmer"
      ],
      "metadata": {
        "colab": {
          "base_uri": "https://localhost:8080/"
        },
        "id": "pOZfGGRHbzqr",
        "outputId": "28686e15-1da3-42ef-c857-8a65b61f9013"
      },
      "execution_count": 43,
      "outputs": [
        {
          "output_type": "stream",
          "name": "stderr",
          "text": [
            "[nltk_data] Downloading package punkt to /root/nltk_data...\n",
            "[nltk_data]   Package punkt is already up-to-date!\n"
          ]
        }
      ]
    },
    {
      "cell_type": "code",
      "source": [
        "ps = PorterStemmer()"
      ],
      "metadata": {
        "id": "GVsjy1TMeL29"
      },
      "execution_count": 44,
      "outputs": []
    },
    {
      "cell_type": "code",
      "source": [
        "def remove_special_char(string):\n",
        "  special_characters=[',', '?', '.']\n",
        "  normal_string = \"\".join(filter(lambda char: char not in special_characters , string))\n",
        "  return normal_string\n",
        "\n",
        "def clean_query(query):\n",
        "  query = query.lower()\n",
        "  query = query.replace('-', ' ')\n",
        "  query = remove_special_char(query)\n",
        "  query = remove_stopwords(query)\n",
        "\n",
        "  processed_tokens = []\n",
        "  for word in word_tokenize(query):\n",
        "    if not word.isnumeric():\n",
        "      processed_tokens.append(ps.stem(word))\n",
        "  return ' '.join(processed_tokens)"
      ],
      "metadata": {
        "id": "iDYjW9BrbQnQ"
      },
      "execution_count": 45,
      "outputs": []
    },
    {
      "cell_type": "code",
      "source": [
        "processed_queries = df_ques_cluster.QueryText.apply(clean_query)"
      ],
      "metadata": {
        "id": "w2tNq7-UbQs5"
      },
      "execution_count": 46,
      "outputs": []
    },
    {
      "cell_type": "code",
      "source": [
        "processed_queries"
      ],
      "metadata": {
        "colab": {
          "base_uri": "https://localhost:8080/"
        },
        "id": "EYnrji8wfML3",
        "outputId": "1f2991b2-5cb8-4443-e475-36f214ac922f"
      },
      "execution_count": 47,
      "outputs": [
        {
          "output_type": "execute_result",
          "data": {
            "text/plain": [
              "0                       mao number\n",
              "1                       mao number\n",
              "2                       mao number\n",
              "3                       mao number\n",
              "4                       mao number\n",
              "                   ...            \n",
              "26714           ground nut varieti\n",
              "26715    kadiri ground nut varieti\n",
              "26716             citru scab manag\n",
              "26717             citru scab manag\n",
              "26718             citru scab manag\n",
              "Name: QueryText, Length: 26719, dtype: object"
            ]
          },
          "metadata": {},
          "execution_count": 47
        }
      ]
    },
    {
      "cell_type": "code",
      "source": [
        "from sklearn.feature_extraction.text import CountVectorizer,TfidfVectorizer\n",
        "CV = CountVectorizer()"
      ],
      "metadata": {
        "id": "pjcBOr0vaae7"
      },
      "execution_count": 48,
      "outputs": []
    },
    {
      "cell_type": "code",
      "source": [
        "vectors = CV.fit_transform(processed_queries).toarray()"
      ],
      "metadata": {
        "id": "w9-ioNSeagiw"
      },
      "execution_count": 49,
      "outputs": []
    },
    {
      "cell_type": "code",
      "source": [
        "vectors"
      ],
      "metadata": {
        "colab": {
          "base_uri": "https://localhost:8080/"
        },
        "id": "9ZDQO1n1ge6t",
        "outputId": "54fe2a11-fb50-444c-83ec-8b8bee42da6a"
      },
      "execution_count": 50,
      "outputs": [
        {
          "output_type": "execute_result",
          "data": {
            "text/plain": [
              "array([[0, 0, 0, ..., 0, 0, 0],\n",
              "       [0, 0, 0, ..., 0, 0, 0],\n",
              "       [0, 0, 0, ..., 0, 0, 0],\n",
              "       ...,\n",
              "       [0, 0, 0, ..., 0, 0, 0],\n",
              "       [0, 0, 0, ..., 0, 0, 0],\n",
              "       [0, 0, 0, ..., 0, 0, 0]])"
            ]
          },
          "metadata": {},
          "execution_count": 50
        }
      ]
    },
    {
      "cell_type": "code",
      "source": [
        "vectors.shape"
      ],
      "metadata": {
        "colab": {
          "base_uri": "https://localhost:8080/"
        },
        "id": "E5WCOPOegyCm",
        "outputId": "5248abdb-582f-41bc-ad2f-df5341bf10fb"
      },
      "execution_count": 51,
      "outputs": [
        {
          "output_type": "execute_result",
          "data": {
            "text/plain": [
              "(26719, 1103)"
            ]
          },
          "metadata": {},
          "execution_count": 51
        }
      ]
    },
    {
      "cell_type": "code",
      "source": [
        "labels = pd.get_dummies(df_ques_cluster.Cluster)"
      ],
      "metadata": {
        "id": "6Jd0PMa8ckQy"
      },
      "execution_count": 52,
      "outputs": []
    },
    {
      "cell_type": "code",
      "source": [
        "labels"
      ],
      "metadata": {
        "colab": {
          "base_uri": "https://localhost:8080/",
          "height": 424
        },
        "id": "4XKKH7bheg4j",
        "outputId": "4f1275f9-5e38-40ff-89db-5da6475559c4"
      },
      "execution_count": 53,
      "outputs": [
        {
          "output_type": "execute_result",
          "data": {
            "text/plain": [
              "       1    2    3    4    5    6    7    8    9    10   ...  560  561  562  \\\n",
              "0        1    0    0    0    0    0    0    0    0    0  ...    0    0    0   \n",
              "1        1    0    0    0    0    0    0    0    0    0  ...    0    0    0   \n",
              "2        1    0    0    0    0    0    0    0    0    0  ...    0    0    0   \n",
              "3        1    0    0    0    0    0    0    0    0    0  ...    0    0    0   \n",
              "4        1    0    0    0    0    0    0    0    0    0  ...    0    0    0   \n",
              "...    ...  ...  ...  ...  ...  ...  ...  ...  ...  ...  ...  ...  ...  ...   \n",
              "26714    0    0    0    0    0    0    0    0    0    0  ...    0    0    0   \n",
              "26715    0    0    0    0    0    0    0    0    0    0  ...    0    0    0   \n",
              "26716    0    0    0    0    0    0    0    0    0    0  ...    0    0    0   \n",
              "26717    0    0    0    0    0    0    0    0    0    0  ...    0    0    0   \n",
              "26718    0    0    0    0    0    0    0    0    0    0  ...    0    0    0   \n",
              "\n",
              "       563  564  565  566  567  568  569  \n",
              "0        0    0    0    0    0    0    0  \n",
              "1        0    0    0    0    0    0    0  \n",
              "2        0    0    0    0    0    0    0  \n",
              "3        0    0    0    0    0    0    0  \n",
              "4        0    0    0    0    0    0    0  \n",
              "...    ...  ...  ...  ...  ...  ...  ...  \n",
              "26714    0    0    0    0    0    1    0  \n",
              "26715    0    0    0    0    0    1    0  \n",
              "26716    0    0    0    0    0    0    1  \n",
              "26717    0    0    0    0    0    0    1  \n",
              "26718    0    0    0    0    0    0    1  \n",
              "\n",
              "[26719 rows x 569 columns]"
            ],
            "text/html": [
              "\n",
              "  <div id=\"df-c1a1fb66-7797-46dc-9a5c-aef8d2a78e28\">\n",
              "    <div class=\"colab-df-container\">\n",
              "      <div>\n",
              "<style scoped>\n",
              "    .dataframe tbody tr th:only-of-type {\n",
              "        vertical-align: middle;\n",
              "    }\n",
              "\n",
              "    .dataframe tbody tr th {\n",
              "        vertical-align: top;\n",
              "    }\n",
              "\n",
              "    .dataframe thead th {\n",
              "        text-align: right;\n",
              "    }\n",
              "</style>\n",
              "<table border=\"1\" class=\"dataframe\">\n",
              "  <thead>\n",
              "    <tr style=\"text-align: right;\">\n",
              "      <th></th>\n",
              "      <th>1</th>\n",
              "      <th>2</th>\n",
              "      <th>3</th>\n",
              "      <th>4</th>\n",
              "      <th>5</th>\n",
              "      <th>6</th>\n",
              "      <th>7</th>\n",
              "      <th>8</th>\n",
              "      <th>9</th>\n",
              "      <th>10</th>\n",
              "      <th>...</th>\n",
              "      <th>560</th>\n",
              "      <th>561</th>\n",
              "      <th>562</th>\n",
              "      <th>563</th>\n",
              "      <th>564</th>\n",
              "      <th>565</th>\n",
              "      <th>566</th>\n",
              "      <th>567</th>\n",
              "      <th>568</th>\n",
              "      <th>569</th>\n",
              "    </tr>\n",
              "  </thead>\n",
              "  <tbody>\n",
              "    <tr>\n",
              "      <th>0</th>\n",
              "      <td>1</td>\n",
              "      <td>0</td>\n",
              "      <td>0</td>\n",
              "      <td>0</td>\n",
              "      <td>0</td>\n",
              "      <td>0</td>\n",
              "      <td>0</td>\n",
              "      <td>0</td>\n",
              "      <td>0</td>\n",
              "      <td>0</td>\n",
              "      <td>...</td>\n",
              "      <td>0</td>\n",
              "      <td>0</td>\n",
              "      <td>0</td>\n",
              "      <td>0</td>\n",
              "      <td>0</td>\n",
              "      <td>0</td>\n",
              "      <td>0</td>\n",
              "      <td>0</td>\n",
              "      <td>0</td>\n",
              "      <td>0</td>\n",
              "    </tr>\n",
              "    <tr>\n",
              "      <th>1</th>\n",
              "      <td>1</td>\n",
              "      <td>0</td>\n",
              "      <td>0</td>\n",
              "      <td>0</td>\n",
              "      <td>0</td>\n",
              "      <td>0</td>\n",
              "      <td>0</td>\n",
              "      <td>0</td>\n",
              "      <td>0</td>\n",
              "      <td>0</td>\n",
              "      <td>...</td>\n",
              "      <td>0</td>\n",
              "      <td>0</td>\n",
              "      <td>0</td>\n",
              "      <td>0</td>\n",
              "      <td>0</td>\n",
              "      <td>0</td>\n",
              "      <td>0</td>\n",
              "      <td>0</td>\n",
              "      <td>0</td>\n",
              "      <td>0</td>\n",
              "    </tr>\n",
              "    <tr>\n",
              "      <th>2</th>\n",
              "      <td>1</td>\n",
              "      <td>0</td>\n",
              "      <td>0</td>\n",
              "      <td>0</td>\n",
              "      <td>0</td>\n",
              "      <td>0</td>\n",
              "      <td>0</td>\n",
              "      <td>0</td>\n",
              "      <td>0</td>\n",
              "      <td>0</td>\n",
              "      <td>...</td>\n",
              "      <td>0</td>\n",
              "      <td>0</td>\n",
              "      <td>0</td>\n",
              "      <td>0</td>\n",
              "      <td>0</td>\n",
              "      <td>0</td>\n",
              "      <td>0</td>\n",
              "      <td>0</td>\n",
              "      <td>0</td>\n",
              "      <td>0</td>\n",
              "    </tr>\n",
              "    <tr>\n",
              "      <th>3</th>\n",
              "      <td>1</td>\n",
              "      <td>0</td>\n",
              "      <td>0</td>\n",
              "      <td>0</td>\n",
              "      <td>0</td>\n",
              "      <td>0</td>\n",
              "      <td>0</td>\n",
              "      <td>0</td>\n",
              "      <td>0</td>\n",
              "      <td>0</td>\n",
              "      <td>...</td>\n",
              "      <td>0</td>\n",
              "      <td>0</td>\n",
              "      <td>0</td>\n",
              "      <td>0</td>\n",
              "      <td>0</td>\n",
              "      <td>0</td>\n",
              "      <td>0</td>\n",
              "      <td>0</td>\n",
              "      <td>0</td>\n",
              "      <td>0</td>\n",
              "    </tr>\n",
              "    <tr>\n",
              "      <th>4</th>\n",
              "      <td>1</td>\n",
              "      <td>0</td>\n",
              "      <td>0</td>\n",
              "      <td>0</td>\n",
              "      <td>0</td>\n",
              "      <td>0</td>\n",
              "      <td>0</td>\n",
              "      <td>0</td>\n",
              "      <td>0</td>\n",
              "      <td>0</td>\n",
              "      <td>...</td>\n",
              "      <td>0</td>\n",
              "      <td>0</td>\n",
              "      <td>0</td>\n",
              "      <td>0</td>\n",
              "      <td>0</td>\n",
              "      <td>0</td>\n",
              "      <td>0</td>\n",
              "      <td>0</td>\n",
              "      <td>0</td>\n",
              "      <td>0</td>\n",
              "    </tr>\n",
              "    <tr>\n",
              "      <th>...</th>\n",
              "      <td>...</td>\n",
              "      <td>...</td>\n",
              "      <td>...</td>\n",
              "      <td>...</td>\n",
              "      <td>...</td>\n",
              "      <td>...</td>\n",
              "      <td>...</td>\n",
              "      <td>...</td>\n",
              "      <td>...</td>\n",
              "      <td>...</td>\n",
              "      <td>...</td>\n",
              "      <td>...</td>\n",
              "      <td>...</td>\n",
              "      <td>...</td>\n",
              "      <td>...</td>\n",
              "      <td>...</td>\n",
              "      <td>...</td>\n",
              "      <td>...</td>\n",
              "      <td>...</td>\n",
              "      <td>...</td>\n",
              "      <td>...</td>\n",
              "    </tr>\n",
              "    <tr>\n",
              "      <th>26714</th>\n",
              "      <td>0</td>\n",
              "      <td>0</td>\n",
              "      <td>0</td>\n",
              "      <td>0</td>\n",
              "      <td>0</td>\n",
              "      <td>0</td>\n",
              "      <td>0</td>\n",
              "      <td>0</td>\n",
              "      <td>0</td>\n",
              "      <td>0</td>\n",
              "      <td>...</td>\n",
              "      <td>0</td>\n",
              "      <td>0</td>\n",
              "      <td>0</td>\n",
              "      <td>0</td>\n",
              "      <td>0</td>\n",
              "      <td>0</td>\n",
              "      <td>0</td>\n",
              "      <td>0</td>\n",
              "      <td>1</td>\n",
              "      <td>0</td>\n",
              "    </tr>\n",
              "    <tr>\n",
              "      <th>26715</th>\n",
              "      <td>0</td>\n",
              "      <td>0</td>\n",
              "      <td>0</td>\n",
              "      <td>0</td>\n",
              "      <td>0</td>\n",
              "      <td>0</td>\n",
              "      <td>0</td>\n",
              "      <td>0</td>\n",
              "      <td>0</td>\n",
              "      <td>0</td>\n",
              "      <td>...</td>\n",
              "      <td>0</td>\n",
              "      <td>0</td>\n",
              "      <td>0</td>\n",
              "      <td>0</td>\n",
              "      <td>0</td>\n",
              "      <td>0</td>\n",
              "      <td>0</td>\n",
              "      <td>0</td>\n",
              "      <td>1</td>\n",
              "      <td>0</td>\n",
              "    </tr>\n",
              "    <tr>\n",
              "      <th>26716</th>\n",
              "      <td>0</td>\n",
              "      <td>0</td>\n",
              "      <td>0</td>\n",
              "      <td>0</td>\n",
              "      <td>0</td>\n",
              "      <td>0</td>\n",
              "      <td>0</td>\n",
              "      <td>0</td>\n",
              "      <td>0</td>\n",
              "      <td>0</td>\n",
              "      <td>...</td>\n",
              "      <td>0</td>\n",
              "      <td>0</td>\n",
              "      <td>0</td>\n",
              "      <td>0</td>\n",
              "      <td>0</td>\n",
              "      <td>0</td>\n",
              "      <td>0</td>\n",
              "      <td>0</td>\n",
              "      <td>0</td>\n",
              "      <td>1</td>\n",
              "    </tr>\n",
              "    <tr>\n",
              "      <th>26717</th>\n",
              "      <td>0</td>\n",
              "      <td>0</td>\n",
              "      <td>0</td>\n",
              "      <td>0</td>\n",
              "      <td>0</td>\n",
              "      <td>0</td>\n",
              "      <td>0</td>\n",
              "      <td>0</td>\n",
              "      <td>0</td>\n",
              "      <td>0</td>\n",
              "      <td>...</td>\n",
              "      <td>0</td>\n",
              "      <td>0</td>\n",
              "      <td>0</td>\n",
              "      <td>0</td>\n",
              "      <td>0</td>\n",
              "      <td>0</td>\n",
              "      <td>0</td>\n",
              "      <td>0</td>\n",
              "      <td>0</td>\n",
              "      <td>1</td>\n",
              "    </tr>\n",
              "    <tr>\n",
              "      <th>26718</th>\n",
              "      <td>0</td>\n",
              "      <td>0</td>\n",
              "      <td>0</td>\n",
              "      <td>0</td>\n",
              "      <td>0</td>\n",
              "      <td>0</td>\n",
              "      <td>0</td>\n",
              "      <td>0</td>\n",
              "      <td>0</td>\n",
              "      <td>0</td>\n",
              "      <td>...</td>\n",
              "      <td>0</td>\n",
              "      <td>0</td>\n",
              "      <td>0</td>\n",
              "      <td>0</td>\n",
              "      <td>0</td>\n",
              "      <td>0</td>\n",
              "      <td>0</td>\n",
              "      <td>0</td>\n",
              "      <td>0</td>\n",
              "      <td>1</td>\n",
              "    </tr>\n",
              "  </tbody>\n",
              "</table>\n",
              "<p>26719 rows × 569 columns</p>\n",
              "</div>\n",
              "      <button class=\"colab-df-convert\" onclick=\"convertToInteractive('df-c1a1fb66-7797-46dc-9a5c-aef8d2a78e28')\"\n",
              "              title=\"Convert this dataframe to an interactive table.\"\n",
              "              style=\"display:none;\">\n",
              "        \n",
              "  <svg xmlns=\"http://www.w3.org/2000/svg\" height=\"24px\"viewBox=\"0 0 24 24\"\n",
              "       width=\"24px\">\n",
              "    <path d=\"M0 0h24v24H0V0z\" fill=\"none\"/>\n",
              "    <path d=\"M18.56 5.44l.94 2.06.94-2.06 2.06-.94-2.06-.94-.94-2.06-.94 2.06-2.06.94zm-11 1L8.5 8.5l.94-2.06 2.06-.94-2.06-.94L8.5 2.5l-.94 2.06-2.06.94zm10 10l.94 2.06.94-2.06 2.06-.94-2.06-.94-.94-2.06-.94 2.06-2.06.94z\"/><path d=\"M17.41 7.96l-1.37-1.37c-.4-.4-.92-.59-1.43-.59-.52 0-1.04.2-1.43.59L10.3 9.45l-7.72 7.72c-.78.78-.78 2.05 0 2.83L4 21.41c.39.39.9.59 1.41.59.51 0 1.02-.2 1.41-.59l7.78-7.78 2.81-2.81c.8-.78.8-2.07 0-2.86zM5.41 20L4 18.59l7.72-7.72 1.47 1.35L5.41 20z\"/>\n",
              "  </svg>\n",
              "      </button>\n",
              "      \n",
              "  <style>\n",
              "    .colab-df-container {\n",
              "      display:flex;\n",
              "      flex-wrap:wrap;\n",
              "      gap: 12px;\n",
              "    }\n",
              "\n",
              "    .colab-df-convert {\n",
              "      background-color: #E8F0FE;\n",
              "      border: none;\n",
              "      border-radius: 50%;\n",
              "      cursor: pointer;\n",
              "      display: none;\n",
              "      fill: #1967D2;\n",
              "      height: 32px;\n",
              "      padding: 0 0 0 0;\n",
              "      width: 32px;\n",
              "    }\n",
              "\n",
              "    .colab-df-convert:hover {\n",
              "      background-color: #E2EBFA;\n",
              "      box-shadow: 0px 1px 2px rgba(60, 64, 67, 0.3), 0px 1px 3px 1px rgba(60, 64, 67, 0.15);\n",
              "      fill: #174EA6;\n",
              "    }\n",
              "\n",
              "    [theme=dark] .colab-df-convert {\n",
              "      background-color: #3B4455;\n",
              "      fill: #D2E3FC;\n",
              "    }\n",
              "\n",
              "    [theme=dark] .colab-df-convert:hover {\n",
              "      background-color: #434B5C;\n",
              "      box-shadow: 0px 1px 3px 1px rgba(0, 0, 0, 0.15);\n",
              "      filter: drop-shadow(0px 1px 2px rgba(0, 0, 0, 0.3));\n",
              "      fill: #FFFFFF;\n",
              "    }\n",
              "  </style>\n",
              "\n",
              "      <script>\n",
              "        const buttonEl =\n",
              "          document.querySelector('#df-c1a1fb66-7797-46dc-9a5c-aef8d2a78e28 button.colab-df-convert');\n",
              "        buttonEl.style.display =\n",
              "          google.colab.kernel.accessAllowed ? 'block' : 'none';\n",
              "\n",
              "        async function convertToInteractive(key) {\n",
              "          const element = document.querySelector('#df-c1a1fb66-7797-46dc-9a5c-aef8d2a78e28');\n",
              "          const dataTable =\n",
              "            await google.colab.kernel.invokeFunction('convertToInteractive',\n",
              "                                                     [key], {});\n",
              "          if (!dataTable) return;\n",
              "\n",
              "          const docLinkHtml = 'Like what you see? Visit the ' +\n",
              "            '<a target=\"_blank\" href=https://colab.research.google.com/notebooks/data_table.ipynb>data table notebook</a>'\n",
              "            + ' to learn more about interactive tables.';\n",
              "          element.innerHTML = '';\n",
              "          dataTable['output_type'] = 'display_data';\n",
              "          await google.colab.output.renderOutput(dataTable, element);\n",
              "          const docLink = document.createElement('div');\n",
              "          docLink.innerHTML = docLinkHtml;\n",
              "          element.appendChild(docLink);\n",
              "        }\n",
              "      </script>\n",
              "    </div>\n",
              "  </div>\n",
              "  "
            ]
          },
          "metadata": {},
          "execution_count": 53
        }
      ]
    },
    {
      "cell_type": "code",
      "source": [
        "from sklearn.model_selection import train_test_split"
      ],
      "metadata": {
        "id": "GZTVFFa5hljx"
      },
      "execution_count": 54,
      "outputs": []
    },
    {
      "cell_type": "code",
      "source": [
        "X_train, X_test, y_train, y_test = train_test_split(vectors, labels, test_size = 0.2, random_state = 42)"
      ],
      "metadata": {
        "id": "sdV73Wwbdgow"
      },
      "execution_count": 55,
      "outputs": []
    },
    {
      "cell_type": "code",
      "source": [
        "X_train.shape"
      ],
      "metadata": {
        "colab": {
          "base_uri": "https://localhost:8080/"
        },
        "outputId": "8b0b31dc-2456-4dd6-92c4-450a68c78bfb",
        "id": "wtDm8ON_PLZo"
      },
      "execution_count": 56,
      "outputs": [
        {
          "output_type": "execute_result",
          "data": {
            "text/plain": [
              "(21375, 1103)"
            ]
          },
          "metadata": {},
          "execution_count": 56
        }
      ]
    },
    {
      "cell_type": "code",
      "source": [
        "X_train"
      ],
      "metadata": {
        "colab": {
          "base_uri": "https://localhost:8080/"
        },
        "id": "ndfdEC8vsNII",
        "outputId": "51b97771-7549-4b61-eea3-0f7a922d1e9d"
      },
      "execution_count": 57,
      "outputs": [
        {
          "output_type": "execute_result",
          "data": {
            "text/plain": [
              "array([[0, 0, 0, ..., 0, 0, 0],\n",
              "       [0, 0, 0, ..., 0, 0, 0],\n",
              "       [0, 0, 0, ..., 0, 0, 0],\n",
              "       ...,\n",
              "       [0, 0, 0, ..., 0, 0, 0],\n",
              "       [0, 0, 0, ..., 0, 0, 0],\n",
              "       [0, 0, 0, ..., 0, 0, 0]])"
            ]
          },
          "metadata": {},
          "execution_count": 57
        }
      ]
    },
    {
      "cell_type": "code",
      "source": [
        "from sklearn import svm"
      ],
      "metadata": {
        "id": "valwJ1uwYnm6"
      },
      "execution_count": 58,
      "outputs": []
    },
    {
      "cell_type": "code",
      "source": [
        "clf = svm.SVC(decision_function_shape='ovo')\n",
        "clf.fit(X_train, np.array([(np.argmax(x)+1) for x in np.array(y_train)]))"
      ],
      "metadata": {
        "colab": {
          "base_uri": "https://localhost:8080/"
        },
        "id": "iCwi0P4iYnz6",
        "outputId": "a221775c-d5c6-4b37-8a6a-59a839badaee"
      },
      "execution_count": 59,
      "outputs": [
        {
          "output_type": "execute_result",
          "data": {
            "text/plain": [
              "SVC(decision_function_shape='ovo')"
            ]
          },
          "metadata": {},
          "execution_count": 59
        }
      ]
    },
    {
      "cell_type": "code",
      "source": [
        "y_pred = clf.predict(X_test)"
      ],
      "metadata": {
        "id": "tEBn7BUTYn4B"
      },
      "execution_count": 60,
      "outputs": []
    },
    {
      "cell_type": "code",
      "source": [
        "y_pred"
      ],
      "metadata": {
        "colab": {
          "base_uri": "https://localhost:8080/"
        },
        "id": "IlPefStWbAjS",
        "outputId": "73858ffe-0327-4bde-ec5a-e15e68d257ef"
      },
      "execution_count": 61,
      "outputs": [
        {
          "output_type": "execute_result",
          "data": {
            "text/plain": [
              "array([ 78,   5,  66, ..., 107,  64, 287])"
            ]
          },
          "metadata": {},
          "execution_count": 61
        }
      ]
    },
    {
      "cell_type": "code",
      "source": [
        "actual = [(np.argmax(x)+1) for x in np.array(y_test)]\n",
        "actual = np.array(actual)"
      ],
      "metadata": {
        "id": "5MSYVocqYn9U"
      },
      "execution_count": 62,
      "outputs": []
    },
    {
      "cell_type": "code",
      "source": [
        "actual"
      ],
      "metadata": {
        "colab": {
          "base_uri": "https://localhost:8080/"
        },
        "id": "49VH20oRCjOo",
        "outputId": "bb848eed-ec34-4caa-9497-e6748700fd73"
      },
      "execution_count": 63,
      "outputs": [
        {
          "output_type": "execute_result",
          "data": {
            "text/plain": [
              "array([ 78,   5,  66, ..., 107,  64, 287])"
            ]
          },
          "metadata": {},
          "execution_count": 63
        }
      ]
    },
    {
      "cell_type": "code",
      "source": [
        "from sklearn.metrics import precision_recall_fscore_support, accuracy_score\n",
        "\n",
        "print('weighted', precision_recall_fscore_support(actual, y_pred, average='weighted'))\n",
        "print('micro',precision_recall_fscore_support(actual, y_pred, average='micro'))\n",
        "print('macro',precision_recall_fscore_support(actual, y_pred, average='macro'))\n",
        "print('accuracy', accuracy_score(actual, y_pred))"
      ],
      "metadata": {
        "colab": {
          "base_uri": "https://localhost:8080/"
        },
        "id": "gUCsGcr9bZ_2",
        "outputId": "0a512c83-fc53-4fa2-bd18-f2d212cd7707"
      },
      "execution_count": 64,
      "outputs": [
        {
          "output_type": "stream",
          "name": "stdout",
          "text": [
            "weighted (0.93687846931226, 0.9541541916167665, 0.942717472003819, None)\n",
            "micro (0.9541541916167665, 0.9541541916167665, 0.9541541916167665, None)\n",
            "macro (0.6920111520876271, 0.7057127734014181, 0.6890307431650493, None)\n",
            "accuracy 0.9541541916167665\n"
          ]
        },
        {
          "output_type": "stream",
          "name": "stderr",
          "text": [
            "/usr/local/lib/python3.7/dist-packages/sklearn/metrics/_classification.py:1318: UndefinedMetricWarning: Precision and F-score are ill-defined and being set to 0.0 in labels with no predicted samples. Use `zero_division` parameter to control this behavior.\n",
            "  _warn_prf(average, modifier, msg_start, len(result))\n",
            "/usr/local/lib/python3.7/dist-packages/sklearn/metrics/_classification.py:1318: UndefinedMetricWarning: Recall and F-score are ill-defined and being set to 0.0 in labels with no true samples. Use `zero_division` parameter to control this behavior.\n",
            "  _warn_prf(average, modifier, msg_start, len(result))\n",
            "/usr/local/lib/python3.7/dist-packages/sklearn/metrics/_classification.py:1318: UndefinedMetricWarning: Precision and F-score are ill-defined and being set to 0.0 in labels with no predicted samples. Use `zero_division` parameter to control this behavior.\n",
            "  _warn_prf(average, modifier, msg_start, len(result))\n",
            "/usr/local/lib/python3.7/dist-packages/sklearn/metrics/_classification.py:1318: UndefinedMetricWarning: Recall and F-score are ill-defined and being set to 0.0 in labels with no true samples. Use `zero_division` parameter to control this behavior.\n",
            "  _warn_prf(average, modifier, msg_start, len(result))\n"
          ]
        }
      ]
    },
    {
      "cell_type": "code",
      "source": [],
      "metadata": {
        "id": "DI6MIfJkiSzF"
      },
      "execution_count": 64,
      "outputs": []
    }
  ]
}