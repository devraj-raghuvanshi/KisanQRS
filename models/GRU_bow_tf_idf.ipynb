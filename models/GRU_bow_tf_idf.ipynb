{
  "nbformat": 4,
  "nbformat_minor": 0,
  "metadata": {
    "colab": {
      "provenance": []
    },
    "kernelspec": {
      "name": "python3",
      "display_name": "Python 3"
    },
    "language_info": {
      "name": "python"
    },
    "accelerator": "GPU",
    "gpuClass": "standard"
  },
  "cells": [
    {
      "cell_type": "code",
      "execution_count": 1,
      "metadata": {
        "id": "7LxE1C6UPySm"
      },
      "outputs": [],
      "source": [
        "import numpy as np\n",
        "import pandas as pd"
      ]
    },
    {
      "cell_type": "code",
      "source": [
        "from google.colab import files\n",
        "from google.colab import drive\n",
        "drive.mount('/drive')"
      ],
      "metadata": {
        "colab": {
          "base_uri": "https://localhost:8080/"
        },
        "id": "ZXRViusAP7ts",
        "outputId": "530d6a26-eaa4-49e9-8aa8-e695cf9c8a19"
      },
      "execution_count": 2,
      "outputs": [
        {
          "output_type": "stream",
          "name": "stdout",
          "text": [
            "Mounted at /drive\n"
          ]
        }
      ]
    },
    {
      "cell_type": "code",
      "source": [
        "df_ques_cluster = pd.read_csv('/drive/My Drive/Research Project IIT-I/AP Question clusters.csv')"
      ],
      "metadata": {
        "id": "OcTCGVUlSDED"
      },
      "execution_count": 3,
      "outputs": []
    },
    {
      "cell_type": "code",
      "source": [
        "df_ques_cluster"
      ],
      "metadata": {
        "colab": {
          "base_uri": "https://localhost:8080/",
          "height": 783
        },
        "id": "zf514bdMKgzE",
        "outputId": "418fb1de-3cd8-47c7-a756-cec06d3059db"
      },
      "execution_count": 4,
      "outputs": [
        {
          "output_type": "execute_result",
          "data": {
            "text/plain": [
              "          index    BlockName      Category  Year  Month  Day  \\\n",
              "0      23781986   SARAVAKOTA        Others  2020      6   10   \n",
              "1      23824164      NELLORE        Others  2020      3   17   \n",
              "2      23824118    KODAVALUR  Green Manure  2020      3   16   \n",
              "3      23824098    MARRIPADU        Others  2020      3   15   \n",
              "4      23821955     MANUBOLU        Others  2020      1   25   \n",
              "...         ...          ...           ...   ...    ...  ...   \n",
              "26714  23825672    CHILLAKUR      Oilseeds  2020     10   23   \n",
              "26715  23825977  VENKATAGIRI      Oilseeds  2020     11   12   \n",
              "26716  23823419        RAPUR        Fruits  2020      2   25   \n",
              "26717  23824455  BALAYAPALLE        Fruits  2020      7    6   \n",
              "26718  23823420        RAPUR        Fruits  2020      2   25   \n",
              "\n",
              "                               Crop DistrictName                  QueryType  \\\n",
              "0                            Others   SRIKAKULAM         Government Schemes   \n",
              "1                            Others      NELLORE                      Seeds   \n",
              "2        KolanchiTephrosia Purpurea      NELLORE                  Varieties   \n",
              "3                            Others      NELLORE         Government Schemes   \n",
              "4                            Others      NELLORE         Government Schemes   \n",
              "...                             ...          ...                        ...   \n",
              "26714  Groundnut pea nutmung phalli      NELLORE                      Seeds   \n",
              "26715  Groundnut pea nutmung phalli      NELLORE                      Seeds   \n",
              "26716                        Citrus      NELLORE  Agriculture Mechanization   \n",
              "26717                        Citrus      NELLORE           Plant Protection   \n",
              "26718                        Citrus      NELLORE        Nutrient Management   \n",
              "\n",
              "             Sector       StateName                     QueryText  \\\n",
              "0       AGRICULTURE  ANDHRA PRADESH                    MAO NUMBER   \n",
              "1       AGRICULTURE  ANDHRA PRADESH                    MAO NUMBER   \n",
              "2       AGRICULTURE  ANDHRA PRADESH                    MAO NUMBER   \n",
              "3       AGRICULTURE  ANDHRA PRADESH                    MAO NUMBER   \n",
              "4       AGRICULTURE  ANDHRA PRADESH                    MAO NUMBER   \n",
              "...             ...             ...                           ...   \n",
              "26714   AGRICULTURE  ANDHRA PRADESH          GROUNDS NUT VARIETY    \n",
              "26715   AGRICULTURE  ANDHRA PRADESH  kadiri ground nut varieties    \n",
              "26716  HORTICULTURE  ANDHRA PRADESH       CITRUS Scab MANAGEMENT    \n",
              "26717  HORTICULTURE  ANDHRA PRADESH        CITRUS SCAB MANAGEMENT   \n",
              "26718  HORTICULTURE  ANDHRA PRADESH        CITRUS Scab MANAGEMENT   \n",
              "\n",
              "                                                  KccAns  Cluster  \n",
              "0                   -- RECOMMENDED TO CONTACT 8886612698        1  \n",
              "1                                          -- 8886613101        1  \n",
              "2                                             8886613686        1  \n",
              "3                                             8886613671        1  \n",
              "4                                   MAO NUMBER8886613708        1  \n",
              "...                                                  ...      ...  \n",
              "26714               -- RECOMMENDED TO CONTACT 9989628385      568  \n",
              "26715  Agricultural Research Station Kadiri - 515 591...      568  \n",
              "26716  recommended to spray amistar top azoxystrobind...      569  \n",
              "26717  RECOMMENDED TO SPRAY CARBENDAZIM BAVISTIN 2GM ...      569  \n",
              "26718  recommended to spray amistar top azoxystrobind...      569  \n",
              "\n",
              "[26719 rows x 14 columns]"
            ],
            "text/html": [
              "\n",
              "  <div id=\"df-b52089d7-ca4c-4459-a642-8e1ee399ff6a\">\n",
              "    <div class=\"colab-df-container\">\n",
              "      <div>\n",
              "<style scoped>\n",
              "    .dataframe tbody tr th:only-of-type {\n",
              "        vertical-align: middle;\n",
              "    }\n",
              "\n",
              "    .dataframe tbody tr th {\n",
              "        vertical-align: top;\n",
              "    }\n",
              "\n",
              "    .dataframe thead th {\n",
              "        text-align: right;\n",
              "    }\n",
              "</style>\n",
              "<table border=\"1\" class=\"dataframe\">\n",
              "  <thead>\n",
              "    <tr style=\"text-align: right;\">\n",
              "      <th></th>\n",
              "      <th>index</th>\n",
              "      <th>BlockName</th>\n",
              "      <th>Category</th>\n",
              "      <th>Year</th>\n",
              "      <th>Month</th>\n",
              "      <th>Day</th>\n",
              "      <th>Crop</th>\n",
              "      <th>DistrictName</th>\n",
              "      <th>QueryType</th>\n",
              "      <th>Sector</th>\n",
              "      <th>StateName</th>\n",
              "      <th>QueryText</th>\n",
              "      <th>KccAns</th>\n",
              "      <th>Cluster</th>\n",
              "    </tr>\n",
              "  </thead>\n",
              "  <tbody>\n",
              "    <tr>\n",
              "      <th>0</th>\n",
              "      <td>23781986</td>\n",
              "      <td>SARAVAKOTA</td>\n",
              "      <td>Others</td>\n",
              "      <td>2020</td>\n",
              "      <td>6</td>\n",
              "      <td>10</td>\n",
              "      <td>Others</td>\n",
              "      <td>SRIKAKULAM</td>\n",
              "      <td>Government Schemes</td>\n",
              "      <td>AGRICULTURE</td>\n",
              "      <td>ANDHRA PRADESH</td>\n",
              "      <td>MAO NUMBER</td>\n",
              "      <td>-- RECOMMENDED TO CONTACT 8886612698</td>\n",
              "      <td>1</td>\n",
              "    </tr>\n",
              "    <tr>\n",
              "      <th>1</th>\n",
              "      <td>23824164</td>\n",
              "      <td>NELLORE</td>\n",
              "      <td>Others</td>\n",
              "      <td>2020</td>\n",
              "      <td>3</td>\n",
              "      <td>17</td>\n",
              "      <td>Others</td>\n",
              "      <td>NELLORE</td>\n",
              "      <td>Seeds</td>\n",
              "      <td>AGRICULTURE</td>\n",
              "      <td>ANDHRA PRADESH</td>\n",
              "      <td>MAO NUMBER</td>\n",
              "      <td>-- 8886613101</td>\n",
              "      <td>1</td>\n",
              "    </tr>\n",
              "    <tr>\n",
              "      <th>2</th>\n",
              "      <td>23824118</td>\n",
              "      <td>KODAVALUR</td>\n",
              "      <td>Green Manure</td>\n",
              "      <td>2020</td>\n",
              "      <td>3</td>\n",
              "      <td>16</td>\n",
              "      <td>KolanchiTephrosia Purpurea</td>\n",
              "      <td>NELLORE</td>\n",
              "      <td>Varieties</td>\n",
              "      <td>AGRICULTURE</td>\n",
              "      <td>ANDHRA PRADESH</td>\n",
              "      <td>MAO NUMBER</td>\n",
              "      <td>8886613686</td>\n",
              "      <td>1</td>\n",
              "    </tr>\n",
              "    <tr>\n",
              "      <th>3</th>\n",
              "      <td>23824098</td>\n",
              "      <td>MARRIPADU</td>\n",
              "      <td>Others</td>\n",
              "      <td>2020</td>\n",
              "      <td>3</td>\n",
              "      <td>15</td>\n",
              "      <td>Others</td>\n",
              "      <td>NELLORE</td>\n",
              "      <td>Government Schemes</td>\n",
              "      <td>AGRICULTURE</td>\n",
              "      <td>ANDHRA PRADESH</td>\n",
              "      <td>MAO NUMBER</td>\n",
              "      <td>8886613671</td>\n",
              "      <td>1</td>\n",
              "    </tr>\n",
              "    <tr>\n",
              "      <th>4</th>\n",
              "      <td>23821955</td>\n",
              "      <td>MANUBOLU</td>\n",
              "      <td>Others</td>\n",
              "      <td>2020</td>\n",
              "      <td>1</td>\n",
              "      <td>25</td>\n",
              "      <td>Others</td>\n",
              "      <td>NELLORE</td>\n",
              "      <td>Government Schemes</td>\n",
              "      <td>AGRICULTURE</td>\n",
              "      <td>ANDHRA PRADESH</td>\n",
              "      <td>MAO NUMBER</td>\n",
              "      <td>MAO NUMBER8886613708</td>\n",
              "      <td>1</td>\n",
              "    </tr>\n",
              "    <tr>\n",
              "      <th>...</th>\n",
              "      <td>...</td>\n",
              "      <td>...</td>\n",
              "      <td>...</td>\n",
              "      <td>...</td>\n",
              "      <td>...</td>\n",
              "      <td>...</td>\n",
              "      <td>...</td>\n",
              "      <td>...</td>\n",
              "      <td>...</td>\n",
              "      <td>...</td>\n",
              "      <td>...</td>\n",
              "      <td>...</td>\n",
              "      <td>...</td>\n",
              "      <td>...</td>\n",
              "    </tr>\n",
              "    <tr>\n",
              "      <th>26714</th>\n",
              "      <td>23825672</td>\n",
              "      <td>CHILLAKUR</td>\n",
              "      <td>Oilseeds</td>\n",
              "      <td>2020</td>\n",
              "      <td>10</td>\n",
              "      <td>23</td>\n",
              "      <td>Groundnut pea nutmung phalli</td>\n",
              "      <td>NELLORE</td>\n",
              "      <td>Seeds</td>\n",
              "      <td>AGRICULTURE</td>\n",
              "      <td>ANDHRA PRADESH</td>\n",
              "      <td>GROUNDS NUT VARIETY</td>\n",
              "      <td>-- RECOMMENDED TO CONTACT 9989628385</td>\n",
              "      <td>568</td>\n",
              "    </tr>\n",
              "    <tr>\n",
              "      <th>26715</th>\n",
              "      <td>23825977</td>\n",
              "      <td>VENKATAGIRI</td>\n",
              "      <td>Oilseeds</td>\n",
              "      <td>2020</td>\n",
              "      <td>11</td>\n",
              "      <td>12</td>\n",
              "      <td>Groundnut pea nutmung phalli</td>\n",
              "      <td>NELLORE</td>\n",
              "      <td>Seeds</td>\n",
              "      <td>AGRICULTURE</td>\n",
              "      <td>ANDHRA PRADESH</td>\n",
              "      <td>kadiri ground nut varieties</td>\n",
              "      <td>Agricultural Research Station Kadiri - 515 591...</td>\n",
              "      <td>568</td>\n",
              "    </tr>\n",
              "    <tr>\n",
              "      <th>26716</th>\n",
              "      <td>23823419</td>\n",
              "      <td>RAPUR</td>\n",
              "      <td>Fruits</td>\n",
              "      <td>2020</td>\n",
              "      <td>2</td>\n",
              "      <td>25</td>\n",
              "      <td>Citrus</td>\n",
              "      <td>NELLORE</td>\n",
              "      <td>Agriculture Mechanization</td>\n",
              "      <td>HORTICULTURE</td>\n",
              "      <td>ANDHRA PRADESH</td>\n",
              "      <td>CITRUS Scab MANAGEMENT</td>\n",
              "      <td>recommended to spray amistar top azoxystrobind...</td>\n",
              "      <td>569</td>\n",
              "    </tr>\n",
              "    <tr>\n",
              "      <th>26717</th>\n",
              "      <td>23824455</td>\n",
              "      <td>BALAYAPALLE</td>\n",
              "      <td>Fruits</td>\n",
              "      <td>2020</td>\n",
              "      <td>7</td>\n",
              "      <td>6</td>\n",
              "      <td>Citrus</td>\n",
              "      <td>NELLORE</td>\n",
              "      <td>Plant Protection</td>\n",
              "      <td>HORTICULTURE</td>\n",
              "      <td>ANDHRA PRADESH</td>\n",
              "      <td>CITRUS SCAB MANAGEMENT</td>\n",
              "      <td>RECOMMENDED TO SPRAY CARBENDAZIM BAVISTIN 2GM ...</td>\n",
              "      <td>569</td>\n",
              "    </tr>\n",
              "    <tr>\n",
              "      <th>26718</th>\n",
              "      <td>23823420</td>\n",
              "      <td>RAPUR</td>\n",
              "      <td>Fruits</td>\n",
              "      <td>2020</td>\n",
              "      <td>2</td>\n",
              "      <td>25</td>\n",
              "      <td>Citrus</td>\n",
              "      <td>NELLORE</td>\n",
              "      <td>Nutrient Management</td>\n",
              "      <td>HORTICULTURE</td>\n",
              "      <td>ANDHRA PRADESH</td>\n",
              "      <td>CITRUS Scab MANAGEMENT</td>\n",
              "      <td>recommended to spray amistar top azoxystrobind...</td>\n",
              "      <td>569</td>\n",
              "    </tr>\n",
              "  </tbody>\n",
              "</table>\n",
              "<p>26719 rows × 14 columns</p>\n",
              "</div>\n",
              "      <button class=\"colab-df-convert\" onclick=\"convertToInteractive('df-b52089d7-ca4c-4459-a642-8e1ee399ff6a')\"\n",
              "              title=\"Convert this dataframe to an interactive table.\"\n",
              "              style=\"display:none;\">\n",
              "        \n",
              "  <svg xmlns=\"http://www.w3.org/2000/svg\" height=\"24px\"viewBox=\"0 0 24 24\"\n",
              "       width=\"24px\">\n",
              "    <path d=\"M0 0h24v24H0V0z\" fill=\"none\"/>\n",
              "    <path d=\"M18.56 5.44l.94 2.06.94-2.06 2.06-.94-2.06-.94-.94-2.06-.94 2.06-2.06.94zm-11 1L8.5 8.5l.94-2.06 2.06-.94-2.06-.94L8.5 2.5l-.94 2.06-2.06.94zm10 10l.94 2.06.94-2.06 2.06-.94-2.06-.94-.94-2.06-.94 2.06-2.06.94z\"/><path d=\"M17.41 7.96l-1.37-1.37c-.4-.4-.92-.59-1.43-.59-.52 0-1.04.2-1.43.59L10.3 9.45l-7.72 7.72c-.78.78-.78 2.05 0 2.83L4 21.41c.39.39.9.59 1.41.59.51 0 1.02-.2 1.41-.59l7.78-7.78 2.81-2.81c.8-.78.8-2.07 0-2.86zM5.41 20L4 18.59l7.72-7.72 1.47 1.35L5.41 20z\"/>\n",
              "  </svg>\n",
              "      </button>\n",
              "      \n",
              "  <style>\n",
              "    .colab-df-container {\n",
              "      display:flex;\n",
              "      flex-wrap:wrap;\n",
              "      gap: 12px;\n",
              "    }\n",
              "\n",
              "    .colab-df-convert {\n",
              "      background-color: #E8F0FE;\n",
              "      border: none;\n",
              "      border-radius: 50%;\n",
              "      cursor: pointer;\n",
              "      display: none;\n",
              "      fill: #1967D2;\n",
              "      height: 32px;\n",
              "      padding: 0 0 0 0;\n",
              "      width: 32px;\n",
              "    }\n",
              "\n",
              "    .colab-df-convert:hover {\n",
              "      background-color: #E2EBFA;\n",
              "      box-shadow: 0px 1px 2px rgba(60, 64, 67, 0.3), 0px 1px 3px 1px rgba(60, 64, 67, 0.15);\n",
              "      fill: #174EA6;\n",
              "    }\n",
              "\n",
              "    [theme=dark] .colab-df-convert {\n",
              "      background-color: #3B4455;\n",
              "      fill: #D2E3FC;\n",
              "    }\n",
              "\n",
              "    [theme=dark] .colab-df-convert:hover {\n",
              "      background-color: #434B5C;\n",
              "      box-shadow: 0px 1px 3px 1px rgba(0, 0, 0, 0.15);\n",
              "      filter: drop-shadow(0px 1px 2px rgba(0, 0, 0, 0.3));\n",
              "      fill: #FFFFFF;\n",
              "    }\n",
              "  </style>\n",
              "\n",
              "      <script>\n",
              "        const buttonEl =\n",
              "          document.querySelector('#df-b52089d7-ca4c-4459-a642-8e1ee399ff6a button.colab-df-convert');\n",
              "        buttonEl.style.display =\n",
              "          google.colab.kernel.accessAllowed ? 'block' : 'none';\n",
              "\n",
              "        async function convertToInteractive(key) {\n",
              "          const element = document.querySelector('#df-b52089d7-ca4c-4459-a642-8e1ee399ff6a');\n",
              "          const dataTable =\n",
              "            await google.colab.kernel.invokeFunction('convertToInteractive',\n",
              "                                                     [key], {});\n",
              "          if (!dataTable) return;\n",
              "\n",
              "          const docLinkHtml = 'Like what you see? Visit the ' +\n",
              "            '<a target=\"_blank\" href=https://colab.research.google.com/notebooks/data_table.ipynb>data table notebook</a>'\n",
              "            + ' to learn more about interactive tables.';\n",
              "          element.innerHTML = '';\n",
              "          dataTable['output_type'] = 'display_data';\n",
              "          await google.colab.output.renderOutput(dataTable, element);\n",
              "          const docLink = document.createElement('div');\n",
              "          docLink.innerHTML = docLinkHtml;\n",
              "          element.appendChild(docLink);\n",
              "        }\n",
              "      </script>\n",
              "    </div>\n",
              "  </div>\n",
              "  "
            ]
          },
          "metadata": {},
          "execution_count": 4
        }
      ]
    },
    {
      "cell_type": "code",
      "source": [
        "import nltk\n",
        "nltk.download('punkt')\n",
        "from gensim.parsing.preprocessing import remove_stopwords\n",
        "from nltk import word_tokenize\n",
        "from nltk.stem import PorterStemmer"
      ],
      "metadata": {
        "colab": {
          "base_uri": "https://localhost:8080/"
        },
        "id": "pOZfGGRHbzqr",
        "outputId": "d18d6e32-6e2c-4e14-9e26-1056937bf457"
      },
      "execution_count": 5,
      "outputs": [
        {
          "output_type": "stream",
          "name": "stderr",
          "text": [
            "[nltk_data] Downloading package punkt to /root/nltk_data...\n",
            "[nltk_data]   Unzipping tokenizers/punkt.zip.\n"
          ]
        }
      ]
    },
    {
      "cell_type": "code",
      "source": [
        "ps = PorterStemmer()"
      ],
      "metadata": {
        "id": "GVsjy1TMeL29"
      },
      "execution_count": 6,
      "outputs": []
    },
    {
      "cell_type": "code",
      "source": [
        "def remove_special_char(string):\n",
        "  special_characters=[',', '?', '.']\n",
        "  normal_string = \"\".join(filter(lambda char: char not in special_characters , string))\n",
        "  return normal_string\n",
        "\n",
        "def clean_query(query):\n",
        "  query = query.lower()\n",
        "  query = query.replace('-', ' ')\n",
        "  query = remove_special_char(query)\n",
        "  query = remove_stopwords(query)\n",
        "\n",
        "  processed_tokens = []\n",
        "  for word in word_tokenize(query):\n",
        "    if not word.isnumeric():\n",
        "      processed_tokens.append(ps.stem(word))\n",
        "  return ' '.join(processed_tokens)"
      ],
      "metadata": {
        "id": "iDYjW9BrbQnQ"
      },
      "execution_count": 7,
      "outputs": []
    },
    {
      "cell_type": "code",
      "source": [
        "processed_queries = df_ques_cluster.QueryText.apply(clean_query)"
      ],
      "metadata": {
        "id": "w2tNq7-UbQs5"
      },
      "execution_count": 8,
      "outputs": []
    },
    {
      "cell_type": "code",
      "source": [
        "processed_queries"
      ],
      "metadata": {
        "colab": {
          "base_uri": "https://localhost:8080/"
        },
        "id": "EYnrji8wfML3",
        "outputId": "0a1f4698-8452-43b1-ef97-6f16817f0622"
      },
      "execution_count": 9,
      "outputs": [
        {
          "output_type": "execute_result",
          "data": {
            "text/plain": [
              "0                       mao number\n",
              "1                       mao number\n",
              "2                       mao number\n",
              "3                       mao number\n",
              "4                       mao number\n",
              "                   ...            \n",
              "26714           ground nut varieti\n",
              "26715    kadiri ground nut varieti\n",
              "26716             citru scab manag\n",
              "26717             citru scab manag\n",
              "26718             citru scab manag\n",
              "Name: QueryText, Length: 26719, dtype: object"
            ]
          },
          "metadata": {},
          "execution_count": 9
        }
      ]
    },
    {
      "cell_type": "code",
      "source": [
        "from sklearn.feature_extraction.text import CountVectorizer,TfidfVectorizer\n",
        "cv = CountVectorizer()"
      ],
      "metadata": {
        "id": "pjcBOr0vaae7"
      },
      "execution_count": 60,
      "outputs": []
    },
    {
      "cell_type": "code",
      "source": [
        "vectors = cv.fit_transform(processed_queries).toarray()"
      ],
      "metadata": {
        "id": "w9-ioNSeagiw"
      },
      "execution_count": 61,
      "outputs": []
    },
    {
      "cell_type": "code",
      "source": [
        "vectors"
      ],
      "metadata": {
        "colab": {
          "base_uri": "https://localhost:8080/"
        },
        "id": "9ZDQO1n1ge6t",
        "outputId": "d98e7f1f-0789-4f3e-aa04-3ff0ee3acb25"
      },
      "execution_count": 62,
      "outputs": [
        {
          "output_type": "execute_result",
          "data": {
            "text/plain": [
              "array([[0, 0, 0, ..., 0, 0, 0],\n",
              "       [0, 0, 0, ..., 0, 0, 0],\n",
              "       [0, 0, 0, ..., 0, 0, 0],\n",
              "       ...,\n",
              "       [0, 0, 0, ..., 0, 0, 0],\n",
              "       [0, 0, 0, ..., 0, 0, 0],\n",
              "       [0, 0, 0, ..., 0, 0, 0]])"
            ]
          },
          "metadata": {},
          "execution_count": 62
        }
      ]
    },
    {
      "cell_type": "code",
      "source": [
        "vectors.shape"
      ],
      "metadata": {
        "colab": {
          "base_uri": "https://localhost:8080/"
        },
        "id": "E5WCOPOegyCm",
        "outputId": "53b3f0b3-59fd-41d2-f636-f53c999b4949"
      },
      "execution_count": 63,
      "outputs": [
        {
          "output_type": "execute_result",
          "data": {
            "text/plain": [
              "(26719, 1103)"
            ]
          },
          "metadata": {},
          "execution_count": 63
        }
      ]
    },
    {
      "cell_type": "code",
      "source": [
        "labels = pd.get_dummies(df_ques_cluster.Cluster)"
      ],
      "metadata": {
        "id": "6Jd0PMa8ckQy"
      },
      "execution_count": 64,
      "outputs": []
    },
    {
      "cell_type": "code",
      "source": [
        "labels"
      ],
      "metadata": {
        "colab": {
          "base_uri": "https://localhost:8080/",
          "height": 424
        },
        "id": "4XKKH7bheg4j",
        "outputId": "1b93dddd-64f7-47e3-cb70-b8052b1e2988"
      },
      "execution_count": 65,
      "outputs": [
        {
          "output_type": "execute_result",
          "data": {
            "text/plain": [
              "       1    2    3    4    5    6    7    8    9    10   ...  560  561  562  \\\n",
              "0        1    0    0    0    0    0    0    0    0    0  ...    0    0    0   \n",
              "1        1    0    0    0    0    0    0    0    0    0  ...    0    0    0   \n",
              "2        1    0    0    0    0    0    0    0    0    0  ...    0    0    0   \n",
              "3        1    0    0    0    0    0    0    0    0    0  ...    0    0    0   \n",
              "4        1    0    0    0    0    0    0    0    0    0  ...    0    0    0   \n",
              "...    ...  ...  ...  ...  ...  ...  ...  ...  ...  ...  ...  ...  ...  ...   \n",
              "26714    0    0    0    0    0    0    0    0    0    0  ...    0    0    0   \n",
              "26715    0    0    0    0    0    0    0    0    0    0  ...    0    0    0   \n",
              "26716    0    0    0    0    0    0    0    0    0    0  ...    0    0    0   \n",
              "26717    0    0    0    0    0    0    0    0    0    0  ...    0    0    0   \n",
              "26718    0    0    0    0    0    0    0    0    0    0  ...    0    0    0   \n",
              "\n",
              "       563  564  565  566  567  568  569  \n",
              "0        0    0    0    0    0    0    0  \n",
              "1        0    0    0    0    0    0    0  \n",
              "2        0    0    0    0    0    0    0  \n",
              "3        0    0    0    0    0    0    0  \n",
              "4        0    0    0    0    0    0    0  \n",
              "...    ...  ...  ...  ...  ...  ...  ...  \n",
              "26714    0    0    0    0    0    1    0  \n",
              "26715    0    0    0    0    0    1    0  \n",
              "26716    0    0    0    0    0    0    1  \n",
              "26717    0    0    0    0    0    0    1  \n",
              "26718    0    0    0    0    0    0    1  \n",
              "\n",
              "[26719 rows x 569 columns]"
            ],
            "text/html": [
              "\n",
              "  <div id=\"df-24a95477-97be-4fd5-89c4-b0bd6e060824\">\n",
              "    <div class=\"colab-df-container\">\n",
              "      <div>\n",
              "<style scoped>\n",
              "    .dataframe tbody tr th:only-of-type {\n",
              "        vertical-align: middle;\n",
              "    }\n",
              "\n",
              "    .dataframe tbody tr th {\n",
              "        vertical-align: top;\n",
              "    }\n",
              "\n",
              "    .dataframe thead th {\n",
              "        text-align: right;\n",
              "    }\n",
              "</style>\n",
              "<table border=\"1\" class=\"dataframe\">\n",
              "  <thead>\n",
              "    <tr style=\"text-align: right;\">\n",
              "      <th></th>\n",
              "      <th>1</th>\n",
              "      <th>2</th>\n",
              "      <th>3</th>\n",
              "      <th>4</th>\n",
              "      <th>5</th>\n",
              "      <th>6</th>\n",
              "      <th>7</th>\n",
              "      <th>8</th>\n",
              "      <th>9</th>\n",
              "      <th>10</th>\n",
              "      <th>...</th>\n",
              "      <th>560</th>\n",
              "      <th>561</th>\n",
              "      <th>562</th>\n",
              "      <th>563</th>\n",
              "      <th>564</th>\n",
              "      <th>565</th>\n",
              "      <th>566</th>\n",
              "      <th>567</th>\n",
              "      <th>568</th>\n",
              "      <th>569</th>\n",
              "    </tr>\n",
              "  </thead>\n",
              "  <tbody>\n",
              "    <tr>\n",
              "      <th>0</th>\n",
              "      <td>1</td>\n",
              "      <td>0</td>\n",
              "      <td>0</td>\n",
              "      <td>0</td>\n",
              "      <td>0</td>\n",
              "      <td>0</td>\n",
              "      <td>0</td>\n",
              "      <td>0</td>\n",
              "      <td>0</td>\n",
              "      <td>0</td>\n",
              "      <td>...</td>\n",
              "      <td>0</td>\n",
              "      <td>0</td>\n",
              "      <td>0</td>\n",
              "      <td>0</td>\n",
              "      <td>0</td>\n",
              "      <td>0</td>\n",
              "      <td>0</td>\n",
              "      <td>0</td>\n",
              "      <td>0</td>\n",
              "      <td>0</td>\n",
              "    </tr>\n",
              "    <tr>\n",
              "      <th>1</th>\n",
              "      <td>1</td>\n",
              "      <td>0</td>\n",
              "      <td>0</td>\n",
              "      <td>0</td>\n",
              "      <td>0</td>\n",
              "      <td>0</td>\n",
              "      <td>0</td>\n",
              "      <td>0</td>\n",
              "      <td>0</td>\n",
              "      <td>0</td>\n",
              "      <td>...</td>\n",
              "      <td>0</td>\n",
              "      <td>0</td>\n",
              "      <td>0</td>\n",
              "      <td>0</td>\n",
              "      <td>0</td>\n",
              "      <td>0</td>\n",
              "      <td>0</td>\n",
              "      <td>0</td>\n",
              "      <td>0</td>\n",
              "      <td>0</td>\n",
              "    </tr>\n",
              "    <tr>\n",
              "      <th>2</th>\n",
              "      <td>1</td>\n",
              "      <td>0</td>\n",
              "      <td>0</td>\n",
              "      <td>0</td>\n",
              "      <td>0</td>\n",
              "      <td>0</td>\n",
              "      <td>0</td>\n",
              "      <td>0</td>\n",
              "      <td>0</td>\n",
              "      <td>0</td>\n",
              "      <td>...</td>\n",
              "      <td>0</td>\n",
              "      <td>0</td>\n",
              "      <td>0</td>\n",
              "      <td>0</td>\n",
              "      <td>0</td>\n",
              "      <td>0</td>\n",
              "      <td>0</td>\n",
              "      <td>0</td>\n",
              "      <td>0</td>\n",
              "      <td>0</td>\n",
              "    </tr>\n",
              "    <tr>\n",
              "      <th>3</th>\n",
              "      <td>1</td>\n",
              "      <td>0</td>\n",
              "      <td>0</td>\n",
              "      <td>0</td>\n",
              "      <td>0</td>\n",
              "      <td>0</td>\n",
              "      <td>0</td>\n",
              "      <td>0</td>\n",
              "      <td>0</td>\n",
              "      <td>0</td>\n",
              "      <td>...</td>\n",
              "      <td>0</td>\n",
              "      <td>0</td>\n",
              "      <td>0</td>\n",
              "      <td>0</td>\n",
              "      <td>0</td>\n",
              "      <td>0</td>\n",
              "      <td>0</td>\n",
              "      <td>0</td>\n",
              "      <td>0</td>\n",
              "      <td>0</td>\n",
              "    </tr>\n",
              "    <tr>\n",
              "      <th>4</th>\n",
              "      <td>1</td>\n",
              "      <td>0</td>\n",
              "      <td>0</td>\n",
              "      <td>0</td>\n",
              "      <td>0</td>\n",
              "      <td>0</td>\n",
              "      <td>0</td>\n",
              "      <td>0</td>\n",
              "      <td>0</td>\n",
              "      <td>0</td>\n",
              "      <td>...</td>\n",
              "      <td>0</td>\n",
              "      <td>0</td>\n",
              "      <td>0</td>\n",
              "      <td>0</td>\n",
              "      <td>0</td>\n",
              "      <td>0</td>\n",
              "      <td>0</td>\n",
              "      <td>0</td>\n",
              "      <td>0</td>\n",
              "      <td>0</td>\n",
              "    </tr>\n",
              "    <tr>\n",
              "      <th>...</th>\n",
              "      <td>...</td>\n",
              "      <td>...</td>\n",
              "      <td>...</td>\n",
              "      <td>...</td>\n",
              "      <td>...</td>\n",
              "      <td>...</td>\n",
              "      <td>...</td>\n",
              "      <td>...</td>\n",
              "      <td>...</td>\n",
              "      <td>...</td>\n",
              "      <td>...</td>\n",
              "      <td>...</td>\n",
              "      <td>...</td>\n",
              "      <td>...</td>\n",
              "      <td>...</td>\n",
              "      <td>...</td>\n",
              "      <td>...</td>\n",
              "      <td>...</td>\n",
              "      <td>...</td>\n",
              "      <td>...</td>\n",
              "      <td>...</td>\n",
              "    </tr>\n",
              "    <tr>\n",
              "      <th>26714</th>\n",
              "      <td>0</td>\n",
              "      <td>0</td>\n",
              "      <td>0</td>\n",
              "      <td>0</td>\n",
              "      <td>0</td>\n",
              "      <td>0</td>\n",
              "      <td>0</td>\n",
              "      <td>0</td>\n",
              "      <td>0</td>\n",
              "      <td>0</td>\n",
              "      <td>...</td>\n",
              "      <td>0</td>\n",
              "      <td>0</td>\n",
              "      <td>0</td>\n",
              "      <td>0</td>\n",
              "      <td>0</td>\n",
              "      <td>0</td>\n",
              "      <td>0</td>\n",
              "      <td>0</td>\n",
              "      <td>1</td>\n",
              "      <td>0</td>\n",
              "    </tr>\n",
              "    <tr>\n",
              "      <th>26715</th>\n",
              "      <td>0</td>\n",
              "      <td>0</td>\n",
              "      <td>0</td>\n",
              "      <td>0</td>\n",
              "      <td>0</td>\n",
              "      <td>0</td>\n",
              "      <td>0</td>\n",
              "      <td>0</td>\n",
              "      <td>0</td>\n",
              "      <td>0</td>\n",
              "      <td>...</td>\n",
              "      <td>0</td>\n",
              "      <td>0</td>\n",
              "      <td>0</td>\n",
              "      <td>0</td>\n",
              "      <td>0</td>\n",
              "      <td>0</td>\n",
              "      <td>0</td>\n",
              "      <td>0</td>\n",
              "      <td>1</td>\n",
              "      <td>0</td>\n",
              "    </tr>\n",
              "    <tr>\n",
              "      <th>26716</th>\n",
              "      <td>0</td>\n",
              "      <td>0</td>\n",
              "      <td>0</td>\n",
              "      <td>0</td>\n",
              "      <td>0</td>\n",
              "      <td>0</td>\n",
              "      <td>0</td>\n",
              "      <td>0</td>\n",
              "      <td>0</td>\n",
              "      <td>0</td>\n",
              "      <td>...</td>\n",
              "      <td>0</td>\n",
              "      <td>0</td>\n",
              "      <td>0</td>\n",
              "      <td>0</td>\n",
              "      <td>0</td>\n",
              "      <td>0</td>\n",
              "      <td>0</td>\n",
              "      <td>0</td>\n",
              "      <td>0</td>\n",
              "      <td>1</td>\n",
              "    </tr>\n",
              "    <tr>\n",
              "      <th>26717</th>\n",
              "      <td>0</td>\n",
              "      <td>0</td>\n",
              "      <td>0</td>\n",
              "      <td>0</td>\n",
              "      <td>0</td>\n",
              "      <td>0</td>\n",
              "      <td>0</td>\n",
              "      <td>0</td>\n",
              "      <td>0</td>\n",
              "      <td>0</td>\n",
              "      <td>...</td>\n",
              "      <td>0</td>\n",
              "      <td>0</td>\n",
              "      <td>0</td>\n",
              "      <td>0</td>\n",
              "      <td>0</td>\n",
              "      <td>0</td>\n",
              "      <td>0</td>\n",
              "      <td>0</td>\n",
              "      <td>0</td>\n",
              "      <td>1</td>\n",
              "    </tr>\n",
              "    <tr>\n",
              "      <th>26718</th>\n",
              "      <td>0</td>\n",
              "      <td>0</td>\n",
              "      <td>0</td>\n",
              "      <td>0</td>\n",
              "      <td>0</td>\n",
              "      <td>0</td>\n",
              "      <td>0</td>\n",
              "      <td>0</td>\n",
              "      <td>0</td>\n",
              "      <td>0</td>\n",
              "      <td>...</td>\n",
              "      <td>0</td>\n",
              "      <td>0</td>\n",
              "      <td>0</td>\n",
              "      <td>0</td>\n",
              "      <td>0</td>\n",
              "      <td>0</td>\n",
              "      <td>0</td>\n",
              "      <td>0</td>\n",
              "      <td>0</td>\n",
              "      <td>1</td>\n",
              "    </tr>\n",
              "  </tbody>\n",
              "</table>\n",
              "<p>26719 rows × 569 columns</p>\n",
              "</div>\n",
              "      <button class=\"colab-df-convert\" onclick=\"convertToInteractive('df-24a95477-97be-4fd5-89c4-b0bd6e060824')\"\n",
              "              title=\"Convert this dataframe to an interactive table.\"\n",
              "              style=\"display:none;\">\n",
              "        \n",
              "  <svg xmlns=\"http://www.w3.org/2000/svg\" height=\"24px\"viewBox=\"0 0 24 24\"\n",
              "       width=\"24px\">\n",
              "    <path d=\"M0 0h24v24H0V0z\" fill=\"none\"/>\n",
              "    <path d=\"M18.56 5.44l.94 2.06.94-2.06 2.06-.94-2.06-.94-.94-2.06-.94 2.06-2.06.94zm-11 1L8.5 8.5l.94-2.06 2.06-.94-2.06-.94L8.5 2.5l-.94 2.06-2.06.94zm10 10l.94 2.06.94-2.06 2.06-.94-2.06-.94-.94-2.06-.94 2.06-2.06.94z\"/><path d=\"M17.41 7.96l-1.37-1.37c-.4-.4-.92-.59-1.43-.59-.52 0-1.04.2-1.43.59L10.3 9.45l-7.72 7.72c-.78.78-.78 2.05 0 2.83L4 21.41c.39.39.9.59 1.41.59.51 0 1.02-.2 1.41-.59l7.78-7.78 2.81-2.81c.8-.78.8-2.07 0-2.86zM5.41 20L4 18.59l7.72-7.72 1.47 1.35L5.41 20z\"/>\n",
              "  </svg>\n",
              "      </button>\n",
              "      \n",
              "  <style>\n",
              "    .colab-df-container {\n",
              "      display:flex;\n",
              "      flex-wrap:wrap;\n",
              "      gap: 12px;\n",
              "    }\n",
              "\n",
              "    .colab-df-convert {\n",
              "      background-color: #E8F0FE;\n",
              "      border: none;\n",
              "      border-radius: 50%;\n",
              "      cursor: pointer;\n",
              "      display: none;\n",
              "      fill: #1967D2;\n",
              "      height: 32px;\n",
              "      padding: 0 0 0 0;\n",
              "      width: 32px;\n",
              "    }\n",
              "\n",
              "    .colab-df-convert:hover {\n",
              "      background-color: #E2EBFA;\n",
              "      box-shadow: 0px 1px 2px rgba(60, 64, 67, 0.3), 0px 1px 3px 1px rgba(60, 64, 67, 0.15);\n",
              "      fill: #174EA6;\n",
              "    }\n",
              "\n",
              "    [theme=dark] .colab-df-convert {\n",
              "      background-color: #3B4455;\n",
              "      fill: #D2E3FC;\n",
              "    }\n",
              "\n",
              "    [theme=dark] .colab-df-convert:hover {\n",
              "      background-color: #434B5C;\n",
              "      box-shadow: 0px 1px 3px 1px rgba(0, 0, 0, 0.15);\n",
              "      filter: drop-shadow(0px 1px 2px rgba(0, 0, 0, 0.3));\n",
              "      fill: #FFFFFF;\n",
              "    }\n",
              "  </style>\n",
              "\n",
              "      <script>\n",
              "        const buttonEl =\n",
              "          document.querySelector('#df-24a95477-97be-4fd5-89c4-b0bd6e060824 button.colab-df-convert');\n",
              "        buttonEl.style.display =\n",
              "          google.colab.kernel.accessAllowed ? 'block' : 'none';\n",
              "\n",
              "        async function convertToInteractive(key) {\n",
              "          const element = document.querySelector('#df-24a95477-97be-4fd5-89c4-b0bd6e060824');\n",
              "          const dataTable =\n",
              "            await google.colab.kernel.invokeFunction('convertToInteractive',\n",
              "                                                     [key], {});\n",
              "          if (!dataTable) return;\n",
              "\n",
              "          const docLinkHtml = 'Like what you see? Visit the ' +\n",
              "            '<a target=\"_blank\" href=https://colab.research.google.com/notebooks/data_table.ipynb>data table notebook</a>'\n",
              "            + ' to learn more about interactive tables.';\n",
              "          element.innerHTML = '';\n",
              "          dataTable['output_type'] = 'display_data';\n",
              "          await google.colab.output.renderOutput(dataTable, element);\n",
              "          const docLink = document.createElement('div');\n",
              "          docLink.innerHTML = docLinkHtml;\n",
              "          element.appendChild(docLink);\n",
              "        }\n",
              "      </script>\n",
              "    </div>\n",
              "  </div>\n",
              "  "
            ]
          },
          "metadata": {},
          "execution_count": 65
        }
      ]
    },
    {
      "cell_type": "code",
      "source": [
        "from sklearn.model_selection import train_test_split"
      ],
      "metadata": {
        "id": "GZTVFFa5hljx"
      },
      "execution_count": 66,
      "outputs": []
    },
    {
      "cell_type": "code",
      "source": [
        "X_train, X_test, y_train, y_test = train_test_split(vectors, labels, test_size = 0.2, random_state = 42)"
      ],
      "metadata": {
        "id": "sdV73Wwbdgow"
      },
      "execution_count": 67,
      "outputs": []
    },
    {
      "cell_type": "code",
      "source": [
        "X_train.shape"
      ],
      "metadata": {
        "colab": {
          "base_uri": "https://localhost:8080/"
        },
        "outputId": "1f42de2e-e314-43db-e1e4-d3d4e29df4ed",
        "id": "wtDm8ON_PLZo"
      },
      "execution_count": 68,
      "outputs": [
        {
          "output_type": "execute_result",
          "data": {
            "text/plain": [
              "(21375, 1103)"
            ]
          },
          "metadata": {},
          "execution_count": 68
        }
      ]
    },
    {
      "cell_type": "code",
      "source": [
        "X_train = X_train.reshape(21375, 1, 1103)\n",
        "X_test = X_test.reshape(5344, 1, 1103)"
      ],
      "metadata": {
        "id": "QE2IsSk4WxcQ"
      },
      "execution_count": 69,
      "outputs": []
    },
    {
      "cell_type": "code",
      "source": [
        "X_train"
      ],
      "metadata": {
        "colab": {
          "base_uri": "https://localhost:8080/"
        },
        "id": "ndfdEC8vsNII",
        "outputId": "184fc81a-0854-4978-c048-fa917adac738"
      },
      "execution_count": 70,
      "outputs": [
        {
          "output_type": "execute_result",
          "data": {
            "text/plain": [
              "array([[[0, 0, 0, ..., 0, 0, 0]],\n",
              "\n",
              "       [[0, 0, 0, ..., 0, 0, 0]],\n",
              "\n",
              "       [[0, 0, 0, ..., 0, 0, 0]],\n",
              "\n",
              "       ...,\n",
              "\n",
              "       [[0, 0, 0, ..., 0, 0, 0]],\n",
              "\n",
              "       [[0, 0, 0, ..., 0, 0, 0]],\n",
              "\n",
              "       [[0, 0, 0, ..., 0, 0, 0]]])"
            ]
          },
          "metadata": {},
          "execution_count": 70
        }
      ]
    },
    {
      "cell_type": "code",
      "source": [
        "import tensorflow as tf"
      ],
      "metadata": {
        "id": "lGx8cDn6SWTT"
      },
      "execution_count": 71,
      "outputs": []
    },
    {
      "cell_type": "code",
      "source": [
        "embed_input = tf.keras.layers.Input(shape = (1,1103), dtype = tf.float32, name = 'Inputs')\n",
        "out = tf.keras.layers.Dropout(0.1, name = 'Dropout1')(embed_input)\n",
        "out = tf.keras.layers.GRU(1000, name = 'Dense1')(out)\n",
        "out = tf.keras.layers.Dropout(0.1, name = 'Dropout2')(out)\n",
        "out_final = tf.keras.layers.Dense(569, activation = 'softmax', name = 'Dense2')(out)"
      ],
      "metadata": {
        "id": "uETXpzoZPLZs"
      },
      "execution_count": 72,
      "outputs": []
    },
    {
      "cell_type": "code",
      "source": [
        "model = tf.keras.Model(inputs = [embed_input], outputs = [out_final])"
      ],
      "metadata": {
        "id": "41zoCnVuPLZs"
      },
      "execution_count": 73,
      "outputs": []
    },
    {
      "cell_type": "code",
      "source": [
        "model.summary()"
      ],
      "metadata": {
        "colab": {
          "base_uri": "https://localhost:8080/"
        },
        "id": "rSyVFn5dYEBV",
        "outputId": "ef3a67da-8473-4bea-bac1-45152b3d8f2f"
      },
      "execution_count": 74,
      "outputs": [
        {
          "output_type": "stream",
          "name": "stdout",
          "text": [
            "Model: \"model_2\"\n",
            "_________________________________________________________________\n",
            " Layer (type)                Output Shape              Param #   \n",
            "=================================================================\n",
            " Inputs (InputLayer)         [(None, 1, 1103)]         0         \n",
            "                                                                 \n",
            " Dropout1 (Dropout)          (None, 1, 1103)           0         \n",
            "                                                                 \n",
            " Dense1 (GRU)                (None, 1000)              6315000   \n",
            "                                                                 \n",
            " Dropout2 (Dropout)          (None, 1000)              0         \n",
            "                                                                 \n",
            " Dense2 (Dense)              (None, 569)               569569    \n",
            "                                                                 \n",
            "=================================================================\n",
            "Total params: 6,884,569\n",
            "Trainable params: 6,884,569\n",
            "Non-trainable params: 0\n",
            "_________________________________________________________________\n"
          ]
        }
      ]
    },
    {
      "cell_type": "code",
      "source": [
        "import keras.backend as K"
      ],
      "metadata": {
        "id": "LYEC3zjgbwig"
      },
      "execution_count": 75,
      "outputs": []
    },
    {
      "cell_type": "code",
      "source": [
        "def get_f1(y_true, y_pred): #taken from old keras source code\n",
        "    true_positives = K.sum(K.round(K.clip(y_true * y_pred, 0, 1)))\n",
        "    possible_positives = K.sum(K.round(K.clip(y_true, 0, 1)))\n",
        "    predicted_positives = K.sum(K.round(K.clip(y_pred, 0, 1)))\n",
        "    precision = true_positives / (predicted_positives + K.epsilon())\n",
        "    recall = true_positives / (possible_positives + K.epsilon())\n",
        "    f1_val = 2*(precision*recall)/(precision+recall+K.epsilon())\n",
        "    return f1_val"
      ],
      "metadata": {
        "id": "pEhtB9yzZX-c"
      },
      "execution_count": 76,
      "outputs": []
    },
    {
      "cell_type": "code",
      "source": [
        "Metrics = [tf.keras.metrics.CategoricalAccuracy(name = 'accuracy'),\n",
        "           tf.keras.metrics.Precision(name = 'precision'),\n",
        "           tf.keras.metrics.Recall(name = 'recall'),\n",
        "           get_f1\n",
        "           ]\n",
        "\n",
        "model.compile(optimizer ='adam',\n",
        "               loss = 'categorical_crossentropy',\n",
        "               metrics = Metrics)"
      ],
      "metadata": {
        "id": "ksVYZsZRYb5w"
      },
      "execution_count": 77,
      "outputs": []
    },
    {
      "cell_type": "code",
      "source": [
        "history = model.fit(X_train, y_train, validation_data = (X_test, y_test), epochs = 30)"
      ],
      "metadata": {
        "colab": {
          "base_uri": "https://localhost:8080/"
        },
        "id": "wS50G0GLYXYz",
        "outputId": "70fbad88-939c-48ea-f490-b193d953fc2c"
      },
      "execution_count": 78,
      "outputs": [
        {
          "output_type": "stream",
          "name": "stdout",
          "text": [
            "Epoch 1/30\n",
            "668/668 [==============================] - 8s 9ms/step - loss: 1.6166 - accuracy: 0.7357 - precision: 0.9310 - recall: 0.6072 - get_f1: 0.7020 - val_loss: 0.5007 - val_accuracy: 0.9094 - val_precision: 0.9647 - val_recall: 0.8632 - val_get_f1: 0.9103\n",
            "Epoch 2/30\n",
            "668/668 [==============================] - 6s 8ms/step - loss: 0.5088 - accuracy: 0.8860 - precision: 0.9407 - recall: 0.8385 - get_f1: 0.8858 - val_loss: 0.2823 - val_accuracy: 0.9409 - val_precision: 0.9673 - val_recall: 0.9190 - val_get_f1: 0.9422\n",
            "Epoch 3/30\n",
            "668/668 [==============================] - 6s 8ms/step - loss: 0.3595 - accuracy: 0.9075 - precision: 0.9437 - recall: 0.8790 - get_f1: 0.9097 - val_loss: 0.2200 - val_accuracy: 0.9536 - val_precision: 0.9681 - val_recall: 0.9381 - val_get_f1: 0.9527\n",
            "Epoch 4/30\n",
            "668/668 [==============================] - 6s 9ms/step - loss: 0.3254 - accuracy: 0.9160 - precision: 0.9448 - recall: 0.8952 - get_f1: 0.9190 - val_loss: 0.2009 - val_accuracy: 0.9555 - val_precision: 0.9708 - val_recall: 0.9446 - val_get_f1: 0.9573\n",
            "Epoch 5/30\n",
            "668/668 [==============================] - 6s 9ms/step - loss: 0.3120 - accuracy: 0.9186 - precision: 0.9455 - recall: 0.8989 - get_f1: 0.9213 - val_loss: 0.1977 - val_accuracy: 0.9534 - val_precision: 0.9644 - val_recall: 0.9467 - val_get_f1: 0.9553\n",
            "Epoch 6/30\n",
            "668/668 [==============================] - 6s 8ms/step - loss: 0.2951 - accuracy: 0.9212 - precision: 0.9470 - recall: 0.9050 - get_f1: 0.9251 - val_loss: 0.1988 - val_accuracy: 0.9553 - val_precision: 0.9668 - val_recall: 0.9484 - val_get_f1: 0.9573\n",
            "Epoch 7/30\n",
            "668/668 [==============================] - 6s 9ms/step - loss: 0.2927 - accuracy: 0.9236 - precision: 0.9458 - recall: 0.9069 - get_f1: 0.9256 - val_loss: 0.2054 - val_accuracy: 0.9545 - val_precision: 0.9631 - val_recall: 0.9482 - val_get_f1: 0.9555\n",
            "Epoch 8/30\n",
            "668/668 [==============================] - 6s 9ms/step - loss: 0.2937 - accuracy: 0.9209 - precision: 0.9471 - recall: 0.9058 - get_f1: 0.9256 - val_loss: 0.2109 - val_accuracy: 0.9500 - val_precision: 0.9621 - val_recall: 0.9459 - val_get_f1: 0.9539\n",
            "Epoch 9/30\n",
            "668/668 [==============================] - 6s 9ms/step - loss: 0.2938 - accuracy: 0.9227 - precision: 0.9460 - recall: 0.9084 - get_f1: 0.9265 - val_loss: 0.2025 - val_accuracy: 0.9571 - val_precision: 0.9682 - val_recall: 0.9519 - val_get_f1: 0.9599\n",
            "Epoch 10/30\n",
            "668/668 [==============================] - 6s 8ms/step - loss: 0.2832 - accuracy: 0.9262 - precision: 0.9509 - recall: 0.9114 - get_f1: 0.9305 - val_loss: 0.2139 - val_accuracy: 0.9585 - val_precision: 0.9655 - val_recall: 0.9542 - val_get_f1: 0.9597\n",
            "Epoch 11/30\n",
            "668/668 [==============================] - 6s 8ms/step - loss: 0.2787 - accuracy: 0.9265 - precision: 0.9512 - recall: 0.9124 - get_f1: 0.9311 - val_loss: 0.2190 - val_accuracy: 0.9538 - val_precision: 0.9604 - val_recall: 0.9497 - val_get_f1: 0.9549\n",
            "Epoch 12/30\n",
            "668/668 [==============================] - 6s 8ms/step - loss: 0.2928 - accuracy: 0.9212 - precision: 0.9452 - recall: 0.9048 - get_f1: 0.9243 - val_loss: 0.2123 - val_accuracy: 0.9560 - val_precision: 0.9630 - val_recall: 0.9504 - val_get_f1: 0.9565\n",
            "Epoch 13/30\n",
            "668/668 [==============================] - 6s 8ms/step - loss: 0.2812 - accuracy: 0.9246 - precision: 0.9480 - recall: 0.9110 - get_f1: 0.9288 - val_loss: 0.1987 - val_accuracy: 0.9613 - val_precision: 0.9671 - val_recall: 0.9583 - val_get_f1: 0.9626\n",
            "Epoch 14/30\n",
            "668/668 [==============================] - 6s 8ms/step - loss: 0.2787 - accuracy: 0.9260 - precision: 0.9475 - recall: 0.9122 - get_f1: 0.9292 - val_loss: 0.2014 - val_accuracy: 0.9620 - val_precision: 0.9692 - val_recall: 0.9588 - val_get_f1: 0.9639\n",
            "Epoch 15/30\n",
            "668/668 [==============================] - 6s 9ms/step - loss: 0.2755 - accuracy: 0.9255 - precision: 0.9511 - recall: 0.9129 - get_f1: 0.9313 - val_loss: 0.2147 - val_accuracy: 0.9586 - val_precision: 0.9651 - val_recall: 0.9560 - val_get_f1: 0.9604\n",
            "Epoch 16/30\n",
            "668/668 [==============================] - 6s 8ms/step - loss: 0.2762 - accuracy: 0.9274 - precision: 0.9499 - recall: 0.9133 - get_f1: 0.9309 - val_loss: 0.2123 - val_accuracy: 0.9598 - val_precision: 0.9656 - val_recall: 0.9557 - val_get_f1: 0.9605\n",
            "Epoch 17/30\n",
            "668/668 [==============================] - 6s 9ms/step - loss: 0.2744 - accuracy: 0.9282 - precision: 0.9514 - recall: 0.9156 - get_f1: 0.9329 - val_loss: 0.2055 - val_accuracy: 0.9583 - val_precision: 0.9658 - val_recall: 0.9555 - val_get_f1: 0.9605\n",
            "Epoch 18/30\n",
            "668/668 [==============================] - 6s 9ms/step - loss: 0.2706 - accuracy: 0.9280 - precision: 0.9514 - recall: 0.9148 - get_f1: 0.9325 - val_loss: 0.2147 - val_accuracy: 0.9545 - val_precision: 0.9631 - val_recall: 0.9519 - val_get_f1: 0.9574\n",
            "Epoch 19/30\n",
            "668/668 [==============================] - 6s 8ms/step - loss: 0.2560 - accuracy: 0.9314 - precision: 0.9529 - recall: 0.9191 - get_f1: 0.9354 - val_loss: 0.2253 - val_accuracy: 0.9540 - val_precision: 0.9603 - val_recall: 0.9510 - val_get_f1: 0.9555\n",
            "Epoch 20/30\n",
            "668/668 [==============================] - 6s 8ms/step - loss: 0.2762 - accuracy: 0.9273 - precision: 0.9499 - recall: 0.9121 - get_f1: 0.9303 - val_loss: 0.2256 - val_accuracy: 0.9560 - val_precision: 0.9634 - val_recall: 0.9506 - val_get_f1: 0.9568\n",
            "Epoch 21/30\n",
            "668/668 [==============================] - 6s 8ms/step - loss: 0.2627 - accuracy: 0.9286 - precision: 0.9499 - recall: 0.9150 - get_f1: 0.9318 - val_loss: 0.2239 - val_accuracy: 0.9568 - val_precision: 0.9631 - val_recall: 0.9534 - val_get_f1: 0.9581\n",
            "Epoch 22/30\n",
            "668/668 [==============================] - 6s 8ms/step - loss: 0.2862 - accuracy: 0.9234 - precision: 0.9459 - recall: 0.9089 - get_f1: 0.9267 - val_loss: 0.2156 - val_accuracy: 0.9564 - val_precision: 0.9640 - val_recall: 0.9525 - val_get_f1: 0.9581\n",
            "Epoch 23/30\n",
            "668/668 [==============================] - 6s 8ms/step - loss: 0.2774 - accuracy: 0.9247 - precision: 0.9485 - recall: 0.9119 - get_f1: 0.9295 - val_loss: 0.2216 - val_accuracy: 0.9577 - val_precision: 0.9634 - val_recall: 0.9543 - val_get_f1: 0.9587\n",
            "Epoch 24/30\n",
            "668/668 [==============================] - 6s 8ms/step - loss: 0.2581 - accuracy: 0.9298 - precision: 0.9484 - recall: 0.9164 - get_f1: 0.9318 - val_loss: 0.2198 - val_accuracy: 0.9545 - val_precision: 0.9626 - val_recall: 0.9499 - val_get_f1: 0.9561\n",
            "Epoch 25/30\n",
            "668/668 [==============================] - 6s 8ms/step - loss: 0.2792 - accuracy: 0.9262 - precision: 0.9491 - recall: 0.9113 - get_f1: 0.9295 - val_loss: 0.2236 - val_accuracy: 0.9549 - val_precision: 0.9620 - val_recall: 0.9515 - val_get_f1: 0.9566\n",
            "Epoch 26/30\n",
            "668/668 [==============================] - 6s 8ms/step - loss: 0.2508 - accuracy: 0.9319 - precision: 0.9519 - recall: 0.9208 - get_f1: 0.9359 - val_loss: 0.2251 - val_accuracy: 0.9573 - val_precision: 0.9641 - val_recall: 0.9553 - val_get_f1: 0.9596\n",
            "Epoch 27/30\n",
            "668/668 [==============================] - 6s 8ms/step - loss: 0.2512 - accuracy: 0.9328 - precision: 0.9549 - recall: 0.9206 - get_f1: 0.9371 - val_loss: 0.2249 - val_accuracy: 0.9566 - val_precision: 0.9641 - val_recall: 0.9538 - val_get_f1: 0.9588\n",
            "Epoch 28/30\n",
            "668/668 [==============================] - 6s 8ms/step - loss: 0.2558 - accuracy: 0.9305 - precision: 0.9530 - recall: 0.9185 - get_f1: 0.9351 - val_loss: 0.2230 - val_accuracy: 0.9549 - val_precision: 0.9600 - val_recall: 0.9519 - val_get_f1: 0.9559\n",
            "Epoch 29/30\n",
            "668/668 [==============================] - 6s 8ms/step - loss: 0.2696 - accuracy: 0.9271 - precision: 0.9499 - recall: 0.9135 - get_f1: 0.9310 - val_loss: 0.2250 - val_accuracy: 0.9564 - val_precision: 0.9609 - val_recall: 0.9513 - val_get_f1: 0.9560\n",
            "Epoch 30/30\n",
            "668/668 [==============================] - 6s 9ms/step - loss: 0.2559 - accuracy: 0.9320 - precision: 0.9538 - recall: 0.9187 - get_f1: 0.9357 - val_loss: 0.2158 - val_accuracy: 0.9592 - val_precision: 0.9649 - val_recall: 0.9571 - val_get_f1: 0.9609\n"
          ]
        }
      ]
    },
    {
      "cell_type": "code",
      "source": [
        "y_pred = model.predict(X_test)\n",
        "y_pred = [(np.argmax(x)+1) for x in np.array(y_pred)]\n",
        "y_pred = np.array(y_pred)"
      ],
      "metadata": {
        "colab": {
          "base_uri": "https://localhost:8080/"
        },
        "id": "qekDg4F-s06J",
        "outputId": "078289fb-a652-47d5-c185-dc3f0d9252eb"
      },
      "execution_count": 79,
      "outputs": [
        {
          "output_type": "stream",
          "name": "stdout",
          "text": [
            "167/167 [==============================] - 1s 2ms/step\n"
          ]
        }
      ]
    },
    {
      "cell_type": "code",
      "source": [
        "y_pred"
      ],
      "metadata": {
        "colab": {
          "base_uri": "https://localhost:8080/"
        },
        "id": "a5YCLcjytHg3",
        "outputId": "bd440a2b-fa06-46fd-e366-b29bcd973a0c"
      },
      "execution_count": 80,
      "outputs": [
        {
          "output_type": "execute_result",
          "data": {
            "text/plain": [
              "array([ 78,   5,  66, ..., 107,  64, 287])"
            ]
          },
          "metadata": {},
          "execution_count": 80
        }
      ]
    },
    {
      "cell_type": "code",
      "source": [
        "actual = [(np.argmax(x)+1) for x in np.array(y_test)]\n",
        "actual = np.array(actual)"
      ],
      "metadata": {
        "id": "5MSYVocqYn9U"
      },
      "execution_count": 81,
      "outputs": []
    },
    {
      "cell_type": "code",
      "source": [
        "actual"
      ],
      "metadata": {
        "colab": {
          "base_uri": "https://localhost:8080/"
        },
        "id": "W7q-3hGptLOQ",
        "outputId": "7fdb9095-7336-4418-ccaa-e2c578350eef"
      },
      "execution_count": 82,
      "outputs": [
        {
          "output_type": "execute_result",
          "data": {
            "text/plain": [
              "array([ 78,   5,  66, ..., 107,  64, 287])"
            ]
          },
          "metadata": {},
          "execution_count": 82
        }
      ]
    },
    {
      "cell_type": "code",
      "source": [
        "from sklearn.metrics import precision_recall_fscore_support, accuracy_score\n",
        "\n",
        "print('weighted', precision_recall_fscore_support(actual, y_pred, average='weighted'))\n",
        "print('micro',precision_recall_fscore_support(actual, y_pred, average='micro'))\n",
        "print('macro',precision_recall_fscore_support(actual, y_pred, average='macro'))\n",
        "print('accuracy', accuracy_score(actual, y_pred))"
      ],
      "metadata": {
        "colab": {
          "base_uri": "https://localhost:8080/"
        },
        "id": "gUCsGcr9bZ_2",
        "outputId": "12938716-e16d-49d7-cdcd-9cf1c0d3b7a2"
      },
      "execution_count": 83,
      "outputs": [
        {
          "output_type": "stream",
          "name": "stdout",
          "text": [
            "weighted (0.9534060245515517, 0.9592065868263473, 0.9536330422944991, None)\n",
            "micro (0.9592065868263473, 0.9592065868263473, 0.9592065868263473, None)\n",
            "macro (0.804312341544745, 0.8024185118417085, 0.7924706661677107, None)\n",
            "accuracy 0.9592065868263473\n"
          ]
        },
        {
          "output_type": "stream",
          "name": "stderr",
          "text": [
            "/usr/local/lib/python3.7/dist-packages/sklearn/metrics/_classification.py:1318: UndefinedMetricWarning: Precision and F-score are ill-defined and being set to 0.0 in labels with no predicted samples. Use `zero_division` parameter to control this behavior.\n",
            "  _warn_prf(average, modifier, msg_start, len(result))\n",
            "/usr/local/lib/python3.7/dist-packages/sklearn/metrics/_classification.py:1318: UndefinedMetricWarning: Recall and F-score are ill-defined and being set to 0.0 in labels with no true samples. Use `zero_division` parameter to control this behavior.\n",
            "  _warn_prf(average, modifier, msg_start, len(result))\n",
            "/usr/local/lib/python3.7/dist-packages/sklearn/metrics/_classification.py:1318: UndefinedMetricWarning: Precision and F-score are ill-defined and being set to 0.0 in labels with no predicted samples. Use `zero_division` parameter to control this behavior.\n",
            "  _warn_prf(average, modifier, msg_start, len(result))\n",
            "/usr/local/lib/python3.7/dist-packages/sklearn/metrics/_classification.py:1318: UndefinedMetricWarning: Recall and F-score are ill-defined and being set to 0.0 in labels with no true samples. Use `zero_division` parameter to control this behavior.\n",
            "  _warn_prf(average, modifier, msg_start, len(result))\n"
          ]
        }
      ]
    },
    {
      "cell_type": "code",
      "source": [
        "# val_accuracy: 0.9530 - val_precision: 0.9618 - val_recall: 0.9480 - val_get_f1: 0.9547"
      ],
      "metadata": {
        "id": "DI6MIfJkiSzF"
      },
      "execution_count": 84,
      "outputs": []
    }
  ]
}