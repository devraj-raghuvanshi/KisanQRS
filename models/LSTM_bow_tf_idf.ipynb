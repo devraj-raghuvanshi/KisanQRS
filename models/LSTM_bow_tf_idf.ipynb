{
  "nbformat": 4,
  "nbformat_minor": 0,
  "metadata": {
    "colab": {
      "provenance": []
    },
    "kernelspec": {
      "name": "python3",
      "display_name": "Python 3"
    },
    "language_info": {
      "name": "python"
    },
    "accelerator": "GPU",
    "gpuClass": "standard"
  },
  "cells": [
    {
      "cell_type": "code",
      "execution_count": 1,
      "metadata": {
        "id": "7LxE1C6UPySm"
      },
      "outputs": [],
      "source": [
        "import numpy as np\n",
        "import pandas as pd"
      ]
    },
    {
      "cell_type": "code",
      "source": [
        "from google.colab import files\n",
        "from google.colab import drive\n",
        "drive.mount('/drive')"
      ],
      "metadata": {
        "colab": {
          "base_uri": "https://localhost:8080/"
        },
        "id": "ZXRViusAP7ts",
        "outputId": "7b2671ce-38ed-413b-dd93-f4280689052a"
      },
      "execution_count": 2,
      "outputs": [
        {
          "output_type": "stream",
          "name": "stdout",
          "text": [
            "Mounted at /drive\n"
          ]
        }
      ]
    },
    {
      "cell_type": "code",
      "source": [
        "df_ques_cluster = pd.read_csv('/drive/My Drive/Research Project IIT-I/AP Question clusters.csv')"
      ],
      "metadata": {
        "id": "OcTCGVUlSDED"
      },
      "execution_count": 3,
      "outputs": []
    },
    {
      "cell_type": "code",
      "source": [
        "df_ques_cluster"
      ],
      "metadata": {
        "colab": {
          "base_uri": "https://localhost:8080/",
          "height": 783
        },
        "id": "zf514bdMKgzE",
        "outputId": "47198d87-0a85-42a0-861b-778b34ed6fe4"
      },
      "execution_count": 4,
      "outputs": [
        {
          "output_type": "execute_result",
          "data": {
            "text/plain": [
              "          index    BlockName      Category  Year  Month  Day  \\\n",
              "0      23781986   SARAVAKOTA        Others  2020      6   10   \n",
              "1      23824164      NELLORE        Others  2020      3   17   \n",
              "2      23824118    KODAVALUR  Green Manure  2020      3   16   \n",
              "3      23824098    MARRIPADU        Others  2020      3   15   \n",
              "4      23821955     MANUBOLU        Others  2020      1   25   \n",
              "...         ...          ...           ...   ...    ...  ...   \n",
              "26714  23825672    CHILLAKUR      Oilseeds  2020     10   23   \n",
              "26715  23825977  VENKATAGIRI      Oilseeds  2020     11   12   \n",
              "26716  23823419        RAPUR        Fruits  2020      2   25   \n",
              "26717  23824455  BALAYAPALLE        Fruits  2020      7    6   \n",
              "26718  23823420        RAPUR        Fruits  2020      2   25   \n",
              "\n",
              "                               Crop DistrictName                  QueryType  \\\n",
              "0                            Others   SRIKAKULAM         Government Schemes   \n",
              "1                            Others      NELLORE                      Seeds   \n",
              "2        KolanchiTephrosia Purpurea      NELLORE                  Varieties   \n",
              "3                            Others      NELLORE         Government Schemes   \n",
              "4                            Others      NELLORE         Government Schemes   \n",
              "...                             ...          ...                        ...   \n",
              "26714  Groundnut pea nutmung phalli      NELLORE                      Seeds   \n",
              "26715  Groundnut pea nutmung phalli      NELLORE                      Seeds   \n",
              "26716                        Citrus      NELLORE  Agriculture Mechanization   \n",
              "26717                        Citrus      NELLORE           Plant Protection   \n",
              "26718                        Citrus      NELLORE        Nutrient Management   \n",
              "\n",
              "             Sector       StateName                     QueryText  \\\n",
              "0       AGRICULTURE  ANDHRA PRADESH                    MAO NUMBER   \n",
              "1       AGRICULTURE  ANDHRA PRADESH                    MAO NUMBER   \n",
              "2       AGRICULTURE  ANDHRA PRADESH                    MAO NUMBER   \n",
              "3       AGRICULTURE  ANDHRA PRADESH                    MAO NUMBER   \n",
              "4       AGRICULTURE  ANDHRA PRADESH                    MAO NUMBER   \n",
              "...             ...             ...                           ...   \n",
              "26714   AGRICULTURE  ANDHRA PRADESH          GROUNDS NUT VARIETY    \n",
              "26715   AGRICULTURE  ANDHRA PRADESH  kadiri ground nut varieties    \n",
              "26716  HORTICULTURE  ANDHRA PRADESH       CITRUS Scab MANAGEMENT    \n",
              "26717  HORTICULTURE  ANDHRA PRADESH        CITRUS SCAB MANAGEMENT   \n",
              "26718  HORTICULTURE  ANDHRA PRADESH        CITRUS Scab MANAGEMENT   \n",
              "\n",
              "                                                  KccAns  Cluster  \n",
              "0                   -- RECOMMENDED TO CONTACT 8886612698        1  \n",
              "1                                          -- 8886613101        1  \n",
              "2                                             8886613686        1  \n",
              "3                                             8886613671        1  \n",
              "4                                   MAO NUMBER8886613708        1  \n",
              "...                                                  ...      ...  \n",
              "26714               -- RECOMMENDED TO CONTACT 9989628385      568  \n",
              "26715  Agricultural Research Station Kadiri - 515 591...      568  \n",
              "26716  recommended to spray amistar top azoxystrobind...      569  \n",
              "26717  RECOMMENDED TO SPRAY CARBENDAZIM BAVISTIN 2GM ...      569  \n",
              "26718  recommended to spray amistar top azoxystrobind...      569  \n",
              "\n",
              "[26719 rows x 14 columns]"
            ],
            "text/html": [
              "\n",
              "  <div id=\"df-c3d015fa-a9fa-405b-966d-463e19a40a43\">\n",
              "    <div class=\"colab-df-container\">\n",
              "      <div>\n",
              "<style scoped>\n",
              "    .dataframe tbody tr th:only-of-type {\n",
              "        vertical-align: middle;\n",
              "    }\n",
              "\n",
              "    .dataframe tbody tr th {\n",
              "        vertical-align: top;\n",
              "    }\n",
              "\n",
              "    .dataframe thead th {\n",
              "        text-align: right;\n",
              "    }\n",
              "</style>\n",
              "<table border=\"1\" class=\"dataframe\">\n",
              "  <thead>\n",
              "    <tr style=\"text-align: right;\">\n",
              "      <th></th>\n",
              "      <th>index</th>\n",
              "      <th>BlockName</th>\n",
              "      <th>Category</th>\n",
              "      <th>Year</th>\n",
              "      <th>Month</th>\n",
              "      <th>Day</th>\n",
              "      <th>Crop</th>\n",
              "      <th>DistrictName</th>\n",
              "      <th>QueryType</th>\n",
              "      <th>Sector</th>\n",
              "      <th>StateName</th>\n",
              "      <th>QueryText</th>\n",
              "      <th>KccAns</th>\n",
              "      <th>Cluster</th>\n",
              "    </tr>\n",
              "  </thead>\n",
              "  <tbody>\n",
              "    <tr>\n",
              "      <th>0</th>\n",
              "      <td>23781986</td>\n",
              "      <td>SARAVAKOTA</td>\n",
              "      <td>Others</td>\n",
              "      <td>2020</td>\n",
              "      <td>6</td>\n",
              "      <td>10</td>\n",
              "      <td>Others</td>\n",
              "      <td>SRIKAKULAM</td>\n",
              "      <td>Government Schemes</td>\n",
              "      <td>AGRICULTURE</td>\n",
              "      <td>ANDHRA PRADESH</td>\n",
              "      <td>MAO NUMBER</td>\n",
              "      <td>-- RECOMMENDED TO CONTACT 8886612698</td>\n",
              "      <td>1</td>\n",
              "    </tr>\n",
              "    <tr>\n",
              "      <th>1</th>\n",
              "      <td>23824164</td>\n",
              "      <td>NELLORE</td>\n",
              "      <td>Others</td>\n",
              "      <td>2020</td>\n",
              "      <td>3</td>\n",
              "      <td>17</td>\n",
              "      <td>Others</td>\n",
              "      <td>NELLORE</td>\n",
              "      <td>Seeds</td>\n",
              "      <td>AGRICULTURE</td>\n",
              "      <td>ANDHRA PRADESH</td>\n",
              "      <td>MAO NUMBER</td>\n",
              "      <td>-- 8886613101</td>\n",
              "      <td>1</td>\n",
              "    </tr>\n",
              "    <tr>\n",
              "      <th>2</th>\n",
              "      <td>23824118</td>\n",
              "      <td>KODAVALUR</td>\n",
              "      <td>Green Manure</td>\n",
              "      <td>2020</td>\n",
              "      <td>3</td>\n",
              "      <td>16</td>\n",
              "      <td>KolanchiTephrosia Purpurea</td>\n",
              "      <td>NELLORE</td>\n",
              "      <td>Varieties</td>\n",
              "      <td>AGRICULTURE</td>\n",
              "      <td>ANDHRA PRADESH</td>\n",
              "      <td>MAO NUMBER</td>\n",
              "      <td>8886613686</td>\n",
              "      <td>1</td>\n",
              "    </tr>\n",
              "    <tr>\n",
              "      <th>3</th>\n",
              "      <td>23824098</td>\n",
              "      <td>MARRIPADU</td>\n",
              "      <td>Others</td>\n",
              "      <td>2020</td>\n",
              "      <td>3</td>\n",
              "      <td>15</td>\n",
              "      <td>Others</td>\n",
              "      <td>NELLORE</td>\n",
              "      <td>Government Schemes</td>\n",
              "      <td>AGRICULTURE</td>\n",
              "      <td>ANDHRA PRADESH</td>\n",
              "      <td>MAO NUMBER</td>\n",
              "      <td>8886613671</td>\n",
              "      <td>1</td>\n",
              "    </tr>\n",
              "    <tr>\n",
              "      <th>4</th>\n",
              "      <td>23821955</td>\n",
              "      <td>MANUBOLU</td>\n",
              "      <td>Others</td>\n",
              "      <td>2020</td>\n",
              "      <td>1</td>\n",
              "      <td>25</td>\n",
              "      <td>Others</td>\n",
              "      <td>NELLORE</td>\n",
              "      <td>Government Schemes</td>\n",
              "      <td>AGRICULTURE</td>\n",
              "      <td>ANDHRA PRADESH</td>\n",
              "      <td>MAO NUMBER</td>\n",
              "      <td>MAO NUMBER8886613708</td>\n",
              "      <td>1</td>\n",
              "    </tr>\n",
              "    <tr>\n",
              "      <th>...</th>\n",
              "      <td>...</td>\n",
              "      <td>...</td>\n",
              "      <td>...</td>\n",
              "      <td>...</td>\n",
              "      <td>...</td>\n",
              "      <td>...</td>\n",
              "      <td>...</td>\n",
              "      <td>...</td>\n",
              "      <td>...</td>\n",
              "      <td>...</td>\n",
              "      <td>...</td>\n",
              "      <td>...</td>\n",
              "      <td>...</td>\n",
              "      <td>...</td>\n",
              "    </tr>\n",
              "    <tr>\n",
              "      <th>26714</th>\n",
              "      <td>23825672</td>\n",
              "      <td>CHILLAKUR</td>\n",
              "      <td>Oilseeds</td>\n",
              "      <td>2020</td>\n",
              "      <td>10</td>\n",
              "      <td>23</td>\n",
              "      <td>Groundnut pea nutmung phalli</td>\n",
              "      <td>NELLORE</td>\n",
              "      <td>Seeds</td>\n",
              "      <td>AGRICULTURE</td>\n",
              "      <td>ANDHRA PRADESH</td>\n",
              "      <td>GROUNDS NUT VARIETY</td>\n",
              "      <td>-- RECOMMENDED TO CONTACT 9989628385</td>\n",
              "      <td>568</td>\n",
              "    </tr>\n",
              "    <tr>\n",
              "      <th>26715</th>\n",
              "      <td>23825977</td>\n",
              "      <td>VENKATAGIRI</td>\n",
              "      <td>Oilseeds</td>\n",
              "      <td>2020</td>\n",
              "      <td>11</td>\n",
              "      <td>12</td>\n",
              "      <td>Groundnut pea nutmung phalli</td>\n",
              "      <td>NELLORE</td>\n",
              "      <td>Seeds</td>\n",
              "      <td>AGRICULTURE</td>\n",
              "      <td>ANDHRA PRADESH</td>\n",
              "      <td>kadiri ground nut varieties</td>\n",
              "      <td>Agricultural Research Station Kadiri - 515 591...</td>\n",
              "      <td>568</td>\n",
              "    </tr>\n",
              "    <tr>\n",
              "      <th>26716</th>\n",
              "      <td>23823419</td>\n",
              "      <td>RAPUR</td>\n",
              "      <td>Fruits</td>\n",
              "      <td>2020</td>\n",
              "      <td>2</td>\n",
              "      <td>25</td>\n",
              "      <td>Citrus</td>\n",
              "      <td>NELLORE</td>\n",
              "      <td>Agriculture Mechanization</td>\n",
              "      <td>HORTICULTURE</td>\n",
              "      <td>ANDHRA PRADESH</td>\n",
              "      <td>CITRUS Scab MANAGEMENT</td>\n",
              "      <td>recommended to spray amistar top azoxystrobind...</td>\n",
              "      <td>569</td>\n",
              "    </tr>\n",
              "    <tr>\n",
              "      <th>26717</th>\n",
              "      <td>23824455</td>\n",
              "      <td>BALAYAPALLE</td>\n",
              "      <td>Fruits</td>\n",
              "      <td>2020</td>\n",
              "      <td>7</td>\n",
              "      <td>6</td>\n",
              "      <td>Citrus</td>\n",
              "      <td>NELLORE</td>\n",
              "      <td>Plant Protection</td>\n",
              "      <td>HORTICULTURE</td>\n",
              "      <td>ANDHRA PRADESH</td>\n",
              "      <td>CITRUS SCAB MANAGEMENT</td>\n",
              "      <td>RECOMMENDED TO SPRAY CARBENDAZIM BAVISTIN 2GM ...</td>\n",
              "      <td>569</td>\n",
              "    </tr>\n",
              "    <tr>\n",
              "      <th>26718</th>\n",
              "      <td>23823420</td>\n",
              "      <td>RAPUR</td>\n",
              "      <td>Fruits</td>\n",
              "      <td>2020</td>\n",
              "      <td>2</td>\n",
              "      <td>25</td>\n",
              "      <td>Citrus</td>\n",
              "      <td>NELLORE</td>\n",
              "      <td>Nutrient Management</td>\n",
              "      <td>HORTICULTURE</td>\n",
              "      <td>ANDHRA PRADESH</td>\n",
              "      <td>CITRUS Scab MANAGEMENT</td>\n",
              "      <td>recommended to spray amistar top azoxystrobind...</td>\n",
              "      <td>569</td>\n",
              "    </tr>\n",
              "  </tbody>\n",
              "</table>\n",
              "<p>26719 rows × 14 columns</p>\n",
              "</div>\n",
              "      <button class=\"colab-df-convert\" onclick=\"convertToInteractive('df-c3d015fa-a9fa-405b-966d-463e19a40a43')\"\n",
              "              title=\"Convert this dataframe to an interactive table.\"\n",
              "              style=\"display:none;\">\n",
              "        \n",
              "  <svg xmlns=\"http://www.w3.org/2000/svg\" height=\"24px\"viewBox=\"0 0 24 24\"\n",
              "       width=\"24px\">\n",
              "    <path d=\"M0 0h24v24H0V0z\" fill=\"none\"/>\n",
              "    <path d=\"M18.56 5.44l.94 2.06.94-2.06 2.06-.94-2.06-.94-.94-2.06-.94 2.06-2.06.94zm-11 1L8.5 8.5l.94-2.06 2.06-.94-2.06-.94L8.5 2.5l-.94 2.06-2.06.94zm10 10l.94 2.06.94-2.06 2.06-.94-2.06-.94-.94-2.06-.94 2.06-2.06.94z\"/><path d=\"M17.41 7.96l-1.37-1.37c-.4-.4-.92-.59-1.43-.59-.52 0-1.04.2-1.43.59L10.3 9.45l-7.72 7.72c-.78.78-.78 2.05 0 2.83L4 21.41c.39.39.9.59 1.41.59.51 0 1.02-.2 1.41-.59l7.78-7.78 2.81-2.81c.8-.78.8-2.07 0-2.86zM5.41 20L4 18.59l7.72-7.72 1.47 1.35L5.41 20z\"/>\n",
              "  </svg>\n",
              "      </button>\n",
              "      \n",
              "  <style>\n",
              "    .colab-df-container {\n",
              "      display:flex;\n",
              "      flex-wrap:wrap;\n",
              "      gap: 12px;\n",
              "    }\n",
              "\n",
              "    .colab-df-convert {\n",
              "      background-color: #E8F0FE;\n",
              "      border: none;\n",
              "      border-radius: 50%;\n",
              "      cursor: pointer;\n",
              "      display: none;\n",
              "      fill: #1967D2;\n",
              "      height: 32px;\n",
              "      padding: 0 0 0 0;\n",
              "      width: 32px;\n",
              "    }\n",
              "\n",
              "    .colab-df-convert:hover {\n",
              "      background-color: #E2EBFA;\n",
              "      box-shadow: 0px 1px 2px rgba(60, 64, 67, 0.3), 0px 1px 3px 1px rgba(60, 64, 67, 0.15);\n",
              "      fill: #174EA6;\n",
              "    }\n",
              "\n",
              "    [theme=dark] .colab-df-convert {\n",
              "      background-color: #3B4455;\n",
              "      fill: #D2E3FC;\n",
              "    }\n",
              "\n",
              "    [theme=dark] .colab-df-convert:hover {\n",
              "      background-color: #434B5C;\n",
              "      box-shadow: 0px 1px 3px 1px rgba(0, 0, 0, 0.15);\n",
              "      filter: drop-shadow(0px 1px 2px rgba(0, 0, 0, 0.3));\n",
              "      fill: #FFFFFF;\n",
              "    }\n",
              "  </style>\n",
              "\n",
              "      <script>\n",
              "        const buttonEl =\n",
              "          document.querySelector('#df-c3d015fa-a9fa-405b-966d-463e19a40a43 button.colab-df-convert');\n",
              "        buttonEl.style.display =\n",
              "          google.colab.kernel.accessAllowed ? 'block' : 'none';\n",
              "\n",
              "        async function convertToInteractive(key) {\n",
              "          const element = document.querySelector('#df-c3d015fa-a9fa-405b-966d-463e19a40a43');\n",
              "          const dataTable =\n",
              "            await google.colab.kernel.invokeFunction('convertToInteractive',\n",
              "                                                     [key], {});\n",
              "          if (!dataTable) return;\n",
              "\n",
              "          const docLinkHtml = 'Like what you see? Visit the ' +\n",
              "            '<a target=\"_blank\" href=https://colab.research.google.com/notebooks/data_table.ipynb>data table notebook</a>'\n",
              "            + ' to learn more about interactive tables.';\n",
              "          element.innerHTML = '';\n",
              "          dataTable['output_type'] = 'display_data';\n",
              "          await google.colab.output.renderOutput(dataTable, element);\n",
              "          const docLink = document.createElement('div');\n",
              "          docLink.innerHTML = docLinkHtml;\n",
              "          element.appendChild(docLink);\n",
              "        }\n",
              "      </script>\n",
              "    </div>\n",
              "  </div>\n",
              "  "
            ]
          },
          "metadata": {},
          "execution_count": 4
        }
      ]
    },
    {
      "cell_type": "code",
      "source": [
        "import nltk\n",
        "nltk.download('punkt')\n",
        "from gensim.parsing.preprocessing import remove_stopwords\n",
        "from nltk import word_tokenize\n",
        "from nltk.stem import PorterStemmer"
      ],
      "metadata": {
        "colab": {
          "base_uri": "https://localhost:8080/"
        },
        "id": "pOZfGGRHbzqr",
        "outputId": "9582b901-dfe9-453c-da86-e3d9a31394d8"
      },
      "execution_count": 5,
      "outputs": [
        {
          "output_type": "stream",
          "name": "stderr",
          "text": [
            "[nltk_data] Downloading package punkt to /root/nltk_data...\n",
            "[nltk_data]   Unzipping tokenizers/punkt.zip.\n"
          ]
        }
      ]
    },
    {
      "cell_type": "code",
      "source": [
        "ps = PorterStemmer()"
      ],
      "metadata": {
        "id": "GVsjy1TMeL29"
      },
      "execution_count": 6,
      "outputs": []
    },
    {
      "cell_type": "code",
      "source": [
        "def remove_special_char(string):\n",
        "  special_characters=[',', '?', '.']\n",
        "  normal_string = \"\".join(filter(lambda char: char not in special_characters , string))\n",
        "  return normal_string\n",
        "\n",
        "def clean_query(query):\n",
        "  query = query.lower()\n",
        "  query = query.replace('-', ' ')\n",
        "  query = remove_special_char(query)\n",
        "  query = remove_stopwords(query)\n",
        "\n",
        "  processed_tokens = []\n",
        "  for word in word_tokenize(query):\n",
        "    if not word.isnumeric():\n",
        "      processed_tokens.append(ps.stem(word))\n",
        "  return ' '.join(processed_tokens)"
      ],
      "metadata": {
        "id": "iDYjW9BrbQnQ"
      },
      "execution_count": 7,
      "outputs": []
    },
    {
      "cell_type": "code",
      "source": [
        "processed_queries = df_ques_cluster.QueryText.apply(clean_query)"
      ],
      "metadata": {
        "id": "w2tNq7-UbQs5"
      },
      "execution_count": 8,
      "outputs": []
    },
    {
      "cell_type": "code",
      "source": [
        "processed_queries"
      ],
      "metadata": {
        "colab": {
          "base_uri": "https://localhost:8080/"
        },
        "id": "EYnrji8wfML3",
        "outputId": "a24e6c80-c145-43a8-8087-0ddcdfbf4bff"
      },
      "execution_count": 9,
      "outputs": [
        {
          "output_type": "execute_result",
          "data": {
            "text/plain": [
              "0                       mao number\n",
              "1                       mao number\n",
              "2                       mao number\n",
              "3                       mao number\n",
              "4                       mao number\n",
              "                   ...            \n",
              "26714           ground nut varieti\n",
              "26715    kadiri ground nut varieti\n",
              "26716             citru scab manag\n",
              "26717             citru scab manag\n",
              "26718             citru scab manag\n",
              "Name: QueryText, Length: 26719, dtype: object"
            ]
          },
          "metadata": {},
          "execution_count": 9
        }
      ]
    },
    {
      "cell_type": "code",
      "source": [
        "from sklearn.feature_extraction.text import CountVectorizer,TfidfVectorizer\n",
        "CV = CountVectorizer()"
      ],
      "metadata": {
        "id": "pjcBOr0vaae7"
      },
      "execution_count": 37,
      "outputs": []
    },
    {
      "cell_type": "code",
      "source": [
        "vectors = CV.fit_transform(processed_queries).toarray()"
      ],
      "metadata": {
        "id": "w9-ioNSeagiw"
      },
      "execution_count": 38,
      "outputs": []
    },
    {
      "cell_type": "code",
      "source": [
        "vectors"
      ],
      "metadata": {
        "colab": {
          "base_uri": "https://localhost:8080/"
        },
        "id": "9ZDQO1n1ge6t",
        "outputId": "ab370b13-b34f-4860-db1d-8e94f0461510"
      },
      "execution_count": 39,
      "outputs": [
        {
          "output_type": "execute_result",
          "data": {
            "text/plain": [
              "array([[0, 0, 0, ..., 0, 0, 0],\n",
              "       [0, 0, 0, ..., 0, 0, 0],\n",
              "       [0, 0, 0, ..., 0, 0, 0],\n",
              "       ...,\n",
              "       [0, 0, 0, ..., 0, 0, 0],\n",
              "       [0, 0, 0, ..., 0, 0, 0],\n",
              "       [0, 0, 0, ..., 0, 0, 0]])"
            ]
          },
          "metadata": {},
          "execution_count": 39
        }
      ]
    },
    {
      "cell_type": "code",
      "source": [
        "vectors.shape"
      ],
      "metadata": {
        "colab": {
          "base_uri": "https://localhost:8080/"
        },
        "id": "E5WCOPOegyCm",
        "outputId": "f019b8ce-0c02-4944-a608-ad2df94677c0"
      },
      "execution_count": 40,
      "outputs": [
        {
          "output_type": "execute_result",
          "data": {
            "text/plain": [
              "(26719, 1103)"
            ]
          },
          "metadata": {},
          "execution_count": 40
        }
      ]
    },
    {
      "cell_type": "code",
      "source": [
        "labels = pd.get_dummies(df_ques_cluster.Cluster)"
      ],
      "metadata": {
        "id": "6Jd0PMa8ckQy"
      },
      "execution_count": 41,
      "outputs": []
    },
    {
      "cell_type": "code",
      "source": [
        "labels"
      ],
      "metadata": {
        "colab": {
          "base_uri": "https://localhost:8080/",
          "height": 424
        },
        "id": "4XKKH7bheg4j",
        "outputId": "9a338613-25f2-492b-d3ab-bd78a5117855"
      },
      "execution_count": 42,
      "outputs": [
        {
          "output_type": "execute_result",
          "data": {
            "text/plain": [
              "       1    2    3    4    5    6    7    8    9    10   ...  560  561  562  \\\n",
              "0        1    0    0    0    0    0    0    0    0    0  ...    0    0    0   \n",
              "1        1    0    0    0    0    0    0    0    0    0  ...    0    0    0   \n",
              "2        1    0    0    0    0    0    0    0    0    0  ...    0    0    0   \n",
              "3        1    0    0    0    0    0    0    0    0    0  ...    0    0    0   \n",
              "4        1    0    0    0    0    0    0    0    0    0  ...    0    0    0   \n",
              "...    ...  ...  ...  ...  ...  ...  ...  ...  ...  ...  ...  ...  ...  ...   \n",
              "26714    0    0    0    0    0    0    0    0    0    0  ...    0    0    0   \n",
              "26715    0    0    0    0    0    0    0    0    0    0  ...    0    0    0   \n",
              "26716    0    0    0    0    0    0    0    0    0    0  ...    0    0    0   \n",
              "26717    0    0    0    0    0    0    0    0    0    0  ...    0    0    0   \n",
              "26718    0    0    0    0    0    0    0    0    0    0  ...    0    0    0   \n",
              "\n",
              "       563  564  565  566  567  568  569  \n",
              "0        0    0    0    0    0    0    0  \n",
              "1        0    0    0    0    0    0    0  \n",
              "2        0    0    0    0    0    0    0  \n",
              "3        0    0    0    0    0    0    0  \n",
              "4        0    0    0    0    0    0    0  \n",
              "...    ...  ...  ...  ...  ...  ...  ...  \n",
              "26714    0    0    0    0    0    1    0  \n",
              "26715    0    0    0    0    0    1    0  \n",
              "26716    0    0    0    0    0    0    1  \n",
              "26717    0    0    0    0    0    0    1  \n",
              "26718    0    0    0    0    0    0    1  \n",
              "\n",
              "[26719 rows x 569 columns]"
            ],
            "text/html": [
              "\n",
              "  <div id=\"df-8777c9e1-1b2a-4582-b958-b5f858e97053\">\n",
              "    <div class=\"colab-df-container\">\n",
              "      <div>\n",
              "<style scoped>\n",
              "    .dataframe tbody tr th:only-of-type {\n",
              "        vertical-align: middle;\n",
              "    }\n",
              "\n",
              "    .dataframe tbody tr th {\n",
              "        vertical-align: top;\n",
              "    }\n",
              "\n",
              "    .dataframe thead th {\n",
              "        text-align: right;\n",
              "    }\n",
              "</style>\n",
              "<table border=\"1\" class=\"dataframe\">\n",
              "  <thead>\n",
              "    <tr style=\"text-align: right;\">\n",
              "      <th></th>\n",
              "      <th>1</th>\n",
              "      <th>2</th>\n",
              "      <th>3</th>\n",
              "      <th>4</th>\n",
              "      <th>5</th>\n",
              "      <th>6</th>\n",
              "      <th>7</th>\n",
              "      <th>8</th>\n",
              "      <th>9</th>\n",
              "      <th>10</th>\n",
              "      <th>...</th>\n",
              "      <th>560</th>\n",
              "      <th>561</th>\n",
              "      <th>562</th>\n",
              "      <th>563</th>\n",
              "      <th>564</th>\n",
              "      <th>565</th>\n",
              "      <th>566</th>\n",
              "      <th>567</th>\n",
              "      <th>568</th>\n",
              "      <th>569</th>\n",
              "    </tr>\n",
              "  </thead>\n",
              "  <tbody>\n",
              "    <tr>\n",
              "      <th>0</th>\n",
              "      <td>1</td>\n",
              "      <td>0</td>\n",
              "      <td>0</td>\n",
              "      <td>0</td>\n",
              "      <td>0</td>\n",
              "      <td>0</td>\n",
              "      <td>0</td>\n",
              "      <td>0</td>\n",
              "      <td>0</td>\n",
              "      <td>0</td>\n",
              "      <td>...</td>\n",
              "      <td>0</td>\n",
              "      <td>0</td>\n",
              "      <td>0</td>\n",
              "      <td>0</td>\n",
              "      <td>0</td>\n",
              "      <td>0</td>\n",
              "      <td>0</td>\n",
              "      <td>0</td>\n",
              "      <td>0</td>\n",
              "      <td>0</td>\n",
              "    </tr>\n",
              "    <tr>\n",
              "      <th>1</th>\n",
              "      <td>1</td>\n",
              "      <td>0</td>\n",
              "      <td>0</td>\n",
              "      <td>0</td>\n",
              "      <td>0</td>\n",
              "      <td>0</td>\n",
              "      <td>0</td>\n",
              "      <td>0</td>\n",
              "      <td>0</td>\n",
              "      <td>0</td>\n",
              "      <td>...</td>\n",
              "      <td>0</td>\n",
              "      <td>0</td>\n",
              "      <td>0</td>\n",
              "      <td>0</td>\n",
              "      <td>0</td>\n",
              "      <td>0</td>\n",
              "      <td>0</td>\n",
              "      <td>0</td>\n",
              "      <td>0</td>\n",
              "      <td>0</td>\n",
              "    </tr>\n",
              "    <tr>\n",
              "      <th>2</th>\n",
              "      <td>1</td>\n",
              "      <td>0</td>\n",
              "      <td>0</td>\n",
              "      <td>0</td>\n",
              "      <td>0</td>\n",
              "      <td>0</td>\n",
              "      <td>0</td>\n",
              "      <td>0</td>\n",
              "      <td>0</td>\n",
              "      <td>0</td>\n",
              "      <td>...</td>\n",
              "      <td>0</td>\n",
              "      <td>0</td>\n",
              "      <td>0</td>\n",
              "      <td>0</td>\n",
              "      <td>0</td>\n",
              "      <td>0</td>\n",
              "      <td>0</td>\n",
              "      <td>0</td>\n",
              "      <td>0</td>\n",
              "      <td>0</td>\n",
              "    </tr>\n",
              "    <tr>\n",
              "      <th>3</th>\n",
              "      <td>1</td>\n",
              "      <td>0</td>\n",
              "      <td>0</td>\n",
              "      <td>0</td>\n",
              "      <td>0</td>\n",
              "      <td>0</td>\n",
              "      <td>0</td>\n",
              "      <td>0</td>\n",
              "      <td>0</td>\n",
              "      <td>0</td>\n",
              "      <td>...</td>\n",
              "      <td>0</td>\n",
              "      <td>0</td>\n",
              "      <td>0</td>\n",
              "      <td>0</td>\n",
              "      <td>0</td>\n",
              "      <td>0</td>\n",
              "      <td>0</td>\n",
              "      <td>0</td>\n",
              "      <td>0</td>\n",
              "      <td>0</td>\n",
              "    </tr>\n",
              "    <tr>\n",
              "      <th>4</th>\n",
              "      <td>1</td>\n",
              "      <td>0</td>\n",
              "      <td>0</td>\n",
              "      <td>0</td>\n",
              "      <td>0</td>\n",
              "      <td>0</td>\n",
              "      <td>0</td>\n",
              "      <td>0</td>\n",
              "      <td>0</td>\n",
              "      <td>0</td>\n",
              "      <td>...</td>\n",
              "      <td>0</td>\n",
              "      <td>0</td>\n",
              "      <td>0</td>\n",
              "      <td>0</td>\n",
              "      <td>0</td>\n",
              "      <td>0</td>\n",
              "      <td>0</td>\n",
              "      <td>0</td>\n",
              "      <td>0</td>\n",
              "      <td>0</td>\n",
              "    </tr>\n",
              "    <tr>\n",
              "      <th>...</th>\n",
              "      <td>...</td>\n",
              "      <td>...</td>\n",
              "      <td>...</td>\n",
              "      <td>...</td>\n",
              "      <td>...</td>\n",
              "      <td>...</td>\n",
              "      <td>...</td>\n",
              "      <td>...</td>\n",
              "      <td>...</td>\n",
              "      <td>...</td>\n",
              "      <td>...</td>\n",
              "      <td>...</td>\n",
              "      <td>...</td>\n",
              "      <td>...</td>\n",
              "      <td>...</td>\n",
              "      <td>...</td>\n",
              "      <td>...</td>\n",
              "      <td>...</td>\n",
              "      <td>...</td>\n",
              "      <td>...</td>\n",
              "      <td>...</td>\n",
              "    </tr>\n",
              "    <tr>\n",
              "      <th>26714</th>\n",
              "      <td>0</td>\n",
              "      <td>0</td>\n",
              "      <td>0</td>\n",
              "      <td>0</td>\n",
              "      <td>0</td>\n",
              "      <td>0</td>\n",
              "      <td>0</td>\n",
              "      <td>0</td>\n",
              "      <td>0</td>\n",
              "      <td>0</td>\n",
              "      <td>...</td>\n",
              "      <td>0</td>\n",
              "      <td>0</td>\n",
              "      <td>0</td>\n",
              "      <td>0</td>\n",
              "      <td>0</td>\n",
              "      <td>0</td>\n",
              "      <td>0</td>\n",
              "      <td>0</td>\n",
              "      <td>1</td>\n",
              "      <td>0</td>\n",
              "    </tr>\n",
              "    <tr>\n",
              "      <th>26715</th>\n",
              "      <td>0</td>\n",
              "      <td>0</td>\n",
              "      <td>0</td>\n",
              "      <td>0</td>\n",
              "      <td>0</td>\n",
              "      <td>0</td>\n",
              "      <td>0</td>\n",
              "      <td>0</td>\n",
              "      <td>0</td>\n",
              "      <td>0</td>\n",
              "      <td>...</td>\n",
              "      <td>0</td>\n",
              "      <td>0</td>\n",
              "      <td>0</td>\n",
              "      <td>0</td>\n",
              "      <td>0</td>\n",
              "      <td>0</td>\n",
              "      <td>0</td>\n",
              "      <td>0</td>\n",
              "      <td>1</td>\n",
              "      <td>0</td>\n",
              "    </tr>\n",
              "    <tr>\n",
              "      <th>26716</th>\n",
              "      <td>0</td>\n",
              "      <td>0</td>\n",
              "      <td>0</td>\n",
              "      <td>0</td>\n",
              "      <td>0</td>\n",
              "      <td>0</td>\n",
              "      <td>0</td>\n",
              "      <td>0</td>\n",
              "      <td>0</td>\n",
              "      <td>0</td>\n",
              "      <td>...</td>\n",
              "      <td>0</td>\n",
              "      <td>0</td>\n",
              "      <td>0</td>\n",
              "      <td>0</td>\n",
              "      <td>0</td>\n",
              "      <td>0</td>\n",
              "      <td>0</td>\n",
              "      <td>0</td>\n",
              "      <td>0</td>\n",
              "      <td>1</td>\n",
              "    </tr>\n",
              "    <tr>\n",
              "      <th>26717</th>\n",
              "      <td>0</td>\n",
              "      <td>0</td>\n",
              "      <td>0</td>\n",
              "      <td>0</td>\n",
              "      <td>0</td>\n",
              "      <td>0</td>\n",
              "      <td>0</td>\n",
              "      <td>0</td>\n",
              "      <td>0</td>\n",
              "      <td>0</td>\n",
              "      <td>...</td>\n",
              "      <td>0</td>\n",
              "      <td>0</td>\n",
              "      <td>0</td>\n",
              "      <td>0</td>\n",
              "      <td>0</td>\n",
              "      <td>0</td>\n",
              "      <td>0</td>\n",
              "      <td>0</td>\n",
              "      <td>0</td>\n",
              "      <td>1</td>\n",
              "    </tr>\n",
              "    <tr>\n",
              "      <th>26718</th>\n",
              "      <td>0</td>\n",
              "      <td>0</td>\n",
              "      <td>0</td>\n",
              "      <td>0</td>\n",
              "      <td>0</td>\n",
              "      <td>0</td>\n",
              "      <td>0</td>\n",
              "      <td>0</td>\n",
              "      <td>0</td>\n",
              "      <td>0</td>\n",
              "      <td>...</td>\n",
              "      <td>0</td>\n",
              "      <td>0</td>\n",
              "      <td>0</td>\n",
              "      <td>0</td>\n",
              "      <td>0</td>\n",
              "      <td>0</td>\n",
              "      <td>0</td>\n",
              "      <td>0</td>\n",
              "      <td>0</td>\n",
              "      <td>1</td>\n",
              "    </tr>\n",
              "  </tbody>\n",
              "</table>\n",
              "<p>26719 rows × 569 columns</p>\n",
              "</div>\n",
              "      <button class=\"colab-df-convert\" onclick=\"convertToInteractive('df-8777c9e1-1b2a-4582-b958-b5f858e97053')\"\n",
              "              title=\"Convert this dataframe to an interactive table.\"\n",
              "              style=\"display:none;\">\n",
              "        \n",
              "  <svg xmlns=\"http://www.w3.org/2000/svg\" height=\"24px\"viewBox=\"0 0 24 24\"\n",
              "       width=\"24px\">\n",
              "    <path d=\"M0 0h24v24H0V0z\" fill=\"none\"/>\n",
              "    <path d=\"M18.56 5.44l.94 2.06.94-2.06 2.06-.94-2.06-.94-.94-2.06-.94 2.06-2.06.94zm-11 1L8.5 8.5l.94-2.06 2.06-.94-2.06-.94L8.5 2.5l-.94 2.06-2.06.94zm10 10l.94 2.06.94-2.06 2.06-.94-2.06-.94-.94-2.06-.94 2.06-2.06.94z\"/><path d=\"M17.41 7.96l-1.37-1.37c-.4-.4-.92-.59-1.43-.59-.52 0-1.04.2-1.43.59L10.3 9.45l-7.72 7.72c-.78.78-.78 2.05 0 2.83L4 21.41c.39.39.9.59 1.41.59.51 0 1.02-.2 1.41-.59l7.78-7.78 2.81-2.81c.8-.78.8-2.07 0-2.86zM5.41 20L4 18.59l7.72-7.72 1.47 1.35L5.41 20z\"/>\n",
              "  </svg>\n",
              "      </button>\n",
              "      \n",
              "  <style>\n",
              "    .colab-df-container {\n",
              "      display:flex;\n",
              "      flex-wrap:wrap;\n",
              "      gap: 12px;\n",
              "    }\n",
              "\n",
              "    .colab-df-convert {\n",
              "      background-color: #E8F0FE;\n",
              "      border: none;\n",
              "      border-radius: 50%;\n",
              "      cursor: pointer;\n",
              "      display: none;\n",
              "      fill: #1967D2;\n",
              "      height: 32px;\n",
              "      padding: 0 0 0 0;\n",
              "      width: 32px;\n",
              "    }\n",
              "\n",
              "    .colab-df-convert:hover {\n",
              "      background-color: #E2EBFA;\n",
              "      box-shadow: 0px 1px 2px rgba(60, 64, 67, 0.3), 0px 1px 3px 1px rgba(60, 64, 67, 0.15);\n",
              "      fill: #174EA6;\n",
              "    }\n",
              "\n",
              "    [theme=dark] .colab-df-convert {\n",
              "      background-color: #3B4455;\n",
              "      fill: #D2E3FC;\n",
              "    }\n",
              "\n",
              "    [theme=dark] .colab-df-convert:hover {\n",
              "      background-color: #434B5C;\n",
              "      box-shadow: 0px 1px 3px 1px rgba(0, 0, 0, 0.15);\n",
              "      filter: drop-shadow(0px 1px 2px rgba(0, 0, 0, 0.3));\n",
              "      fill: #FFFFFF;\n",
              "    }\n",
              "  </style>\n",
              "\n",
              "      <script>\n",
              "        const buttonEl =\n",
              "          document.querySelector('#df-8777c9e1-1b2a-4582-b958-b5f858e97053 button.colab-df-convert');\n",
              "        buttonEl.style.display =\n",
              "          google.colab.kernel.accessAllowed ? 'block' : 'none';\n",
              "\n",
              "        async function convertToInteractive(key) {\n",
              "          const element = document.querySelector('#df-8777c9e1-1b2a-4582-b958-b5f858e97053');\n",
              "          const dataTable =\n",
              "            await google.colab.kernel.invokeFunction('convertToInteractive',\n",
              "                                                     [key], {});\n",
              "          if (!dataTable) return;\n",
              "\n",
              "          const docLinkHtml = 'Like what you see? Visit the ' +\n",
              "            '<a target=\"_blank\" href=https://colab.research.google.com/notebooks/data_table.ipynb>data table notebook</a>'\n",
              "            + ' to learn more about interactive tables.';\n",
              "          element.innerHTML = '';\n",
              "          dataTable['output_type'] = 'display_data';\n",
              "          await google.colab.output.renderOutput(dataTable, element);\n",
              "          const docLink = document.createElement('div');\n",
              "          docLink.innerHTML = docLinkHtml;\n",
              "          element.appendChild(docLink);\n",
              "        }\n",
              "      </script>\n",
              "    </div>\n",
              "  </div>\n",
              "  "
            ]
          },
          "metadata": {},
          "execution_count": 42
        }
      ]
    },
    {
      "cell_type": "code",
      "source": [
        "from sklearn.model_selection import train_test_split"
      ],
      "metadata": {
        "id": "GZTVFFa5hljx"
      },
      "execution_count": 43,
      "outputs": []
    },
    {
      "cell_type": "code",
      "source": [
        "X_train, X_test, y_train, y_test = train_test_split(vectors, labels, test_size = 0.2, random_state = 42)"
      ],
      "metadata": {
        "id": "sdV73Wwbdgow"
      },
      "execution_count": 44,
      "outputs": []
    },
    {
      "cell_type": "code",
      "source": [
        "X_train.shape"
      ],
      "metadata": {
        "colab": {
          "base_uri": "https://localhost:8080/"
        },
        "outputId": "1ee125c1-942c-49f7-bfee-15e639defb5f",
        "id": "wtDm8ON_PLZo"
      },
      "execution_count": 45,
      "outputs": [
        {
          "output_type": "execute_result",
          "data": {
            "text/plain": [
              "(21375, 1103)"
            ]
          },
          "metadata": {},
          "execution_count": 45
        }
      ]
    },
    {
      "cell_type": "code",
      "source": [
        "X_train = X_train.reshape(21375, 1, 1103)\n",
        "X_test = X_test.reshape(5344, 1, 1103)"
      ],
      "metadata": {
        "id": "QE2IsSk4WxcQ"
      },
      "execution_count": 46,
      "outputs": []
    },
    {
      "cell_type": "code",
      "source": [
        "X_train"
      ],
      "metadata": {
        "colab": {
          "base_uri": "https://localhost:8080/"
        },
        "id": "ndfdEC8vsNII",
        "outputId": "32fd0944-a8da-4b95-ee86-8a954c6e4c76"
      },
      "execution_count": 47,
      "outputs": [
        {
          "output_type": "execute_result",
          "data": {
            "text/plain": [
              "array([[[0, 0, 0, ..., 0, 0, 0]],\n",
              "\n",
              "       [[0, 0, 0, ..., 0, 0, 0]],\n",
              "\n",
              "       [[0, 0, 0, ..., 0, 0, 0]],\n",
              "\n",
              "       ...,\n",
              "\n",
              "       [[0, 0, 0, ..., 0, 0, 0]],\n",
              "\n",
              "       [[0, 0, 0, ..., 0, 0, 0]],\n",
              "\n",
              "       [[0, 0, 0, ..., 0, 0, 0]]])"
            ]
          },
          "metadata": {},
          "execution_count": 47
        }
      ]
    },
    {
      "cell_type": "code",
      "source": [
        "import tensorflow as tf"
      ],
      "metadata": {
        "id": "lGx8cDn6SWTT"
      },
      "execution_count": 48,
      "outputs": []
    },
    {
      "cell_type": "code",
      "source": [
        "embed_input = tf.keras.layers.Input(shape = (1,1103), dtype = tf.float32, name = 'Inputs')\n",
        "out = tf.keras.layers.Dropout(0.1, name = 'Dropout1')(embed_input)\n",
        "out = tf.keras.layers.LSTM(1000, name = 'Dense1')(out)\n",
        "out = tf.keras.layers.Dropout(0.1, name = 'Dropout2')(out)\n",
        "out_final = tf.keras.layers.Dense(569, activation = 'softmax', name = 'Dense2')(out)"
      ],
      "metadata": {
        "id": "uETXpzoZPLZs"
      },
      "execution_count": 49,
      "outputs": []
    },
    {
      "cell_type": "code",
      "source": [
        "model = tf.keras.Model(inputs = [embed_input], outputs = [out_final])"
      ],
      "metadata": {
        "id": "41zoCnVuPLZs"
      },
      "execution_count": 50,
      "outputs": []
    },
    {
      "cell_type": "code",
      "source": [
        "model.summary()"
      ],
      "metadata": {
        "colab": {
          "base_uri": "https://localhost:8080/"
        },
        "id": "rSyVFn5dYEBV",
        "outputId": "11f205c8-c40c-4747-c066-262da12b9cf2"
      },
      "execution_count": 51,
      "outputs": [
        {
          "output_type": "stream",
          "name": "stdout",
          "text": [
            "Model: \"model_1\"\n",
            "_________________________________________________________________\n",
            " Layer (type)                Output Shape              Param #   \n",
            "=================================================================\n",
            " Inputs (InputLayer)         [(None, 1, 1103)]         0         \n",
            "                                                                 \n",
            " Dropout1 (Dropout)          (None, 1, 1103)           0         \n",
            "                                                                 \n",
            " Dense1 (LSTM)               (None, 1000)              8416000   \n",
            "                                                                 \n",
            " Dropout2 (Dropout)          (None, 1000)              0         \n",
            "                                                                 \n",
            " Dense2 (Dense)              (None, 569)               569569    \n",
            "                                                                 \n",
            "=================================================================\n",
            "Total params: 8,985,569\n",
            "Trainable params: 8,985,569\n",
            "Non-trainable params: 0\n",
            "_________________________________________________________________\n"
          ]
        }
      ]
    },
    {
      "cell_type": "code",
      "source": [
        "import keras.backend as K"
      ],
      "metadata": {
        "id": "LYEC3zjgbwig"
      },
      "execution_count": 52,
      "outputs": []
    },
    {
      "cell_type": "code",
      "source": [
        "def get_f1(y_true, y_pred): #taken from old keras source code\n",
        "    true_positives = K.sum(K.round(K.clip(y_true * y_pred, 0, 1)))\n",
        "    possible_positives = K.sum(K.round(K.clip(y_true, 0, 1)))\n",
        "    predicted_positives = K.sum(K.round(K.clip(y_pred, 0, 1)))\n",
        "    precision = true_positives / (predicted_positives + K.epsilon())\n",
        "    recall = true_positives / (possible_positives + K.epsilon())\n",
        "    f1_val = 2*(precision*recall)/(precision+recall+K.epsilon())\n",
        "    return f1_val"
      ],
      "metadata": {
        "id": "pEhtB9yzZX-c"
      },
      "execution_count": 53,
      "outputs": []
    },
    {
      "cell_type": "code",
      "source": [
        "Metrics = [tf.keras.metrics.CategoricalAccuracy(name = 'accuracy'),\n",
        "           tf.keras.metrics.Precision(name = 'precision'),\n",
        "           tf.keras.metrics.Recall(name = 'recall'),\n",
        "           get_f1\n",
        "           ]\n",
        "\n",
        "model.compile(optimizer ='adam',\n",
        "               loss = 'categorical_crossentropy',\n",
        "               metrics = Metrics)"
      ],
      "metadata": {
        "id": "ksVYZsZRYb5w"
      },
      "execution_count": 54,
      "outputs": []
    },
    {
      "cell_type": "code",
      "source": [
        "history = model.fit(X_train, y_train, validation_data = (X_test, y_test), epochs = 30)"
      ],
      "metadata": {
        "colab": {
          "base_uri": "https://localhost:8080/"
        },
        "id": "wS50G0GLYXYz",
        "outputId": "563a14e6-a310-465c-9c96-05df1d2bdb82"
      },
      "execution_count": 55,
      "outputs": [
        {
          "output_type": "stream",
          "name": "stdout",
          "text": [
            "Epoch 1/30\n",
            "668/668 [==============================] - 9s 10ms/step - loss: 1.8906 - accuracy: 0.7052 - precision: 0.9258 - recall: 0.5600 - get_f1: 0.6572 - val_loss: 0.6009 - val_accuracy: 0.8937 - val_precision: 0.9641 - val_recall: 0.8482 - val_get_f1: 0.9015\n",
            "Epoch 2/30\n",
            "668/668 [==============================] - 6s 9ms/step - loss: 0.5901 - accuracy: 0.8734 - precision: 0.9420 - recall: 0.8204 - get_f1: 0.8757 - val_loss: 0.3299 - val_accuracy: 0.9343 - val_precision: 0.9675 - val_recall: 0.8958 - val_get_f1: 0.9297\n",
            "Epoch 3/30\n",
            "668/668 [==============================] - 7s 10ms/step - loss: 0.4004 - accuracy: 0.9023 - precision: 0.9446 - recall: 0.8669 - get_f1: 0.9034 - val_loss: 0.2466 - val_accuracy: 0.9459 - val_precision: 0.9641 - val_recall: 0.9308 - val_get_f1: 0.9469\n",
            "Epoch 4/30\n",
            "668/668 [==============================] - 6s 9ms/step - loss: 0.3275 - accuracy: 0.9165 - precision: 0.9446 - recall: 0.8924 - get_f1: 0.9174 - val_loss: 0.2048 - val_accuracy: 0.9568 - val_precision: 0.9697 - val_recall: 0.9478 - val_get_f1: 0.9585\n",
            "Epoch 5/30\n",
            "668/668 [==============================] - 6s 9ms/step - loss: 0.3028 - accuracy: 0.9207 - precision: 0.9477 - recall: 0.9008 - get_f1: 0.9233 - val_loss: 0.2022 - val_accuracy: 0.9562 - val_precision: 0.9671 - val_recall: 0.9474 - val_get_f1: 0.9570\n",
            "Epoch 6/30\n",
            "668/668 [==============================] - 6s 9ms/step - loss: 0.3036 - accuracy: 0.9181 - precision: 0.9472 - recall: 0.8986 - get_f1: 0.9219 - val_loss: 0.1946 - val_accuracy: 0.9586 - val_precision: 0.9671 - val_recall: 0.9519 - val_get_f1: 0.9593\n",
            "Epoch 7/30\n",
            "668/668 [==============================] - 7s 10ms/step - loss: 0.2845 - accuracy: 0.9240 - precision: 0.9472 - recall: 0.9064 - get_f1: 0.9261 - val_loss: 0.1966 - val_accuracy: 0.9571 - val_precision: 0.9645 - val_recall: 0.9502 - val_get_f1: 0.9572\n",
            "Epoch 8/30\n",
            "668/668 [==============================] - 7s 10ms/step - loss: 0.2918 - accuracy: 0.9245 - precision: 0.9519 - recall: 0.9075 - get_f1: 0.9288 - val_loss: 0.1922 - val_accuracy: 0.9583 - val_precision: 0.9645 - val_recall: 0.9513 - val_get_f1: 0.9578\n",
            "Epoch 9/30\n",
            "668/668 [==============================] - 6s 9ms/step - loss: 0.2751 - accuracy: 0.9251 - precision: 0.9488 - recall: 0.9101 - get_f1: 0.9287 - val_loss: 0.1941 - val_accuracy: 0.9598 - val_precision: 0.9659 - val_recall: 0.9527 - val_get_f1: 0.9591\n",
            "Epoch 10/30\n",
            "668/668 [==============================] - 6s 9ms/step - loss: 0.2721 - accuracy: 0.9268 - precision: 0.9519 - recall: 0.9124 - get_f1: 0.9315 - val_loss: 0.2012 - val_accuracy: 0.9536 - val_precision: 0.9598 - val_recall: 0.9482 - val_get_f1: 0.9539\n",
            "Epoch 11/30\n",
            "668/668 [==============================] - 6s 9ms/step - loss: 0.2744 - accuracy: 0.9273 - precision: 0.9498 - recall: 0.9128 - get_f1: 0.9306 - val_loss: 0.1996 - val_accuracy: 0.9592 - val_precision: 0.9660 - val_recall: 0.9527 - val_get_f1: 0.9592\n",
            "Epoch 12/30\n",
            "668/668 [==============================] - 6s 9ms/step - loss: 0.2817 - accuracy: 0.9243 - precision: 0.9489 - recall: 0.9087 - get_f1: 0.9281 - val_loss: 0.2006 - val_accuracy: 0.9564 - val_precision: 0.9623 - val_recall: 0.9517 - val_get_f1: 0.9569\n",
            "Epoch 13/30\n",
            "668/668 [==============================] - 6s 9ms/step - loss: 0.2529 - accuracy: 0.9319 - precision: 0.9540 - recall: 0.9180 - get_f1: 0.9354 - val_loss: 0.1963 - val_accuracy: 0.9603 - val_precision: 0.9661 - val_recall: 0.9555 - val_get_f1: 0.9607\n",
            "Epoch 14/30\n",
            "668/668 [==============================] - 6s 9ms/step - loss: 0.2725 - accuracy: 0.9282 - precision: 0.9490 - recall: 0.9141 - get_f1: 0.9310 - val_loss: 0.2059 - val_accuracy: 0.9613 - val_precision: 0.9675 - val_recall: 0.9579 - val_get_f1: 0.9626\n",
            "Epoch 15/30\n",
            "668/668 [==============================] - 6s 9ms/step - loss: 0.2663 - accuracy: 0.9281 - precision: 0.9497 - recall: 0.9137 - get_f1: 0.9311 - val_loss: 0.2030 - val_accuracy: 0.9586 - val_precision: 0.9644 - val_recall: 0.9532 - val_get_f1: 0.9587\n",
            "Epoch 16/30\n",
            "668/668 [==============================] - 6s 9ms/step - loss: 0.2650 - accuracy: 0.9291 - precision: 0.9503 - recall: 0.9159 - get_f1: 0.9325 - val_loss: 0.2044 - val_accuracy: 0.9603 - val_precision: 0.9673 - val_recall: 0.9562 - val_get_f1: 0.9616\n",
            "Epoch 17/30\n",
            "668/668 [==============================] - 7s 11ms/step - loss: 0.2673 - accuracy: 0.9277 - precision: 0.9515 - recall: 0.9132 - get_f1: 0.9316 - val_loss: 0.2050 - val_accuracy: 0.9583 - val_precision: 0.9659 - val_recall: 0.9542 - val_get_f1: 0.9599\n",
            "Epoch 18/30\n",
            "668/668 [==============================] - 6s 9ms/step - loss: 0.2634 - accuracy: 0.9304 - precision: 0.9517 - recall: 0.9151 - get_f1: 0.9328 - val_loss: 0.1992 - val_accuracy: 0.9622 - val_precision: 0.9673 - val_recall: 0.9570 - val_get_f1: 0.9620\n",
            "Epoch 19/30\n",
            "668/668 [==============================] - 6s 9ms/step - loss: 0.2595 - accuracy: 0.9295 - precision: 0.9523 - recall: 0.9156 - get_f1: 0.9333 - val_loss: 0.2073 - val_accuracy: 0.9592 - val_precision: 0.9640 - val_recall: 0.9570 - val_get_f1: 0.9604\n",
            "Epoch 20/30\n",
            "668/668 [==============================] - 6s 9ms/step - loss: 0.2717 - accuracy: 0.9261 - precision: 0.9492 - recall: 0.9125 - get_f1: 0.9302 - val_loss: 0.2132 - val_accuracy: 0.9583 - val_precision: 0.9642 - val_recall: 0.9534 - val_get_f1: 0.9587\n",
            "Epoch 21/30\n",
            "668/668 [==============================] - 7s 10ms/step - loss: 0.2630 - accuracy: 0.9305 - precision: 0.9573 - recall: 0.9152 - get_f1: 0.9354 - val_loss: 0.2115 - val_accuracy: 0.9615 - val_precision: 0.9662 - val_recall: 0.9577 - val_get_f1: 0.9619\n",
            "Epoch 22/30\n",
            "668/668 [==============================] - 6s 9ms/step - loss: 0.2595 - accuracy: 0.9291 - precision: 0.9531 - recall: 0.9154 - get_f1: 0.9335 - val_loss: 0.2090 - val_accuracy: 0.9577 - val_precision: 0.9638 - val_recall: 0.9557 - val_get_f1: 0.9597\n",
            "Epoch 23/30\n",
            "668/668 [==============================] - 6s 9ms/step - loss: 0.2601 - accuracy: 0.9316 - precision: 0.9544 - recall: 0.9186 - get_f1: 0.9358 - val_loss: 0.2109 - val_accuracy: 0.9590 - val_precision: 0.9635 - val_recall: 0.9575 - val_get_f1: 0.9604\n",
            "Epoch 24/30\n",
            "668/668 [==============================] - 6s 9ms/step - loss: 0.2552 - accuracy: 0.9320 - precision: 0.9543 - recall: 0.9177 - get_f1: 0.9354 - val_loss: 0.2131 - val_accuracy: 0.9603 - val_precision: 0.9655 - val_recall: 0.9585 - val_get_f1: 0.9619\n",
            "Epoch 25/30\n",
            "668/668 [==============================] - 6s 9ms/step - loss: 0.2570 - accuracy: 0.9308 - precision: 0.9525 - recall: 0.9186 - get_f1: 0.9350 - val_loss: 0.2052 - val_accuracy: 0.9628 - val_precision: 0.9681 - val_recall: 0.9596 - val_get_f1: 0.9638\n",
            "Epoch 26/30\n",
            "668/668 [==============================] - 7s 10ms/step - loss: 0.2578 - accuracy: 0.9309 - precision: 0.9531 - recall: 0.9164 - get_f1: 0.9341 - val_loss: 0.2121 - val_accuracy: 0.9598 - val_precision: 0.9658 - val_recall: 0.9575 - val_get_f1: 0.9616\n",
            "Epoch 27/30\n",
            "668/668 [==============================] - 8s 12ms/step - loss: 0.2662 - accuracy: 0.9273 - precision: 0.9525 - recall: 0.9124 - get_f1: 0.9317 - val_loss: 0.2278 - val_accuracy: 0.9549 - val_precision: 0.9631 - val_recall: 0.9525 - val_get_f1: 0.9577\n",
            "Epoch 28/30\n",
            "668/668 [==============================] - 6s 9ms/step - loss: 0.2596 - accuracy: 0.9292 - precision: 0.9536 - recall: 0.9151 - get_f1: 0.9337 - val_loss: 0.2121 - val_accuracy: 0.9586 - val_precision: 0.9654 - val_recall: 0.9566 - val_get_f1: 0.9610\n",
            "Epoch 29/30\n",
            "668/668 [==============================] - 6s 9ms/step - loss: 0.2550 - accuracy: 0.9310 - precision: 0.9534 - recall: 0.9168 - get_f1: 0.9345 - val_loss: 0.2136 - val_accuracy: 0.9579 - val_precision: 0.9625 - val_recall: 0.9560 - val_get_f1: 0.9592\n",
            "Epoch 30/30\n",
            "668/668 [==============================] - 6s 9ms/step - loss: 0.2549 - accuracy: 0.9334 - precision: 0.9534 - recall: 0.9203 - get_f1: 0.9363 - val_loss: 0.2172 - val_accuracy: 0.9588 - val_precision: 0.9667 - val_recall: 0.9568 - val_get_f1: 0.9617\n"
          ]
        }
      ]
    },
    {
      "cell_type": "code",
      "source": [
        "y_pred = model.predict(X_test)\n",
        "y_pred = [(np.argmax(x)+1) for x in np.array(y_pred)]\n",
        "y_pred = np.array(y_pred)"
      ],
      "metadata": {
        "colab": {
          "base_uri": "https://localhost:8080/"
        },
        "id": "qekDg4F-s06J",
        "outputId": "512f7634-1d6b-4b95-e46d-238cfea95330"
      },
      "execution_count": 56,
      "outputs": [
        {
          "output_type": "stream",
          "name": "stdout",
          "text": [
            "167/167 [==============================] - 1s 3ms/step\n"
          ]
        }
      ]
    },
    {
      "cell_type": "code",
      "source": [
        "y_pred"
      ],
      "metadata": {
        "colab": {
          "base_uri": "https://localhost:8080/"
        },
        "id": "a5YCLcjytHg3",
        "outputId": "1854a1ec-55b1-4a3e-94f3-75d46c6f402f"
      },
      "execution_count": 57,
      "outputs": [
        {
          "output_type": "execute_result",
          "data": {
            "text/plain": [
              "array([ 78,   5,  66, ..., 107,  64, 287])"
            ]
          },
          "metadata": {},
          "execution_count": 57
        }
      ]
    },
    {
      "cell_type": "code",
      "source": [
        "actual = [(np.argmax(x)+1) for x in np.array(y_test)]\n",
        "actual = np.array(actual)"
      ],
      "metadata": {
        "id": "5MSYVocqYn9U"
      },
      "execution_count": 58,
      "outputs": []
    },
    {
      "cell_type": "code",
      "source": [
        "actual"
      ],
      "metadata": {
        "colab": {
          "base_uri": "https://localhost:8080/"
        },
        "id": "W7q-3hGptLOQ",
        "outputId": "1e1cbc14-31e4-4ef1-df6b-a4a63becaa3c"
      },
      "execution_count": 59,
      "outputs": [
        {
          "output_type": "execute_result",
          "data": {
            "text/plain": [
              "array([ 78,   5,  66, ..., 107,  64, 287])"
            ]
          },
          "metadata": {},
          "execution_count": 59
        }
      ]
    },
    {
      "cell_type": "code",
      "source": [
        "from sklearn.metrics import precision_recall_fscore_support, accuracy_score\n",
        "\n",
        "print('weighted', precision_recall_fscore_support(actual, y_pred, average='weighted'))\n",
        "print('micro',precision_recall_fscore_support(actual, y_pred, average='micro'))\n",
        "print('macro',precision_recall_fscore_support(actual, y_pred, average='macro'))\n",
        "print('accuracy', accuracy_score(actual, y_pred))"
      ],
      "metadata": {
        "colab": {
          "base_uri": "https://localhost:8080/"
        },
        "id": "gUCsGcr9bZ_2",
        "outputId": "9a4da24f-2578-4886-e79c-21cd37dc31ac"
      },
      "execution_count": 60,
      "outputs": [
        {
          "output_type": "stream",
          "name": "stdout",
          "text": [
            "weighted (0.954062712442487, 0.9588323353293413, 0.9531222716398846, None)\n",
            "micro (0.9588323353293413, 0.9588323353293413, 0.9588323353293413, None)\n",
            "macro (0.803351221164334, 0.8015529530134899, 0.791659830229509, None)\n",
            "accuracy 0.9588323353293413\n"
          ]
        },
        {
          "output_type": "stream",
          "name": "stderr",
          "text": [
            "/usr/local/lib/python3.7/dist-packages/sklearn/metrics/_classification.py:1318: UndefinedMetricWarning: Precision and F-score are ill-defined and being set to 0.0 in labels with no predicted samples. Use `zero_division` parameter to control this behavior.\n",
            "  _warn_prf(average, modifier, msg_start, len(result))\n",
            "/usr/local/lib/python3.7/dist-packages/sklearn/metrics/_classification.py:1318: UndefinedMetricWarning: Recall and F-score are ill-defined and being set to 0.0 in labels with no true samples. Use `zero_division` parameter to control this behavior.\n",
            "  _warn_prf(average, modifier, msg_start, len(result))\n",
            "/usr/local/lib/python3.7/dist-packages/sklearn/metrics/_classification.py:1318: UndefinedMetricWarning: Precision and F-score are ill-defined and being set to 0.0 in labels with no predicted samples. Use `zero_division` parameter to control this behavior.\n",
            "  _warn_prf(average, modifier, msg_start, len(result))\n",
            "/usr/local/lib/python3.7/dist-packages/sklearn/metrics/_classification.py:1318: UndefinedMetricWarning: Recall and F-score are ill-defined and being set to 0.0 in labels with no true samples. Use `zero_division` parameter to control this behavior.\n",
            "  _warn_prf(average, modifier, msg_start, len(result))\n"
          ]
        }
      ]
    },
    {
      "cell_type": "code",
      "source": [
        "# val_accuracy: 0.9530 - val_precision: 0.9618 - val_recall: 0.9480 - val_get_f1: 0.9547"
      ],
      "metadata": {
        "id": "DI6MIfJkiSzF"
      },
      "execution_count": 61,
      "outputs": []
    },
    {
      "cell_type": "code",
      "source": [],
      "metadata": {
        "id": "aLAUOkh9tyDo"
      },
      "execution_count": null,
      "outputs": []
    }
  ]
}